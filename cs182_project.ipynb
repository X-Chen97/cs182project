{
 "cells": [
  {
   "cell_type": "markdown",
   "id": "attended-jones",
   "metadata": {},
   "source": [
    "### CS182 project - Deliver ideas of CGCNN"
   ]
  },
  {
   "cell_type": "code",
   "execution_count": 1,
   "id": "cooperative-pressure",
   "metadata": {},
   "outputs": [],
   "source": [
    "### General Explanation"
   ]
  },
  {
   "cell_type": "markdown",
   "id": "domestic-premiere",
   "metadata": {},
   "source": [
    "### Embedding Crystal Graph"
   ]
  },
  {
   "cell_type": "code",
   "execution_count": 2,
   "id": "sonic-career",
   "metadata": {},
   "outputs": [],
   "source": [
    "# Note: Need pymatgen\n",
    "# TODO:Explain about Crystal Graph"
   ]
  },
  {
   "cell_type": "code",
   "execution_count": 10,
   "id": "labeled-exposure",
   "metadata": {},
   "outputs": [],
   "source": [
    "import os\n",
    "import sys\n",
    "import csv\n",
    "import json\n",
    "import torch\n",
    "import torch.nn as nn\n",
    "import random\n",
    "import warnings\n",
    "warnings.filterwarnings('ignore')\n",
    "import functools\n",
    "import numpy as np\n",
    "\n",
    "from pymatgen.core.structure import Structure\n",
    "from torch.utils.data import Dataset, DataLoader\n",
    "from torch.utils.data.dataloader import default_collate\n",
    "from torch.utils.data.sampler import SubsetRandomSampler\n",
    "import torch.optim as optim\n",
    "from torch.optim.lr_scheduler import MultiStepLR\n",
    "\n",
    "from data_utils import CIFData\n",
    "from data_utils import AtomCustomJSONInitializer\n",
    "from data_utils import AtomInitializer\n",
    "from data_utils import GaussianDistance"
   ]
  },
  {
   "cell_type": "code",
   "execution_count": 2,
   "id": "primary-asian",
   "metadata": {},
   "outputs": [
    {
     "name": "stdout",
     "output_type": "stream",
     "text": [
      "Full Formula (Na4 Cl4)\n",
      "Reduced Formula: NaCl\n",
      "abc   :   5.620000   5.620000   5.620000\n",
      "angles:  90.000000  90.000000  90.000000\n",
      "pbc   :       True       True       True\n",
      "Sites (8)\n",
      "  #  SP      a    b    c\n",
      "---  ----  ---  ---  ---\n",
      "  0  Na+   0    0    0\n",
      "  1  Na+   0    0.5  0.5\n",
      "  2  Na+   0.5  0    0.5\n",
      "  3  Na+   0.5  0.5  0\n",
      "  4  Cl-   0.5  0.5  0.5\n",
      "  5  Cl-   0.5  0    0\n",
      "  6  Cl-   0    0.5  0\n",
      "  7  Cl-   0    0    0.5\n"
     ]
    }
   ],
   "source": [
    "# Let's convert salt (NaCl) to crystal graph.\n",
    "# You can use print method to see the lattice and position of Na, Cl\n",
    "# Atoms in the cell.\n",
    "nacl = Structure.from_file('hw_data/cifs/1000041.cif')\n",
    "print(nacl)"
   ]
  },
  {
   "cell_type": "code",
   "execution_count": 3,
   "id": "42e9f63d",
   "metadata": {},
   "outputs": [],
   "source": [
    "# add visualization of the structure using the CIF file "
   ]
  },
  {
   "cell_type": "code",
   "execution_count": 5,
   "id": "catholic-dependence",
   "metadata": {},
   "outputs": [],
   "source": [
    "# First we will convert atoms to atomistic features using\n",
    "# pre-difined atom embedding.\n",
    "# atom_init.json is containing vector embedding of atoms,\n",
    "# Where key (1, 2, 3, ..., 100) represent atomic number\n",
    "# and values are embedding vectors.\n",
    "# You can try different atom embedding too.\n",
    "\n",
    "# Load embedding file.\n",
    "element_embedding_file = 'hw_data/atom_init.json'\n",
    "with open(element_embedding_file) as f:\n",
    "    elem_embedding = json.load(f)\n",
    "elem_embedding = {int(key): value for key, value\n",
    "                  in elem_embedding.items()}\n",
    "\n",
    "# Encode crsytal data to atomistic features.\n",
    "# Atom_feature shd have shape of (# of atoms, len(embedding vector))\n",
    "atom_fea = np.vstack([elem_embedding[nacl[i].specie.number]\n",
    "                      for i in range(len(nacl))])\n",
    "atom_fea = torch.Tensor(atom_fea)\n",
    "\n",
    "assert atom_fea.shape == (8,92)"
   ]
  },
  {
   "cell_type": "code",
   "execution_count": 6,
   "id": "fifth-variance",
   "metadata": {},
   "outputs": [],
   "source": [
    "# Next, we will get neighbor information from each atoms in the cell.\n",
    "# We will get help from pymatgen package.\n",
    "# get_all_neighbor function of structure object returns atoms within\n",
    "# the input radius. Note that here len(all_nbrs) is 8 since there are\n",
    "# 8 atoms (4 Na+, 4 Cl-) in the cell. Each list contain the neighbor\n",
    "# atom information considering periodicity.\n",
    "# We will use 12 nearest neighbors after sorting with distance.\n",
    "\n",
    "all_nbrs = nacl.get_all_neighbors(r = 8, include_index=True)\n",
    "all_nbrs = [sorted(nbrs, key=lambda x: x[1]) for nbrs in all_nbrs]\n",
    "\n",
    "assert len(all_nbrs) == 8\n",
    "\n",
    "nbr_fea_idx, nbr_fea = [], []\n",
    "for nbr in all_nbrs:\n",
    "    # Note: x[1] returns distance to neighbors.\n",
    "    # Note: x[2] returns index of original structure object\n",
    "    nbr_fea_idx.append(list(map(lambda x: x[2],\n",
    "                                nbr[:12])))\n",
    "    nbr_fea.append(list(map(lambda x: x[1],\n",
    "                            nbr[:12])))\n",
    "\n",
    "# nbr_fea_idx contain information of nearest neighbor atoms \n",
    "# from ith row (ith atom in the cell)\n",
    "# For example, 0th atom (Na+ (0.0000, 0.0000, 0.0000)) is neighbored\n",
    "# with 5th, 6th, 7th, etc...\n",
    "# nbr_fea contain information of nearest neighbot distance.\n",
    "nbr_fea_idx, nbr_fea = np.array(nbr_fea_idx), np.array(nbr_fea)\n",
    "nbr_fea_idx = torch.LongTensor(nbr_fea_idx)\n",
    "\n",
    "nbr_fea_idx_standard = torch.LongTensor([[5, 6, 7, 7, 6, 5, 2, 1, 2, 1, 3, 3],\n",
    "                                         [4, 7, 6, 7, 6, 4, 2, 0, 3, 2, 3, 3],\n",
    "                                         [4, 7, 5, 7, 5, 4, 0, 3, 1, 3, 3, 1],\n",
    "                                         [4, 6, 5, 6, 5, 4, 2, 1, 1, 2, 0, 0],\n",
    "                                         [3, 1, 2, 3, 2, 1, 6, 5, 6, 5, 7, 7],\n",
    "                                         [2, 3, 0, 3, 0, 2, 4, 4, 6, 6, 4, 7],\n",
    "                                         [1, 3, 0, 3, 0, 1, 4, 4, 5, 5, 5, 4],\n",
    "                                         [2, 1, 0, 2, 1, 0, 4, 5, 5, 4, 6, 6]])\n",
    "\n",
    "assert torch.equal(nbr_fea_idx, nbr_fea_idx_standard)"
   ]
  },
  {
   "cell_type": "code",
   "execution_count": 7,
   "id": "american-annotation",
   "metadata": {},
   "outputs": [],
   "source": [
    "# Now we have two features, atomic feature and neighbor feature.\n",
    "# Note that neighbor feature is discontionous information with respect to the distanc.\n",
    "# Therefore we will expand neighbor feature using Gaussian Kernel (or Gaussian filter)\n",
    "# https://en.wikipedia.org/wiki/Gaussian_filter\n",
    "dmin = 0\n",
    "dmax = 12\n",
    "step = 0.2\n",
    "var = step\n",
    "filter_step = np.arange(dmin, dmax+step, step)\n",
    "\n",
    "def expand(distances):\n",
    "    # Ask student to do this\n",
    "    return np.exp(-(distances[..., np.newaxis] - filter_step)**2 / var**2)\n",
    "\n",
    "nbr_fea_gaussian = expand(nbr_fea)"
   ]
  },
  {
   "cell_type": "code",
   "execution_count": 8,
   "id": "temporal-georgia",
   "metadata": {},
   "outputs": [
    {
     "ename": "AssertionError",
     "evalue": "",
     "output_type": "error",
     "traceback": [
      "\u001b[0;31m---------------------------------------------------------------------------\u001b[0m",
      "\u001b[0;31mAssertionError\u001b[0m                            Traceback (most recent call last)",
      "\u001b[1;32m/Users/XChen9/Documents/UCB/cs282/proj/cs182project/cs182_project.ipynb Cell 11\u001b[0m in \u001b[0;36m<cell line: 1>\u001b[0;34m()\u001b[0m\n\u001b[0;32m----> <a href='vscode-notebook-cell:/Users/XChen9/Documents/UCB/cs282/proj/cs182project/cs182_project.ipynb#X13sZmlsZQ%3D%3D?line=0'>1</a>\u001b[0m \u001b[39massert\u001b[39;00m np\u001b[39m.\u001b[39marray_equal(nbr_fea_gaussian, nbr_fea)\n",
      "\u001b[0;31mAssertionError\u001b[0m: "
     ]
    }
   ],
   "source": [
    "assert np.array_equal(nbr_fea_gaussian, nbr_fea)"
   ]
  },
  {
   "cell_type": "code",
   "execution_count": 9,
   "id": "typical-singles",
   "metadata": {},
   "outputs": [],
   "source": [
    "gdf = GaussianDistance(dmin=0, dmax=12, step=0.2)\n",
    "nbr_fea = gdf.expand(nbr_fea)"
   ]
  },
  {
   "cell_type": "code",
   "execution_count": 10,
   "id": "ambient-nowhere",
   "metadata": {},
   "outputs": [],
   "source": [
    "# Will not be used\n",
    "data_dir = './cgcnn_data/sample-regression'\n",
    "test = CIFData(data_dir)\n",
    "(atom_fea, nbr_fea, nbr_fea_idx), target, cif_id = test[-1]"
   ]
  },
  {
   "cell_type": "code",
   "execution_count": 11,
   "id": "egyptian-function",
   "metadata": {},
   "outputs": [],
   "source": [
    "# Will not be used\n",
    "structures, _, _ = test[-1]\n",
    "orig_atom_fea_len = structures[0].shape[-1]\n",
    "nbr_fea_len = structures[1].shape[-1]"
   ]
  },
  {
   "cell_type": "markdown",
   "id": "sized-warren",
   "metadata": {},
   "source": [
    "### Build a Model"
   ]
  },
  {
   "cell_type": "code",
   "execution_count": 12,
   "id": "pediatric-vegetation",
   "metadata": {},
   "outputs": [],
   "source": [
    "# TODO: Graphics of layers"
   ]
  },
  {
   "cell_type": "code",
   "execution_count": 2,
   "id": "norwegian-israel",
   "metadata": {},
   "outputs": [],
   "source": [
    "from model import CrystalGraphConvNet"
   ]
  },
  {
   "cell_type": "code",
   "execution_count": 14,
   "id": "sunset-jefferson",
   "metadata": {},
   "outputs": [
    {
     "data": {
      "text/plain": [
       "tensor([[0.6627]], grad_fn=<AddmmBackward0>)"
      ]
     },
     "execution_count": 14,
     "metadata": {},
     "output_type": "execute_result"
    }
   ],
   "source": [
    "# Simple test\n",
    "# Set seed using manual_seed\n",
    "# TODO explanation about crystal_atom_idx\n",
    "torch.manual_seed(123)\n",
    "crystal_atom_idx = [torch.Tensor([0, 1, 2, 3, 4, 5, 6, 7]).long()]\n",
    "model = CrystalGraphConvNet(orig_atom_fea_len, nbr_fea_len)\n",
    "model.forward(atom_fea, nbr_fea, nbr_fea_idx, crystal_atom_idx)"
   ]
  },
  {
   "cell_type": "markdown",
   "id": "corrected-geneva",
   "metadata": {},
   "source": [
    "### Training"
   ]
  },
  {
   "cell_type": "code",
   "execution_count": 2,
   "id": "198f8ba6",
   "metadata": {},
   "outputs": [],
   "source": [
    "from data_utils import collate_pool, get_train_val_test_loader\n",
    "from train_utils import Normalizer, train, validate, save_checkpoint\n",
    "from model import CrystalGraphConvNet\n",
    "from random import sample"
   ]
  },
  {
   "cell_type": "code",
   "execution_count": 3,
   "id": "executive-transsexual",
   "metadata": {},
   "outputs": [],
   "source": [
    "torch.manual_seed(123)\n",
    "\n",
    "# set parameters\n",
    "data_dir = './hw_data/perovskite_energy'\n",
    "batch_size = 8\n",
    "train_ratio, val_ratio, test_ratio = 0.8, 0.1, 0.1\n",
    "\n",
    "# get dataset\n",
    "\n",
    "dataset = CIFData(data_dir)\n",
    "collate_fn = collate_pool\n",
    "train_loader, val_loader, test_loader = get_train_val_test_loader(\n",
    "    dataset=dataset,\n",
    "    collate_fn=collate_fn,\n",
    "    batch_size=batch_size,\n",
    "    train_ratio=train_ratio,\n",
    "    val_ratio=val_ratio,\n",
    "    test_ratio=test_ratio,\n",
    "    return_test=True)"
   ]
  },
  {
   "cell_type": "code",
   "execution_count": 4,
   "id": "2909ed78",
   "metadata": {},
   "outputs": [
    {
     "name": "stderr",
     "output_type": "stream",
     "text": [
      "/Users/XChen9/opt/anaconda3/envs/cs282_env/lib/python3.10/site-packages/pymatgen/io/cif.py:1147: UserWarning: Issues encountered while parsing CIF: Some fractional coordinates rounded to ideal values to avoid issues with finite precision.\n",
      "  warnings.warn(\"Issues encountered while parsing CIF: \" + \"\\n\".join(self.warnings))\n"
     ]
    }
   ],
   "source": [
    "# normalize target\n",
    "\n",
    "if len(dataset) < 500:\n",
    "    warnings.warn('Dataset has less than 500 data points. '\n",
    "                    'Lower accuracy is expected. ')\n",
    "    sample_data_list = [dataset[i] for i in range(len(dataset))]\n",
    "else:\n",
    "    sample_data_list = [dataset[i] for i in\n",
    "                        sample(range(len(dataset)), 500)]\n",
    "_, sample_target, _ = collate_pool(sample_data_list)\n",
    "normalizer = Normalizer(sample_target)"
   ]
  },
  {
   "cell_type": "code",
   "execution_count": 5,
   "id": "8a730d9b",
   "metadata": {},
   "outputs": [],
   "source": [
    "# build model\n",
    "structures, _, _ = dataset[0]\n",
    "orig_atom_fea_len = structures[0].shape[-1]\n",
    "nbr_fea_len = structures[1].shape[-1]\n",
    "\n",
    "# number of hidden atom features in conv layers\n",
    "atom_fea_len = 64\n",
    "# number of hidden features after pooling\n",
    "h_fea_len = 128\n",
    "# number of conv layers\n",
    "n_conv = 3\n",
    "# number of hidden layers after pooling\n",
    "n_h = 1\n",
    "\n",
    "model = CrystalGraphConvNet(orig_atom_fea_len, nbr_fea_len,\n",
    "                            atom_fea_len=atom_fea_len,\n",
    "                            n_conv=n_conv,\n",
    "                            h_fea_len=h_fea_len,\n",
    "                            n_h=n_h)"
   ]
  },
  {
   "cell_type": "code",
   "execution_count": 6,
   "id": "27a259a5",
   "metadata": {},
   "outputs": [],
   "source": [
    "# set hyperparameters\n",
    "epochs = 15\n",
    "criterion = nn.MSELoss()\n",
    "lr = 0.01\n",
    "momentum = 0.9\n",
    "weight_decay = 0\n",
    "\n",
    "optimizer = optim.SGD(model.parameters(), lr,\n",
    "                              momentum=momentum,\n",
    "                              weight_decay=weight_decay)\n",
    "\n",
    "# optimizer = optim.Adam(model.parameters(), lr,\n",
    "#                         weight_decay=weight_decay)\n",
    "lr_milestones = [100]\n",
    "scheduler = MultiStepLR(optimizer, milestones=lr_milestones,\n",
    "                            gamma=0.1)"
   ]
  },
  {
   "cell_type": "code",
   "execution_count": 11,
   "id": "f47e96c7",
   "metadata": {},
   "outputs": [
    {
     "name": "stderr",
     "output_type": "stream",
     "text": [
      "/Users/XChen9/opt/anaconda3/envs/cs282_env/lib/python3.10/site-packages/scipy/__init__.py:146: UserWarning: A NumPy version >=1.16.5 and <1.23.0 is required for this version of SciPy (detected version 1.23.1\n",
      "  warnings.warn(f\"A NumPy version >={np_minversion} and <{np_maxversion}\"\n",
      "/Users/XChen9/opt/anaconda3/envs/cs282_env/lib/python3.10/site-packages/pymatgen/io/cif.py:1147: UserWarning: Issues encountered while parsing CIF: Some fractional coordinates rounded to ideal values to avoid issues with finite precision.\n",
      "  warnings.warn(\"Issues encountered while parsing CIF: \" + \"\\n\".join(self.warnings))\n"
     ]
    },
    {
     "name": "stdout",
     "output_type": "stream",
     "text": [
      "Epoch: [0][0/67]\tTime 4.174 (4.174)\tData 4.149 (4.149)\tLoss 0.2806 (0.2806)\tMAE 33.661 (33.661)\n",
      "Epoch: [0][10/67]\tTime 0.173 (0.506)\tData 0.144 (0.481)\tLoss 0.2260 (0.4284)\tMAE 27.904 (31.323)\n",
      "Epoch: [0][20/67]\tTime 0.199 (0.329)\tData 0.168 (0.304)\tLoss 0.9276 (0.4242)\tMAE 40.531 (31.370)\n",
      "Epoch: [0][30/67]\tTime 0.099 (0.266)\tData 0.076 (0.240)\tLoss 0.2496 (0.4043)\tMAE 28.405 (30.997)\n",
      "Epoch: [0][40/67]\tTime 0.131 (0.239)\tData 0.103 (0.213)\tLoss 0.0990 (0.4683)\tMAE 21.543 (31.908)\n",
      "Epoch: [0][50/67]\tTime 0.173 (0.222)\tData 0.140 (0.196)\tLoss 0.7011 (0.4656)\tMAE 49.489 (32.808)\n",
      "Epoch: [0][60/67]\tTime 0.185 (0.217)\tData 0.159 (0.190)\tLoss 0.6097 (0.5658)\tMAE 55.410 (34.588)\n"
     ]
    },
    {
     "name": "stderr",
     "output_type": "stream",
     "text": [
      "/Users/XChen9/opt/anaconda3/envs/cs282_env/lib/python3.10/site-packages/scipy/__init__.py:146: UserWarning: A NumPy version >=1.16.5 and <1.23.0 is required for this version of SciPy (detected version 1.23.1\n",
      "  warnings.warn(f\"A NumPy version >={np_minversion} and <{np_maxversion}\"\n"
     ]
    },
    {
     "name": "stdout",
     "output_type": "stream",
     "text": [
      "Test: [0/9]\tTime 3.988 (3.988)\tLoss 0.2735 (0.2735)\tMAE 34.290 (34.290)\n"
     ]
    },
    {
     "name": "stderr",
     "output_type": "stream",
     "text": [
      "/Users/XChen9/opt/anaconda3/envs/cs282_env/lib/python3.10/site-packages/pymatgen/io/cif.py:1147: UserWarning: Issues encountered while parsing CIF: Some fractional coordinates rounded to ideal values to avoid issues with finite precision.\n",
      "  warnings.warn(\"Issues encountered while parsing CIF: \" + \"\\n\".join(self.warnings))\n"
     ]
    },
    {
     "name": "stdout",
     "output_type": "stream",
     "text": [
      " * MAE 62.041\n"
     ]
    },
    {
     "name": "stderr",
     "output_type": "stream",
     "text": [
      "/Users/XChen9/opt/anaconda3/envs/cs282_env/lib/python3.10/site-packages/scipy/__init__.py:146: UserWarning: A NumPy version >=1.16.5 and <1.23.0 is required for this version of SciPy (detected version 1.23.1\n",
      "  warnings.warn(f\"A NumPy version >={np_minversion} and <{np_maxversion}\"\n",
      "/Users/XChen9/opt/anaconda3/envs/cs282_env/lib/python3.10/site-packages/pymatgen/io/cif.py:1147: UserWarning: Issues encountered while parsing CIF: Some fractional coordinates rounded to ideal values to avoid issues with finite precision.\n",
      "  warnings.warn(\"Issues encountered while parsing CIF: \" + \"\\n\".join(self.warnings))\n"
     ]
    },
    {
     "name": "stdout",
     "output_type": "stream",
     "text": [
      "Epoch: [1][0/67]\tTime 4.171 (4.171)\tData 4.144 (4.144)\tLoss 0.2162 (0.2162)\tMAE 32.096 (32.096)\n",
      "Epoch: [1][10/67]\tTime 0.080 (0.494)\tData 0.052 (0.466)\tLoss 0.2973 (0.4158)\tMAE 40.910 (32.976)\n",
      "Epoch: [1][20/67]\tTime 0.167 (0.325)\tData 0.136 (0.297)\tLoss 0.4507 (0.6693)\tMAE 37.172 (40.992)\n",
      "Epoch: [1][30/67]\tTime 0.255 (0.270)\tData 0.205 (0.242)\tLoss 3.6540 (0.7501)\tMAE 86.633 (41.564)\n",
      "Epoch: [1][40/67]\tTime 0.123 (0.237)\tData 0.099 (0.210)\tLoss 0.2269 (0.6288)\tMAE 27.458 (38.487)\n",
      "Epoch: [1][50/67]\tTime 0.108 (0.222)\tData 0.081 (0.194)\tLoss 0.2174 (0.5636)\tMAE 32.236 (37.268)\n",
      "Epoch: [1][60/67]\tTime 0.179 (0.217)\tData 0.150 (0.188)\tLoss 0.0719 (0.5981)\tMAE 13.082 (37.436)\n"
     ]
    },
    {
     "name": "stderr",
     "output_type": "stream",
     "text": [
      "/Users/XChen9/opt/anaconda3/envs/cs282_env/lib/python3.10/site-packages/scipy/__init__.py:146: UserWarning: A NumPy version >=1.16.5 and <1.23.0 is required for this version of SciPy (detected version 1.23.1\n",
      "  warnings.warn(f\"A NumPy version >={np_minversion} and <{np_maxversion}\"\n",
      "/Users/XChen9/opt/anaconda3/envs/cs282_env/lib/python3.10/site-packages/pymatgen/io/cif.py:1147: UserWarning: Issues encountered while parsing CIF: Some fractional coordinates rounded to ideal values to avoid issues with finite precision.\n",
      "  warnings.warn(\"Issues encountered while parsing CIF: \" + \"\\n\".join(self.warnings))\n"
     ]
    },
    {
     "name": "stdout",
     "output_type": "stream",
     "text": [
      "Test: [0/9]\tTime 3.866 (3.866)\tLoss 0.1769 (0.1769)\tMAE 24.936 (24.936)\n",
      " * MAE 47.265\n"
     ]
    },
    {
     "name": "stderr",
     "output_type": "stream",
     "text": [
      "/Users/XChen9/opt/anaconda3/envs/cs282_env/lib/python3.10/site-packages/scipy/__init__.py:146: UserWarning: A NumPy version >=1.16.5 and <1.23.0 is required for this version of SciPy (detected version 1.23.1\n",
      "  warnings.warn(f\"A NumPy version >={np_minversion} and <{np_maxversion}\"\n",
      "/Users/XChen9/opt/anaconda3/envs/cs282_env/lib/python3.10/site-packages/pymatgen/io/cif.py:1147: UserWarning: Issues encountered while parsing CIF: Some fractional coordinates rounded to ideal values to avoid issues with finite precision.\n",
      "  warnings.warn(\"Issues encountered while parsing CIF: \" + \"\\n\".join(self.warnings))\n"
     ]
    },
    {
     "name": "stdout",
     "output_type": "stream",
     "text": [
      "Epoch: [2][0/67]\tTime 4.025 (4.025)\tData 3.999 (3.999)\tLoss 0.1654 (0.1654)\tMAE 22.428 (22.428)\n",
      "Epoch: [2][10/67]\tTime 0.187 (0.490)\tData 0.156 (0.464)\tLoss 0.5146 (0.4998)\tMAE 30.591 (32.601)\n",
      "Epoch: [2][20/67]\tTime 0.082 (0.326)\tData 0.060 (0.299)\tLoss 0.1939 (0.6601)\tMAE 30.182 (35.491)\n",
      "Epoch: [2][30/67]\tTime 0.191 (0.261)\tData 0.155 (0.235)\tLoss 0.2796 (0.5313)\tMAE 25.685 (34.110)\n",
      "Epoch: [2][40/67]\tTime 0.155 (0.233)\tData 0.130 (0.207)\tLoss 0.0647 (0.5090)\tMAE 17.004 (34.367)\n",
      "Epoch: [2][50/67]\tTime 0.128 (0.217)\tData 0.100 (0.191)\tLoss 0.4045 (0.5317)\tMAE 36.333 (34.877)\n",
      "Epoch: [2][60/67]\tTime 0.150 (0.208)\tData 0.126 (0.180)\tLoss 0.2873 (0.5137)\tMAE 34.638 (34.106)\n"
     ]
    },
    {
     "name": "stderr",
     "output_type": "stream",
     "text": [
      "/Users/XChen9/opt/anaconda3/envs/cs282_env/lib/python3.10/site-packages/scipy/__init__.py:146: UserWarning: A NumPy version >=1.16.5 and <1.23.0 is required for this version of SciPy (detected version 1.23.1\n",
      "  warnings.warn(f\"A NumPy version >={np_minversion} and <{np_maxversion}\"\n",
      "/Users/XChen9/opt/anaconda3/envs/cs282_env/lib/python3.10/site-packages/pymatgen/io/cif.py:1147: UserWarning: Issues encountered while parsing CIF: Some fractional coordinates rounded to ideal values to avoid issues with finite precision.\n",
      "  warnings.warn(\"Issues encountered while parsing CIF: \" + \"\\n\".join(self.warnings))\n"
     ]
    },
    {
     "name": "stdout",
     "output_type": "stream",
     "text": [
      "Test: [0/9]\tTime 3.970 (3.970)\tLoss 0.3331 (0.3331)\tMAE 37.114 (37.114)\n",
      " * MAE 37.180\n"
     ]
    },
    {
     "name": "stderr",
     "output_type": "stream",
     "text": [
      "/Users/XChen9/opt/anaconda3/envs/cs282_env/lib/python3.10/site-packages/scipy/__init__.py:146: UserWarning: A NumPy version >=1.16.5 and <1.23.0 is required for this version of SciPy (detected version 1.23.1\n",
      "  warnings.warn(f\"A NumPy version >={np_minversion} and <{np_maxversion}\"\n",
      "/Users/XChen9/opt/anaconda3/envs/cs282_env/lib/python3.10/site-packages/pymatgen/io/cif.py:1147: UserWarning: Issues encountered while parsing CIF: Some fractional coordinates rounded to ideal values to avoid issues with finite precision.\n",
      "  warnings.warn(\"Issues encountered while parsing CIF: \" + \"\\n\".join(self.warnings))\n"
     ]
    },
    {
     "name": "stdout",
     "output_type": "stream",
     "text": [
      "Epoch: [3][0/67]\tTime 4.116 (4.116)\tData 4.090 (4.090)\tLoss 0.1915 (0.1915)\tMAE 25.482 (25.482)\n",
      "Epoch: [3][10/67]\tTime 0.118 (0.508)\tData 0.099 (0.481)\tLoss 0.4429 (0.4854)\tMAE 47.275 (35.168)\n",
      "Epoch: [3][20/67]\tTime 0.093 (0.329)\tData 0.074 (0.302)\tLoss 0.1300 (0.4238)\tMAE 21.316 (33.470)\n",
      "Epoch: [3][30/67]\tTime 0.117 (0.268)\tData 0.095 (0.241)\tLoss 0.1396 (0.4238)\tMAE 25.126 (33.110)\n",
      "Epoch: [3][40/67]\tTime 0.100 (0.245)\tData 0.078 (0.217)\tLoss 0.4427 (0.4572)\tMAE 49.124 (34.942)\n",
      "Epoch: [3][50/67]\tTime 0.124 (0.230)\tData 0.101 (0.202)\tLoss 0.1866 (0.5403)\tMAE 32.779 (36.064)\n",
      "Epoch: [3][60/67]\tTime 0.193 (0.217)\tData 0.164 (0.188)\tLoss 0.3944 (0.5059)\tMAE 36.211 (34.639)\n"
     ]
    },
    {
     "name": "stderr",
     "output_type": "stream",
     "text": [
      "/Users/XChen9/opt/anaconda3/envs/cs282_env/lib/python3.10/site-packages/scipy/__init__.py:146: UserWarning: A NumPy version >=1.16.5 and <1.23.0 is required for this version of SciPy (detected version 1.23.1\n",
      "  warnings.warn(f\"A NumPy version >={np_minversion} and <{np_maxversion}\"\n"
     ]
    },
    {
     "name": "stdout",
     "output_type": "stream",
     "text": [
      "Test: [0/9]\tTime 3.803 (3.803)\tLoss 0.1328 (0.1328)\tMAE 22.599 (22.599)\n"
     ]
    },
    {
     "name": "stderr",
     "output_type": "stream",
     "text": [
      "/Users/XChen9/opt/anaconda3/envs/cs282_env/lib/python3.10/site-packages/pymatgen/io/cif.py:1147: UserWarning: Issues encountered while parsing CIF: Some fractional coordinates rounded to ideal values to avoid issues with finite precision.\n",
      "  warnings.warn(\"Issues encountered while parsing CIF: \" + \"\\n\".join(self.warnings))\n"
     ]
    },
    {
     "name": "stdout",
     "output_type": "stream",
     "text": [
      " * MAE 41.498\n"
     ]
    },
    {
     "name": "stderr",
     "output_type": "stream",
     "text": [
      "/Users/XChen9/opt/anaconda3/envs/cs282_env/lib/python3.10/site-packages/scipy/__init__.py:146: UserWarning: A NumPy version >=1.16.5 and <1.23.0 is required for this version of SciPy (detected version 1.23.1\n",
      "  warnings.warn(f\"A NumPy version >={np_minversion} and <{np_maxversion}\"\n",
      "/Users/XChen9/opt/anaconda3/envs/cs282_env/lib/python3.10/site-packages/pymatgen/io/cif.py:1147: UserWarning: Issues encountered while parsing CIF: Some fractional coordinates rounded to ideal values to avoid issues with finite precision.\n",
      "  warnings.warn(\"Issues encountered while parsing CIF: \" + \"\\n\".join(self.warnings))\n"
     ]
    },
    {
     "name": "stdout",
     "output_type": "stream",
     "text": [
      "Epoch: [4][0/67]\tTime 3.975 (3.975)\tData 3.947 (3.947)\tLoss 0.0808 (0.0808)\tMAE 14.079 (14.079)\n",
      "Epoch: [4][10/67]\tTime 0.074 (0.497)\tData 0.053 (0.464)\tLoss 1.3206 (0.7289)\tMAE 81.152 (36.244)\n",
      "Epoch: [4][20/67]\tTime 0.157 (0.324)\tData 0.133 (0.294)\tLoss 0.1289 (0.6021)\tMAE 19.363 (36.151)\n",
      "Epoch: [4][30/67]\tTime 0.166 (0.266)\tData 0.139 (0.235)\tLoss 0.0561 (0.5469)\tMAE 16.138 (34.099)\n",
      "Epoch: [4][40/67]\tTime 0.177 (0.240)\tData 0.145 (0.209)\tLoss 0.1343 (0.5142)\tMAE 23.284 (34.241)\n",
      "Epoch: [4][50/67]\tTime 0.121 (0.223)\tData 0.089 (0.193)\tLoss 0.2556 (0.5118)\tMAE 28.796 (34.097)\n",
      "Epoch: [4][60/67]\tTime 0.150 (0.213)\tData 0.111 (0.183)\tLoss 0.2790 (0.5388)\tMAE 32.774 (35.748)\n"
     ]
    },
    {
     "name": "stderr",
     "output_type": "stream",
     "text": [
      "/Users/XChen9/opt/anaconda3/envs/cs282_env/lib/python3.10/site-packages/scipy/__init__.py:146: UserWarning: A NumPy version >=1.16.5 and <1.23.0 is required for this version of SciPy (detected version 1.23.1\n",
      "  warnings.warn(f\"A NumPy version >={np_minversion} and <{np_maxversion}\"\n",
      "/Users/XChen9/opt/anaconda3/envs/cs282_env/lib/python3.10/site-packages/pymatgen/io/cif.py:1147: UserWarning: Issues encountered while parsing CIF: Some fractional coordinates rounded to ideal values to avoid issues with finite precision.\n",
      "  warnings.warn(\"Issues encountered while parsing CIF: \" + \"\\n\".join(self.warnings))\n"
     ]
    },
    {
     "name": "stdout",
     "output_type": "stream",
     "text": [
      "Test: [0/9]\tTime 4.107 (4.107)\tLoss 2.1809 (2.1809)\tMAE 94.566 (94.566)\n",
      " * MAE 55.424\n"
     ]
    },
    {
     "name": "stderr",
     "output_type": "stream",
     "text": [
      "/Users/XChen9/opt/anaconda3/envs/cs282_env/lib/python3.10/site-packages/scipy/__init__.py:146: UserWarning: A NumPy version >=1.16.5 and <1.23.0 is required for this version of SciPy (detected version 1.23.1\n",
      "  warnings.warn(f\"A NumPy version >={np_minversion} and <{np_maxversion}\"\n",
      "/Users/XChen9/opt/anaconda3/envs/cs282_env/lib/python3.10/site-packages/pymatgen/io/cif.py:1147: UserWarning: Issues encountered while parsing CIF: Some fractional coordinates rounded to ideal values to avoid issues with finite precision.\n",
      "  warnings.warn(\"Issues encountered while parsing CIF: \" + \"\\n\".join(self.warnings))\n"
     ]
    },
    {
     "name": "stdout",
     "output_type": "stream",
     "text": [
      "Epoch: [5][0/67]\tTime 5.273 (5.273)\tData 5.123 (5.123)\tLoss 5.4160 (5.4160)\tMAE 131.260 (131.260)\n",
      "Epoch: [5][10/67]\tTime 0.374 (0.715)\tData 0.278 (0.622)\tLoss 0.4092 (1.1857)\tMAE 35.552 (50.309)\n",
      "Epoch: [5][20/67]\tTime 0.276 (0.497)\tData 0.206 (0.418)\tLoss 0.0435 (0.9553)\tMAE 15.285 (47.045)\n",
      "Epoch: [5][30/67]\tTime 0.154 (0.411)\tData 0.117 (0.338)\tLoss 0.1168 (0.7195)\tMAE 22.252 (40.874)\n",
      "Epoch: [5][40/67]\tTime 0.092 (0.347)\tData 0.070 (0.285)\tLoss 0.1375 (0.6110)\tMAE 25.502 (37.626)\n",
      "Epoch: [5][50/67]\tTime 0.192 (0.307)\tData 0.169 (0.251)\tLoss 0.0366 (0.5385)\tMAE 12.196 (35.206)\n",
      "Epoch: [5][60/67]\tTime 0.167 (0.284)\tData 0.143 (0.232)\tLoss 0.6370 (0.5225)\tMAE 34.554 (34.908)\n"
     ]
    },
    {
     "name": "stderr",
     "output_type": "stream",
     "text": [
      "/Users/XChen9/opt/anaconda3/envs/cs282_env/lib/python3.10/site-packages/scipy/__init__.py:146: UserWarning: A NumPy version >=1.16.5 and <1.23.0 is required for this version of SciPy (detected version 1.23.1\n",
      "  warnings.warn(f\"A NumPy version >={np_minversion} and <{np_maxversion}\"\n"
     ]
    },
    {
     "name": "stdout",
     "output_type": "stream",
     "text": [
      "Test: [0/9]\tTime 4.318 (4.318)\tLoss 0.1747 (0.1747)\tMAE 28.157 (28.157)\n"
     ]
    },
    {
     "name": "stderr",
     "output_type": "stream",
     "text": [
      "/Users/XChen9/opt/anaconda3/envs/cs282_env/lib/python3.10/site-packages/pymatgen/io/cif.py:1147: UserWarning: Issues encountered while parsing CIF: Some fractional coordinates rounded to ideal values to avoid issues with finite precision.\n",
      "  warnings.warn(\"Issues encountered while parsing CIF: \" + \"\\n\".join(self.warnings))\n"
     ]
    },
    {
     "name": "stdout",
     "output_type": "stream",
     "text": [
      " * MAE 38.763\n"
     ]
    },
    {
     "name": "stderr",
     "output_type": "stream",
     "text": [
      "/Users/XChen9/opt/anaconda3/envs/cs282_env/lib/python3.10/site-packages/scipy/__init__.py:146: UserWarning: A NumPy version >=1.16.5 and <1.23.0 is required for this version of SciPy (detected version 1.23.1\n",
      "  warnings.warn(f\"A NumPy version >={np_minversion} and <{np_maxversion}\"\n"
     ]
    },
    {
     "name": "stdout",
     "output_type": "stream",
     "text": [
      "Epoch: [6][0/67]\tTime 4.798 (4.798)\tData 4.771 (4.771)\tLoss 0.4615 (0.4615)\tMAE 41.225 (41.225)\n"
     ]
    },
    {
     "name": "stderr",
     "output_type": "stream",
     "text": [
      "/Users/XChen9/opt/anaconda3/envs/cs282_env/lib/python3.10/site-packages/pymatgen/io/cif.py:1147: UserWarning: Issues encountered while parsing CIF: Some fractional coordinates rounded to ideal values to avoid issues with finite precision.\n",
      "  warnings.warn(\"Issues encountered while parsing CIF: \" + \"\\n\".join(self.warnings))\n"
     ]
    },
    {
     "name": "stdout",
     "output_type": "stream",
     "text": [
      "Epoch: [6][10/67]\tTime 0.105 (0.594)\tData 0.066 (0.543)\tLoss 0.0779 (0.2944)\tMAE 15.299 (30.862)\n",
      "Epoch: [6][20/67]\tTime 0.211 (0.426)\tData 0.160 (0.368)\tLoss 0.3534 (0.3725)\tMAE 30.058 (31.751)\n",
      "Epoch: [6][30/67]\tTime 0.157 (0.384)\tData 0.110 (0.318)\tLoss 0.1812 (0.4184)\tMAE 29.057 (34.832)\n",
      "Epoch: [6][40/67]\tTime 0.148 (0.345)\tData 0.121 (0.282)\tLoss 0.1879 (0.4427)\tMAE 26.660 (36.207)\n",
      "Epoch: [6][50/67]\tTime 0.161 (0.311)\tData 0.126 (0.254)\tLoss 0.0827 (0.4288)\tMAE 19.727 (35.172)\n",
      "Epoch: [6][60/67]\tTime 0.138 (0.293)\tData 0.098 (0.236)\tLoss 0.1378 (0.4715)\tMAE 22.450 (36.690)\n"
     ]
    },
    {
     "name": "stderr",
     "output_type": "stream",
     "text": [
      "/Users/XChen9/opt/anaconda3/envs/cs282_env/lib/python3.10/site-packages/scipy/__init__.py:146: UserWarning: A NumPy version >=1.16.5 and <1.23.0 is required for this version of SciPy (detected version 1.23.1\n",
      "  warnings.warn(f\"A NumPy version >={np_minversion} and <{np_maxversion}\"\n",
      "/Users/XChen9/opt/anaconda3/envs/cs282_env/lib/python3.10/site-packages/pymatgen/io/cif.py:1147: UserWarning: Issues encountered while parsing CIF: Some fractional coordinates rounded to ideal values to avoid issues with finite precision.\n",
      "  warnings.warn(\"Issues encountered while parsing CIF: \" + \"\\n\".join(self.warnings))\n"
     ]
    },
    {
     "name": "stdout",
     "output_type": "stream",
     "text": [
      "Test: [0/9]\tTime 6.022 (6.022)\tLoss 0.4549 (0.4549)\tMAE 38.987 (38.987)\n",
      " * MAE 32.877\n"
     ]
    },
    {
     "name": "stderr",
     "output_type": "stream",
     "text": [
      "/Users/XChen9/opt/anaconda3/envs/cs282_env/lib/python3.10/site-packages/scipy/__init__.py:146: UserWarning: A NumPy version >=1.16.5 and <1.23.0 is required for this version of SciPy (detected version 1.23.1\n",
      "  warnings.warn(f\"A NumPy version >={np_minversion} and <{np_maxversion}\"\n"
     ]
    },
    {
     "name": "stdout",
     "output_type": "stream",
     "text": [
      "Epoch: [7][0/67]\tTime 5.104 (5.104)\tData 5.057 (5.057)\tLoss 1.2032 (1.2032)\tMAE 60.582 (60.582)\n"
     ]
    },
    {
     "name": "stderr",
     "output_type": "stream",
     "text": [
      "/Users/XChen9/opt/anaconda3/envs/cs282_env/lib/python3.10/site-packages/pymatgen/io/cif.py:1147: UserWarning: Issues encountered while parsing CIF: Some fractional coordinates rounded to ideal values to avoid issues with finite precision.\n",
      "  warnings.warn(\"Issues encountered while parsing CIF: \" + \"\\n\".join(self.warnings))\n"
     ]
    },
    {
     "name": "stdout",
     "output_type": "stream",
     "text": [
      "Epoch: [7][10/67]\tTime 0.113 (0.642)\tData 0.087 (0.585)\tLoss 0.1335 (0.5059)\tMAE 24.466 (43.351)\n",
      "Epoch: [7][20/67]\tTime 0.309 (0.419)\tData 0.246 (0.373)\tLoss 1.1074 (0.5037)\tMAE 50.862 (40.960)\n",
      "Epoch: [7][30/67]\tTime 0.236 (0.352)\tData 0.196 (0.307)\tLoss 0.2293 (0.5112)\tMAE 30.798 (40.398)\n",
      "Epoch: [7][40/67]\tTime 0.175 (0.315)\tData 0.140 (0.270)\tLoss 0.7153 (0.5501)\tMAE 43.474 (40.422)\n",
      "Epoch: [7][50/67]\tTime 0.187 (0.287)\tData 0.141 (0.243)\tLoss 0.1917 (0.5296)\tMAE 23.188 (39.482)\n",
      "Epoch: [7][60/67]\tTime 0.196 (0.271)\tData 0.166 (0.228)\tLoss 0.2351 (0.4847)\tMAE 31.101 (37.045)\n"
     ]
    },
    {
     "name": "stderr",
     "output_type": "stream",
     "text": [
      "/Users/XChen9/opt/anaconda3/envs/cs282_env/lib/python3.10/site-packages/scipy/__init__.py:146: UserWarning: A NumPy version >=1.16.5 and <1.23.0 is required for this version of SciPy (detected version 1.23.1\n",
      "  warnings.warn(f\"A NumPy version >={np_minversion} and <{np_maxversion}\"\n"
     ]
    },
    {
     "name": "stdout",
     "output_type": "stream",
     "text": [
      "Test: [0/9]\tTime 4.774 (4.774)\tLoss 0.0182 (0.0182)\tMAE 9.561 (9.561)\n"
     ]
    },
    {
     "name": "stderr",
     "output_type": "stream",
     "text": [
      "/Users/XChen9/opt/anaconda3/envs/cs282_env/lib/python3.10/site-packages/pymatgen/io/cif.py:1147: UserWarning: Issues encountered while parsing CIF: Some fractional coordinates rounded to ideal values to avoid issues with finite precision.\n",
      "  warnings.warn(\"Issues encountered while parsing CIF: \" + \"\\n\".join(self.warnings))\n"
     ]
    },
    {
     "name": "stdout",
     "output_type": "stream",
     "text": [
      " * MAE 34.392\n"
     ]
    },
    {
     "name": "stderr",
     "output_type": "stream",
     "text": [
      "/Users/XChen9/opt/anaconda3/envs/cs282_env/lib/python3.10/site-packages/scipy/__init__.py:146: UserWarning: A NumPy version >=1.16.5 and <1.23.0 is required for this version of SciPy (detected version 1.23.1\n",
      "  warnings.warn(f\"A NumPy version >={np_minversion} and <{np_maxversion}\"\n",
      "/Users/XChen9/opt/anaconda3/envs/cs282_env/lib/python3.10/site-packages/pymatgen/io/cif.py:1147: UserWarning: Issues encountered while parsing CIF: Some fractional coordinates rounded to ideal values to avoid issues with finite precision.\n",
      "  warnings.warn(\"Issues encountered while parsing CIF: \" + \"\\n\".join(self.warnings))\n"
     ]
    },
    {
     "name": "stdout",
     "output_type": "stream",
     "text": [
      "Epoch: [8][0/67]\tTime 4.757 (4.757)\tData 4.725 (4.725)\tLoss 0.3419 (0.3419)\tMAE 38.151 (38.151)\n",
      "Epoch: [8][10/67]\tTime 0.090 (0.601)\tData 0.061 (0.561)\tLoss 0.2959 (0.6291)\tMAE 40.075 (36.898)\n",
      "Epoch: [8][20/67]\tTime 0.103 (0.424)\tData 0.078 (0.381)\tLoss 0.2526 (0.5653)\tMAE 36.961 (38.016)\n",
      "Epoch: [8][30/67]\tTime 0.311 (0.357)\tData 0.269 (0.316)\tLoss 0.3743 (0.5305)\tMAE 35.245 (37.780)\n",
      "Epoch: [8][40/67]\tTime 0.111 (0.314)\tData 0.085 (0.272)\tLoss 0.0567 (0.4525)\tMAE 16.721 (34.924)\n",
      "Epoch: [8][50/67]\tTime 0.255 (0.293)\tData 0.206 (0.251)\tLoss 0.2837 (0.4567)\tMAE 25.701 (34.398)\n",
      "Epoch: [8][60/67]\tTime 0.147 (0.275)\tData 0.118 (0.233)\tLoss 0.1834 (0.4333)\tMAE 27.639 (34.610)\n"
     ]
    },
    {
     "name": "stderr",
     "output_type": "stream",
     "text": [
      "/Users/XChen9/opt/anaconda3/envs/cs282_env/lib/python3.10/site-packages/scipy/__init__.py:146: UserWarning: A NumPy version >=1.16.5 and <1.23.0 is required for this version of SciPy (detected version 1.23.1\n",
      "  warnings.warn(f\"A NumPy version >={np_minversion} and <{np_maxversion}\"\n",
      "/Users/XChen9/opt/anaconda3/envs/cs282_env/lib/python3.10/site-packages/pymatgen/io/cif.py:1147: UserWarning: Issues encountered while parsing CIF: Some fractional coordinates rounded to ideal values to avoid issues with finite precision.\n",
      "  warnings.warn(\"Issues encountered while parsing CIF: \" + \"\\n\".join(self.warnings))\n"
     ]
    },
    {
     "name": "stdout",
     "output_type": "stream",
     "text": [
      "Test: [0/9]\tTime 4.260 (4.260)\tLoss 1.2740 (1.2740)\tMAE 63.013 (63.013)\n",
      " * MAE 41.071\n"
     ]
    },
    {
     "name": "stderr",
     "output_type": "stream",
     "text": [
      "/Users/XChen9/opt/anaconda3/envs/cs282_env/lib/python3.10/site-packages/scipy/__init__.py:146: UserWarning: A NumPy version >=1.16.5 and <1.23.0 is required for this version of SciPy (detected version 1.23.1\n",
      "  warnings.warn(f\"A NumPy version >={np_minversion} and <{np_maxversion}\"\n",
      "/Users/XChen9/opt/anaconda3/envs/cs282_env/lib/python3.10/site-packages/pymatgen/io/cif.py:1147: UserWarning: Issues encountered while parsing CIF: Some fractional coordinates rounded to ideal values to avoid issues with finite precision.\n",
      "  warnings.warn(\"Issues encountered while parsing CIF: \" + \"\\n\".join(self.warnings))\n"
     ]
    },
    {
     "name": "stdout",
     "output_type": "stream",
     "text": [
      "Epoch: [9][0/67]\tTime 4.075 (4.075)\tData 4.053 (4.053)\tLoss 0.1521 (0.1521)\tMAE 25.077 (25.077)\n",
      "Epoch: [9][10/67]\tTime 0.157 (0.494)\tData 0.127 (0.469)\tLoss 0.3805 (0.3237)\tMAE 36.517 (26.542)\n",
      "Epoch: [9][20/67]\tTime 0.137 (0.329)\tData 0.115 (0.303)\tLoss 0.2524 (0.4506)\tMAE 31.187 (32.501)\n",
      "Epoch: [9][30/67]\tTime 0.106 (0.281)\tData 0.081 (0.251)\tLoss 0.2478 (0.4751)\tMAE 31.255 (33.522)\n",
      "Epoch: [9][40/67]\tTime 0.211 (0.260)\tData 0.186 (0.229)\tLoss 0.1590 (0.4346)\tMAE 26.126 (32.183)\n",
      "Epoch: [9][50/67]\tTime 0.143 (0.244)\tData 0.115 (0.213)\tLoss 0.2609 (0.4008)\tMAE 35.301 (31.701)\n",
      "Epoch: [9][60/67]\tTime 0.139 (0.230)\tData 0.118 (0.199)\tLoss 0.4291 (0.4189)\tMAE 40.670 (32.093)\n"
     ]
    },
    {
     "name": "stderr",
     "output_type": "stream",
     "text": [
      "/Users/XChen9/opt/anaconda3/envs/cs282_env/lib/python3.10/site-packages/scipy/__init__.py:146: UserWarning: A NumPy version >=1.16.5 and <1.23.0 is required for this version of SciPy (detected version 1.23.1\n",
      "  warnings.warn(f\"A NumPy version >={np_minversion} and <{np_maxversion}\"\n",
      "/Users/XChen9/opt/anaconda3/envs/cs282_env/lib/python3.10/site-packages/pymatgen/io/cif.py:1147: UserWarning: Issues encountered while parsing CIF: Some fractional coordinates rounded to ideal values to avoid issues with finite precision.\n",
      "  warnings.warn(\"Issues encountered while parsing CIF: \" + \"\\n\".join(self.warnings))\n"
     ]
    },
    {
     "name": "stdout",
     "output_type": "stream",
     "text": [
      "Test: [0/9]\tTime 4.194 (4.194)\tLoss 0.1188 (0.1188)\tMAE 21.267 (21.267)\n",
      " * MAE 46.972\n"
     ]
    },
    {
     "name": "stderr",
     "output_type": "stream",
     "text": [
      "/Users/XChen9/opt/anaconda3/envs/cs282_env/lib/python3.10/site-packages/scipy/__init__.py:146: UserWarning: A NumPy version >=1.16.5 and <1.23.0 is required for this version of SciPy (detected version 1.23.1\n",
      "  warnings.warn(f\"A NumPy version >={np_minversion} and <{np_maxversion}\"\n",
      "/Users/XChen9/opt/anaconda3/envs/cs282_env/lib/python3.10/site-packages/pymatgen/io/cif.py:1147: UserWarning: Issues encountered while parsing CIF: Some fractional coordinates rounded to ideal values to avoid issues with finite precision.\n",
      "  warnings.warn(\"Issues encountered while parsing CIF: \" + \"\\n\".join(self.warnings))\n"
     ]
    },
    {
     "name": "stdout",
     "output_type": "stream",
     "text": [
      "Epoch: [10][0/67]\tTime 4.278 (4.278)\tData 4.251 (4.251)\tLoss 0.2240 (0.2240)\tMAE 30.050 (30.050)\n",
      "Epoch: [10][10/67]\tTime 0.117 (0.505)\tData 0.091 (0.480)\tLoss 0.0448 (0.4201)\tMAE 13.951 (30.798)\n",
      "Epoch: [10][20/67]\tTime 0.162 (0.343)\tData 0.128 (0.310)\tLoss 0.5876 (0.5305)\tMAE 39.796 (37.671)\n",
      "Epoch: [10][30/67]\tTime 0.100 (0.280)\tData 0.077 (0.248)\tLoss 0.0818 (0.4823)\tMAE 18.064 (35.066)\n",
      "Epoch: [10][40/67]\tTime 0.103 (0.247)\tData 0.080 (0.216)\tLoss 0.0168 (0.4477)\tMAE 7.298 (33.290)\n",
      "Epoch: [10][50/67]\tTime 0.096 (0.245)\tData 0.073 (0.207)\tLoss 0.4013 (0.4633)\tMAE 43.726 (34.126)\n",
      "Epoch: [10][60/67]\tTime 0.156 (0.225)\tData 0.129 (0.190)\tLoss 0.1651 (0.4332)\tMAE 29.955 (33.865)\n"
     ]
    },
    {
     "name": "stderr",
     "output_type": "stream",
     "text": [
      "/Users/XChen9/opt/anaconda3/envs/cs282_env/lib/python3.10/site-packages/scipy/__init__.py:146: UserWarning: A NumPy version >=1.16.5 and <1.23.0 is required for this version of SciPy (detected version 1.23.1\n",
      "  warnings.warn(f\"A NumPy version >={np_minversion} and <{np_maxversion}\"\n"
     ]
    },
    {
     "name": "stdout",
     "output_type": "stream",
     "text": [
      "Test: [0/9]\tTime 5.161 (5.161)\tLoss 0.2406 (0.2406)\tMAE 30.573 (30.573)\n"
     ]
    },
    {
     "name": "stderr",
     "output_type": "stream",
     "text": [
      "/Users/XChen9/opt/anaconda3/envs/cs282_env/lib/python3.10/site-packages/pymatgen/io/cif.py:1147: UserWarning: Issues encountered while parsing CIF: Some fractional coordinates rounded to ideal values to avoid issues with finite precision.\n",
      "  warnings.warn(\"Issues encountered while parsing CIF: \" + \"\\n\".join(self.warnings))\n"
     ]
    },
    {
     "name": "stdout",
     "output_type": "stream",
     "text": [
      " * MAE 37.595\n"
     ]
    },
    {
     "name": "stderr",
     "output_type": "stream",
     "text": [
      "/Users/XChen9/opt/anaconda3/envs/cs282_env/lib/python3.10/site-packages/scipy/__init__.py:146: UserWarning: A NumPy version >=1.16.5 and <1.23.0 is required for this version of SciPy (detected version 1.23.1\n",
      "  warnings.warn(f\"A NumPy version >={np_minversion} and <{np_maxversion}\"\n"
     ]
    },
    {
     "name": "stdout",
     "output_type": "stream",
     "text": [
      "Epoch: [11][0/67]\tTime 4.663 (4.663)\tData 4.637 (4.637)\tLoss 0.2169 (0.2169)\tMAE 30.399 (30.399)\n"
     ]
    },
    {
     "name": "stderr",
     "output_type": "stream",
     "text": [
      "/Users/XChen9/opt/anaconda3/envs/cs282_env/lib/python3.10/site-packages/pymatgen/io/cif.py:1147: UserWarning: Issues encountered while parsing CIF: Some fractional coordinates rounded to ideal values to avoid issues with finite precision.\n",
      "  warnings.warn(\"Issues encountered while parsing CIF: \" + \"\\n\".join(self.warnings))\n"
     ]
    },
    {
     "name": "stdout",
     "output_type": "stream",
     "text": [
      "Epoch: [11][10/67]\tTime 0.240 (0.544)\tData 0.198 (0.517)\tLoss 2.1983 (0.3381)\tMAE 85.936 (28.806)\n",
      "Epoch: [11][20/67]\tTime 0.158 (0.339)\tData 0.115 (0.314)\tLoss 0.4609 (0.4252)\tMAE 33.067 (33.389)\n",
      "Epoch: [11][30/67]\tTime 0.157 (0.274)\tData 0.130 (0.248)\tLoss 0.0691 (0.4393)\tMAE 19.011 (32.476)\n",
      "Epoch: [11][40/67]\tTime 0.330 (0.274)\tData 0.284 (0.238)\tLoss 0.6025 (0.4568)\tMAE 45.531 (33.119)\n",
      "Epoch: [11][50/67]\tTime 0.104 (0.261)\tData 0.079 (0.224)\tLoss 0.0611 (0.4773)\tMAE 13.241 (33.396)\n",
      "Epoch: [11][60/67]\tTime 0.266 (0.248)\tData 0.215 (0.208)\tLoss 3.1125 (0.4996)\tMAE 82.552 (33.632)\n"
     ]
    },
    {
     "name": "stderr",
     "output_type": "stream",
     "text": [
      "/Users/XChen9/opt/anaconda3/envs/cs282_env/lib/python3.10/site-packages/scipy/__init__.py:146: UserWarning: A NumPy version >=1.16.5 and <1.23.0 is required for this version of SciPy (detected version 1.23.1\n",
      "  warnings.warn(f\"A NumPy version >={np_minversion} and <{np_maxversion}\"\n",
      "/Users/XChen9/opt/anaconda3/envs/cs282_env/lib/python3.10/site-packages/pymatgen/io/cif.py:1147: UserWarning: Issues encountered while parsing CIF: Some fractional coordinates rounded to ideal values to avoid issues with finite precision.\n",
      "  warnings.warn(\"Issues encountered while parsing CIF: \" + \"\\n\".join(self.warnings))\n"
     ]
    },
    {
     "name": "stdout",
     "output_type": "stream",
     "text": [
      "Test: [0/9]\tTime 4.490 (4.490)\tLoss 0.8158 (0.8158)\tMAE 43.290 (43.290)\n",
      " * MAE 53.350\n"
     ]
    },
    {
     "name": "stderr",
     "output_type": "stream",
     "text": [
      "/Users/XChen9/opt/anaconda3/envs/cs282_env/lib/python3.10/site-packages/scipy/__init__.py:146: UserWarning: A NumPy version >=1.16.5 and <1.23.0 is required for this version of SciPy (detected version 1.23.1\n",
      "  warnings.warn(f\"A NumPy version >={np_minversion} and <{np_maxversion}\"\n"
     ]
    },
    {
     "name": "stdout",
     "output_type": "stream",
     "text": [
      "Epoch: [12][0/67]\tTime 4.480 (4.480)\tData 4.460 (4.460)\tLoss 0.1702 (0.1702)\tMAE 26.113 (26.113)\n"
     ]
    },
    {
     "name": "stderr",
     "output_type": "stream",
     "text": [
      "/Users/XChen9/opt/anaconda3/envs/cs282_env/lib/python3.10/site-packages/pymatgen/io/cif.py:1147: UserWarning: Issues encountered while parsing CIF: Some fractional coordinates rounded to ideal values to avoid issues with finite precision.\n",
      "  warnings.warn(\"Issues encountered while parsing CIF: \" + \"\\n\".join(self.warnings))\n"
     ]
    },
    {
     "name": "stdout",
     "output_type": "stream",
     "text": [
      "Epoch: [12][10/67]\tTime 0.265 (0.569)\tData 0.204 (0.526)\tLoss 0.1067 (0.4938)\tMAE 20.978 (34.577)\n",
      "Epoch: [12][20/67]\tTime 0.067 (0.379)\tData 0.046 (0.341)\tLoss 0.2766 (0.5203)\tMAE 37.055 (37.242)\n",
      "Epoch: [12][30/67]\tTime 0.168 (0.299)\tData 0.146 (0.265)\tLoss 0.0984 (0.4311)\tMAE 22.558 (34.585)\n",
      "Epoch: [12][40/67]\tTime 0.207 (0.259)\tData 0.183 (0.228)\tLoss 0.0509 (0.3635)\tMAE 14.234 (30.946)\n",
      "Epoch: [12][50/67]\tTime 0.101 (0.241)\tData 0.075 (0.210)\tLoss 0.2263 (0.3702)\tMAE 27.671 (29.787)\n",
      "Epoch: [12][60/67]\tTime 0.083 (0.227)\tData 0.062 (0.197)\tLoss 0.5622 (0.3549)\tMAE 47.992 (30.060)\n"
     ]
    },
    {
     "name": "stderr",
     "output_type": "stream",
     "text": [
      "/Users/XChen9/opt/anaconda3/envs/cs282_env/lib/python3.10/site-packages/scipy/__init__.py:146: UserWarning: A NumPy version >=1.16.5 and <1.23.0 is required for this version of SciPy (detected version 1.23.1\n",
      "  warnings.warn(f\"A NumPy version >={np_minversion} and <{np_maxversion}\"\n",
      "/Users/XChen9/opt/anaconda3/envs/cs282_env/lib/python3.10/site-packages/pymatgen/io/cif.py:1147: UserWarning: Issues encountered while parsing CIF: Some fractional coordinates rounded to ideal values to avoid issues with finite precision.\n",
      "  warnings.warn(\"Issues encountered while parsing CIF: \" + \"\\n\".join(self.warnings))\n"
     ]
    },
    {
     "name": "stdout",
     "output_type": "stream",
     "text": [
      "Test: [0/9]\tTime 4.087 (4.087)\tLoss 0.5369 (0.5369)\tMAE 38.020 (38.020)\n",
      " * MAE 41.242\n"
     ]
    },
    {
     "name": "stderr",
     "output_type": "stream",
     "text": [
      "/Users/XChen9/opt/anaconda3/envs/cs282_env/lib/python3.10/site-packages/scipy/__init__.py:146: UserWarning: A NumPy version >=1.16.5 and <1.23.0 is required for this version of SciPy (detected version 1.23.1\n",
      "  warnings.warn(f\"A NumPy version >={np_minversion} and <{np_maxversion}\"\n",
      "/Users/XChen9/opt/anaconda3/envs/cs282_env/lib/python3.10/site-packages/pymatgen/io/cif.py:1147: UserWarning: Issues encountered while parsing CIF: Some fractional coordinates rounded to ideal values to avoid issues with finite precision.\n",
      "  warnings.warn(\"Issues encountered while parsing CIF: \" + \"\\n\".join(self.warnings))\n"
     ]
    },
    {
     "name": "stdout",
     "output_type": "stream",
     "text": [
      "Epoch: [13][0/67]\tTime 4.110 (4.110)\tData 4.082 (4.082)\tLoss 0.0350 (0.0350)\tMAE 10.244 (10.244)\n",
      "Epoch: [13][10/67]\tTime 0.079 (0.500)\tData 0.057 (0.471)\tLoss 0.0458 (0.4286)\tMAE 11.100 (31.277)\n",
      "Epoch: [13][20/67]\tTime 0.101 (0.339)\tData 0.069 (0.308)\tLoss 0.1457 (0.4509)\tMAE 26.722 (30.901)\n",
      "Epoch: [13][30/67]\tTime 0.314 (0.297)\tData 0.250 (0.257)\tLoss 2.0181 (0.4448)\tMAE 73.606 (31.790)\n",
      "Epoch: [13][40/67]\tTime 0.163 (0.267)\tData 0.137 (0.229)\tLoss 0.0811 (0.4779)\tMAE 16.309 (31.435)\n",
      "Epoch: [13][50/67]\tTime 0.189 (0.250)\tData 0.163 (0.210)\tLoss 0.6603 (0.5050)\tMAE 38.515 (33.613)\n",
      "Epoch: [13][60/67]\tTime 0.147 (0.240)\tData 0.123 (0.198)\tLoss 0.0574 (0.4996)\tMAE 15.993 (33.068)\n"
     ]
    },
    {
     "name": "stderr",
     "output_type": "stream",
     "text": [
      "/Users/XChen9/opt/anaconda3/envs/cs282_env/lib/python3.10/site-packages/scipy/__init__.py:146: UserWarning: A NumPy version >=1.16.5 and <1.23.0 is required for this version of SciPy (detected version 1.23.1\n",
      "  warnings.warn(f\"A NumPy version >={np_minversion} and <{np_maxversion}\"\n"
     ]
    },
    {
     "name": "stdout",
     "output_type": "stream",
     "text": [
      "Test: [0/9]\tTime 4.926 (4.926)\tLoss 0.0698 (0.0698)\tMAE 17.816 (17.816)\n"
     ]
    },
    {
     "name": "stderr",
     "output_type": "stream",
     "text": [
      "/Users/XChen9/opt/anaconda3/envs/cs282_env/lib/python3.10/site-packages/pymatgen/io/cif.py:1147: UserWarning: Issues encountered while parsing CIF: Some fractional coordinates rounded to ideal values to avoid issues with finite precision.\n",
      "  warnings.warn(\"Issues encountered while parsing CIF: \" + \"\\n\".join(self.warnings))\n"
     ]
    },
    {
     "name": "stdout",
     "output_type": "stream",
     "text": [
      " * MAE 33.741\n"
     ]
    },
    {
     "name": "stderr",
     "output_type": "stream",
     "text": [
      "/Users/XChen9/opt/anaconda3/envs/cs282_env/lib/python3.10/site-packages/scipy/__init__.py:146: UserWarning: A NumPy version >=1.16.5 and <1.23.0 is required for this version of SciPy (detected version 1.23.1\n",
      "  warnings.warn(f\"A NumPy version >={np_minversion} and <{np_maxversion}\"\n",
      "/Users/XChen9/opt/anaconda3/envs/cs282_env/lib/python3.10/site-packages/pymatgen/io/cif.py:1147: UserWarning: Issues encountered while parsing CIF: Some fractional coordinates rounded to ideal values to avoid issues with finite precision.\n",
      "  warnings.warn(\"Issues encountered while parsing CIF: \" + \"\\n\".join(self.warnings))\n"
     ]
    },
    {
     "name": "stdout",
     "output_type": "stream",
     "text": [
      "Epoch: [14][0/67]\tTime 4.046 (4.046)\tData 4.021 (4.021)\tLoss 0.1527 (0.1527)\tMAE 28.092 (28.092)\n",
      "Epoch: [14][10/67]\tTime 0.107 (0.499)\tData 0.081 (0.472)\tLoss 0.2020 (0.2569)\tMAE 31.608 (28.263)\n",
      "Epoch: [14][20/67]\tTime 0.205 (0.340)\tData 0.170 (0.311)\tLoss 0.1723 (0.2780)\tMAE 22.488 (29.299)\n",
      "Epoch: [14][30/67]\tTime 0.117 (0.287)\tData 0.097 (0.257)\tLoss 0.1051 (0.2559)\tMAE 18.838 (26.860)\n",
      "Epoch: [14][40/67]\tTime 0.197 (0.256)\tData 0.163 (0.226)\tLoss 0.1952 (0.3270)\tMAE 29.434 (27.938)\n",
      "Epoch: [14][50/67]\tTime 0.186 (0.237)\tData 0.154 (0.206)\tLoss 0.1825 (0.3276)\tMAE 29.538 (28.590)\n",
      "Epoch: [14][60/67]\tTime 0.126 (0.225)\tData 0.104 (0.195)\tLoss 0.2848 (0.3781)\tMAE 33.501 (30.566)\n"
     ]
    },
    {
     "name": "stderr",
     "output_type": "stream",
     "text": [
      "/Users/XChen9/opt/anaconda3/envs/cs282_env/lib/python3.10/site-packages/scipy/__init__.py:146: UserWarning: A NumPy version >=1.16.5 and <1.23.0 is required for this version of SciPy (detected version 1.23.1\n",
      "  warnings.warn(f\"A NumPy version >={np_minversion} and <{np_maxversion}\"\n"
     ]
    },
    {
     "name": "stdout",
     "output_type": "stream",
     "text": [
      "Test: [0/9]\tTime 4.526 (4.526)\tLoss 0.3072 (0.3072)\tMAE 37.472 (37.472)\n"
     ]
    },
    {
     "name": "stderr",
     "output_type": "stream",
     "text": [
      "/Users/XChen9/opt/anaconda3/envs/cs282_env/lib/python3.10/site-packages/pymatgen/io/cif.py:1147: UserWarning: Issues encountered while parsing CIF: Some fractional coordinates rounded to ideal values to avoid issues with finite precision.\n",
      "  warnings.warn(\"Issues encountered while parsing CIF: \" + \"\\n\".join(self.warnings))\n"
     ]
    },
    {
     "name": "stdout",
     "output_type": "stream",
     "text": [
      " * MAE 42.685\n"
     ]
    }
   ],
   "source": [
    "for epoch in range(epochs):\n",
    "    best_mae_error = 1e10\n",
    "    # train for one epoch\n",
    "    # TO-Do, add tqdm in the train method, don't print too much here\n",
    "    # To-Do, fix warning\n",
    "    train(train_loader, model, criterion, optimizer, epoch, normalizer)\n",
    "\n",
    "    # evaluate on validation set\n",
    "    mae_error = validate(val_loader, model, criterion, normalizer)\n",
    "\n",
    "    if mae_error != mae_error:\n",
    "        print('Exit due to NaN')\n",
    "        sys.exit(1)\n",
    "\n",
    "    scheduler.step()\n",
    "\n",
    "    # remember the best mae_eror and save checkpoint\n",
    "    is_best = mae_error < best_mae_error\n",
    "    best_mae_error = min(mae_error, best_mae_error)\n",
    "\n",
    "    save_checkpoint({\n",
    "        'epoch': epoch + 1,\n",
    "        'state_dict': model.state_dict(),\n",
    "        'best_mae_error': best_mae_error,\n",
    "        'optimizer': optimizer.state_dict(),\n",
    "        'normalizer': normalizer.state_dict(),\n",
    "    }, is_best)\n"
   ]
  },
  {
   "cell_type": "code",
   "execution_count": 12,
   "id": "34297460",
   "metadata": {},
   "outputs": [
    {
     "name": "stdout",
     "output_type": "stream",
     "text": [
      "---------Evaluate Model on Test Set---------------\n"
     ]
    },
    {
     "name": "stderr",
     "output_type": "stream",
     "text": [
      "/Users/XChen9/opt/anaconda3/envs/cs282_env/lib/python3.10/site-packages/scipy/__init__.py:146: UserWarning: A NumPy version >=1.16.5 and <1.23.0 is required for this version of SciPy (detected version 1.23.1\n",
      "  warnings.warn(f\"A NumPy version >={np_minversion} and <{np_maxversion}\"\n",
      "/Users/XChen9/opt/anaconda3/envs/cs282_env/lib/python3.10/site-packages/pymatgen/io/cif.py:1147: UserWarning: Issues encountered while parsing CIF: Some fractional coordinates rounded to ideal values to avoid issues with finite precision.\n",
      "  warnings.warn(\"Issues encountered while parsing CIF: \" + \"\\n\".join(self.warnings))\n"
     ]
    },
    {
     "name": "stdout",
     "output_type": "stream",
     "text": [
      "Test: [0/9]\tTime 4.027 (4.027)\tLoss 0.7605 (0.7605)\tMAE 48.910 (48.910)\n",
      " ** MAE 54.624\n"
     ]
    },
    {
     "data": {
      "text/plain": [
       "tensor(54.6244)"
      ]
     },
     "execution_count": 12,
     "metadata": {},
     "output_type": "execute_result"
    }
   ],
   "source": [
    "# test best model\n",
    "print('---------Evaluate Model on Test Set---------------')\n",
    "best_checkpoint = torch.load('model_best.pth.tar')\n",
    "model.load_state_dict(best_checkpoint['state_dict'])\n",
    "validate(test_loader, model, criterion, normalizer, test=True)"
   ]
  },
  {
   "cell_type": "code",
   "execution_count": null,
   "id": "42fa4f39",
   "metadata": {},
   "outputs": [],
   "source": [
    "# hw task, visualize the training loss"
   ]
  },
  {
   "cell_type": "code",
   "execution_count": null,
   "id": "a462976b",
   "metadata": {},
   "outputs": [],
   "source": []
  },
  {
   "cell_type": "code",
   "execution_count": null,
   "id": "9db2072a",
   "metadata": {},
   "outputs": [],
   "source": []
  }
 ],
 "metadata": {
  "kernelspec": {
   "display_name": "cs282_env",
   "language": "python",
   "name": "python3"
  },
  "language_info": {
   "codemirror_mode": {
    "name": "ipython",
    "version": 3
   },
   "file_extension": ".py",
   "mimetype": "text/x-python",
   "name": "python",
   "nbconvert_exporter": "python",
   "pygments_lexer": "ipython3",
   "version": "3.10.4"
  }
 },
 "nbformat": 4,
 "nbformat_minor": 5
}
