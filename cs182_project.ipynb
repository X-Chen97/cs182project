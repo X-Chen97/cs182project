{
 "cells": [
  {
   "cell_type": "markdown",
   "id": "attended-jones",
   "metadata": {},
   "source": [
    "### CS182 project - Deliver ideas of CGCNN"
   ]
  },
  {
   "cell_type": "code",
   "execution_count": 1,
   "id": "cooperative-pressure",
   "metadata": {},
   "outputs": [],
   "source": [
    "### General Explanation"
   ]
  },
  {
   "cell_type": "markdown",
   "id": "domestic-premiere",
   "metadata": {},
   "source": [
    "### Embedding Crystal Graph"
   ]
  },
  {
   "cell_type": "code",
   "execution_count": 2,
   "id": "sonic-career",
   "metadata": {},
   "outputs": [],
   "source": [
    "# Note: Need pymatgen\n",
    "# TODO:Explain about Crystal Graph"
   ]
  },
  {
   "cell_type": "code",
   "execution_count": 1,
   "id": "labeled-exposure",
   "metadata": {},
   "outputs": [],
   "source": [
    "import os\n",
    "import sys\n",
    "import csv\n",
    "import json\n",
    "import torch\n",
    "import torch.nn as nn\n",
    "import random\n",
    "import warnings\n",
    "warnings.filterwarnings('ignore')\n",
    "import functools\n",
    "import numpy as np\n",
    "\n",
    "from pymatgen.core.structure import Structure\n",
    "from torch.utils.data import Dataset, DataLoader\n",
    "from torch.utils.data.dataloader import default_collate\n",
    "from torch.utils.data.sampler import SubsetRandomSampler\n",
    "import torch.optim as optim\n",
    "from torch.optim.lr_scheduler import MultiStepLR\n",
    "\n",
    "from data_utils import CIFData\n",
    "from data_utils import AtomCustomJSONInitializer\n",
    "from data_utils import AtomInitializer\n",
    "from data_utils import GaussianDistance"
   ]
  },
  {
   "cell_type": "code",
   "execution_count": 6,
   "id": "primary-asian",
   "metadata": {},
   "outputs": [
    {
     "name": "stdout",
     "output_type": "stream",
     "text": [
      "Full Formula (Na4 Cl4)\n",
      "Reduced Formula: NaCl\n",
      "abc   :   5.620000   5.620000   5.620000\n",
      "angles:  90.000000  90.000000  90.000000\n",
      "pbc   :       True       True       True\n",
      "Sites (8)\n",
      "  #  SP      a    b    c\n",
      "---  ----  ---  ---  ---\n",
      "  0  Na+   0    0    0\n",
      "  1  Na+   0    0.5  0.5\n",
      "  2  Na+   0.5  0    0.5\n",
      "  3  Na+   0.5  0.5  0\n",
      "  4  Cl-   0.5  0.5  0.5\n",
      "  5  Cl-   0.5  0    0\n",
      "  6  Cl-   0    0.5  0\n",
      "  7  Cl-   0    0    0.5\n"
     ]
    }
   ],
   "source": [
    "# Let's convert salt (NaCl) to crystal graph.\n",
    "# You can use print method to see the lattice and position of Na, Cl\n",
    "# Atoms in the cell.\n",
    "nacl = Structure.from_file('hw_data/cifs/1000041.cif')\n",
    "print(nacl)"
   ]
  },
  {
   "cell_type": "code",
   "execution_count": 7,
   "id": "42e9f63d",
   "metadata": {},
   "outputs": [],
   "source": [
    "# add visualization of the structure using the CIF file "
   ]
  },
  {
   "cell_type": "code",
   "execution_count": 9,
   "id": "catholic-dependence",
   "metadata": {},
   "outputs": [],
   "source": [
    "# First we will convert atoms to atomistic features using\n",
    "# pre-difined atom embedding.\n",
    "# atom_init.json is containing vector embedding of atoms,\n",
    "# Where key (1, 2, 3, ..., 100) represent atomic number\n",
    "# and values are embedding vectors.\n",
    "# You can try different atom embedding too.\n",
    "\n",
    "# Load embedding file.\n",
    "element_embedding_file = 'hw_data/atom_init.json'\n",
    "with open(element_embedding_file) as f:\n",
    "    elem_embedding = json.load(f)\n",
    "elem_embedding = {int(key): value for key, value\n",
    "                  in elem_embedding.items()}\n",
    "\n",
    "# Encode crsytal data to atomistic features.\n",
    "# Atom_feature shd have shape of (# of atoms, len(embedding vector))\n",
    "atom_fea = np.vstack([elem_embedding[nacl[i].specie.number]\n",
    "                      for i in range(len(nacl))])\n",
    "atom_fea = torch.Tensor(atom_fea)\n",
    "\n",
    "assert atom_fea.shape == (8,92)"
   ]
  },
  {
   "cell_type": "code",
   "execution_count": 10,
   "id": "fifth-variance",
   "metadata": {},
   "outputs": [],
   "source": [
    "# Next, we will get neighbor information from each atoms in the cell.\n",
    "# We will get help from pymatgen package.\n",
    "# get_all_neighbor function of structure object returns atoms within\n",
    "# the input radius. Note that here len(all_nbrs) is 8 since there are\n",
    "# 8 atoms (4 Na+, 4 Cl-) in the cell. Each list contain the neighbor\n",
    "# atom information considering periodicity.\n",
    "# We will use 12 nearest neighbors after sorting with distance.\n",
    "\n",
    "all_nbrs = nacl.get_all_neighbors(r = 8, include_index=True)\n",
    "all_nbrs = [sorted(nbrs, key=lambda x: x[1]) for nbrs in all_nbrs]\n",
    "\n",
    "assert len(all_nbrs) == 8\n",
    "\n",
    "nbr_fea_idx, nbr_fea = [], []\n",
    "for nbr in all_nbrs:\n",
    "    # Note: x[1] returns distance to neighbors.\n",
    "    # Note: x[2] returns index of original structure object\n",
    "    nbr_fea_idx.append(list(map(lambda x: x[2],\n",
    "                                nbr[:12])))\n",
    "    nbr_fea.append(list(map(lambda x: x[1],\n",
    "                            nbr[:12])))\n",
    "\n",
    "# nbr_fea_idx contain information of nearest neighbor atoms \n",
    "# from ith row (ith atom in the cell)\n",
    "# For example, 0th atom (Na+ (0.0000, 0.0000, 0.0000)) is neighbored\n",
    "# with 5th, 6th, 7th, etc...\n",
    "# nbr_fea contain information of nearest neighbot distance.\n",
    "nbr_fea_idx, nbr_fea = np.array(nbr_fea_idx), np.array(nbr_fea)\n",
    "nbr_fea_idx = torch.LongTensor(nbr_fea_idx)\n",
    "\n",
    "nbr_fea_idx_standard = torch.LongTensor([[5, 6, 7, 7, 6, 5, 2, 1, 2, 1, 3, 3],\n",
    "                                         [4, 7, 6, 7, 6, 4, 2, 0, 3, 2, 3, 3],\n",
    "                                         [4, 7, 5, 7, 5, 4, 0, 3, 1, 3, 3, 1],\n",
    "                                         [4, 6, 5, 6, 5, 4, 2, 1, 1, 2, 0, 0],\n",
    "                                         [3, 1, 2, 3, 2, 1, 6, 5, 6, 5, 7, 7],\n",
    "                                         [2, 3, 0, 3, 0, 2, 4, 4, 6, 6, 4, 7],\n",
    "                                         [1, 3, 0, 3, 0, 1, 4, 4, 5, 5, 5, 4],\n",
    "                                         [2, 1, 0, 2, 1, 0, 4, 5, 5, 4, 6, 6]])\n",
    "\n",
    "assert torch.equal(nbr_fea_idx, nbr_fea_idx_standard)"
   ]
  },
  {
   "cell_type": "code",
   "execution_count": 11,
   "id": "american-annotation",
   "metadata": {},
   "outputs": [],
   "source": [
    "# Now we have two features, atomic feature and neighbor feature.\n",
    "# Note that neighbor feature is discontionous information with respect to the distanc.\n",
    "# Therefore we will expand neighbor feature using Gaussian Kernel (or Gaussian filter)\n",
    "# https://en.wikipedia.org/wiki/Gaussian_filter\n",
    "dmin = 0\n",
    "dmax = 12\n",
    "step = 0.2\n",
    "var = step\n",
    "filter_step = np.arange(dmin, dmax+step, step)\n",
    "\n",
    "def expand(distances):\n",
    "    # Ask student to do this\n",
    "    return np.exp(-(distances[..., np.newaxis] - filter_step)**2 / var**2)\n",
    "\n",
    "nbr_fea_gaussian = expand(nbr_fea)"
   ]
  },
  {
   "cell_type": "code",
   "execution_count": 12,
   "id": "temporal-georgia",
   "metadata": {},
   "outputs": [
    {
     "ename": "AssertionError",
     "evalue": "",
     "output_type": "error",
     "traceback": [
      "\u001b[0;31m---------------------------------------------------------------------------\u001b[0m",
      "\u001b[0;31mAssertionError\u001b[0m                            Traceback (most recent call last)",
      "\u001b[1;32m/Users/XChen9/Documents/UCB/cs282/proj/cs182project/cs182_project.ipynb Cell 11\u001b[0m in \u001b[0;36m<cell line: 1>\u001b[0;34m()\u001b[0m\n\u001b[0;32m----> <a href='vscode-notebook-cell:/Users/XChen9/Documents/UCB/cs282/proj/cs182project/cs182_project.ipynb#X13sZmlsZQ%3D%3D?line=0'>1</a>\u001b[0m \u001b[39massert\u001b[39;00m np\u001b[39m.\u001b[39marray_equal(nbr_fea_gaussian, nbr_fea)\n",
      "\u001b[0;31mAssertionError\u001b[0m: "
     ]
    }
   ],
   "source": [
    "assert np.array_equal(nbr_fea_gaussian, nbr_fea)"
   ]
  },
  {
   "cell_type": "code",
   "execution_count": 13,
   "id": "typical-singles",
   "metadata": {},
   "outputs": [],
   "source": [
    "gdf = GaussianDistance(dmin=0, dmax=12, step=0.2)\n",
    "nbr_fea = gdf.expand(nbr_fea)"
   ]
  },
  {
   "cell_type": "code",
   "execution_count": 14,
   "id": "ambient-nowhere",
   "metadata": {},
   "outputs": [],
   "source": [
    "# Will not be used\n",
    "data_dir = './cgcnn_data/sample-regression'\n",
    "test = CIFData(data_dir)\n",
    "(atom_fea, nbr_fea, nbr_fea_idx), target, cif_id = test[-1]"
   ]
  },
  {
   "cell_type": "code",
   "execution_count": 15,
   "id": "egyptian-function",
   "metadata": {},
   "outputs": [],
   "source": [
    "# Will not be used\n",
    "structures, _, _ = test[-1]\n",
    "orig_atom_fea_len = structures[0].shape[-1]\n",
    "nbr_fea_len = structures[1].shape[-1]"
   ]
  },
  {
   "cell_type": "markdown",
   "id": "sized-warren",
   "metadata": {},
   "source": [
    "### Build a Model"
   ]
  },
  {
   "cell_type": "code",
   "execution_count": 16,
   "id": "pediatric-vegetation",
   "metadata": {},
   "outputs": [],
   "source": [
    "# TODO: Graphics of layers"
   ]
  },
  {
   "cell_type": "code",
   "execution_count": 2,
   "id": "norwegian-israel",
   "metadata": {},
   "outputs": [],
   "source": [
    "from model import CrystalGraphConvNet"
   ]
  },
  {
   "cell_type": "code",
   "execution_count": 18,
   "id": "sunset-jefferson",
   "metadata": {},
   "outputs": [
    {
     "data": {
      "text/plain": [
       "tensor([[0.6627]], grad_fn=<AddmmBackward0>)"
      ]
     },
     "execution_count": 18,
     "metadata": {},
     "output_type": "execute_result"
    }
   ],
   "source": [
    "# Simple test\n",
    "# Set seed using manual_seed\n",
    "# TODO explanation about crystal_atom_idx\n",
    "torch.manual_seed(123)\n",
    "crystal_atom_idx = [torch.Tensor([0, 1, 2, 3, 4, 5, 6, 7]).long()]\n",
    "model = CrystalGraphConvNet(orig_atom_fea_len, nbr_fea_len)\n",
    "model.forward(atom_fea, nbr_fea, nbr_fea_idx, crystal_atom_idx)"
   ]
  },
  {
   "cell_type": "markdown",
   "id": "corrected-geneva",
   "metadata": {},
   "source": [
    "### Training"
   ]
  },
  {
   "cell_type": "code",
   "execution_count": 3,
   "id": "198f8ba6",
   "metadata": {},
   "outputs": [],
   "source": [
    "from data_utils import collate_pool, get_train_val_test_loader\n",
    "from train_utils import Normalizer, train, validate, save_checkpoint\n",
    "from model import CrystalGraphConvNet\n",
    "from random import sample"
   ]
  },
  {
   "cell_type": "code",
   "execution_count": 4,
   "id": "executive-transsexual",
   "metadata": {},
   "outputs": [],
   "source": [
    "torch.manual_seed(123)\n",
    "\n",
    "# set parameters\n",
    "data_dir = './hw_data/perovskite_energy'\n",
    "batch_size = 8\n",
    "train_ratio, val_ratio, test_ratio = 0.8, 0.1, 0.1\n",
    "\n",
    "# get dataset\n",
    "\n",
    "dataset = CIFData(data_dir)\n",
    "collate_fn = collate_pool\n",
    "train_loader, val_loader, test_loader = get_train_val_test_loader(\n",
    "    dataset=dataset,\n",
    "    collate_fn=collate_fn,\n",
    "    batch_size=batch_size,\n",
    "    train_ratio=train_ratio,\n",
    "    val_ratio=val_ratio,\n",
    "    test_ratio=test_ratio,\n",
    "    return_test=True)"
   ]
  },
  {
   "cell_type": "code",
   "execution_count": 5,
   "id": "2909ed78",
   "metadata": {},
   "outputs": [],
   "source": [
    "# normalize target\n",
    "\n",
    "if len(dataset) < 500:\n",
    "    warnings.warn('Dataset has less than 500 data points. '\n",
    "                    'Lower accuracy is expected. ')\n",
    "    sample_data_list = [dataset[i] for i in range(len(dataset))]\n",
    "else:\n",
    "    sample_data_list = [dataset[i] for i in\n",
    "                        sample(range(len(dataset)), 500)]\n",
    "_, sample_target, _ = collate_pool(sample_data_list)\n",
    "normalizer = Normalizer(sample_target)"
   ]
  },
  {
   "cell_type": "code",
   "execution_count": 6,
   "id": "8a730d9b",
   "metadata": {},
   "outputs": [],
   "source": [
    "# build model\n",
    "structures, _, _ = dataset[0]\n",
    "orig_atom_fea_len = structures[0].shape[-1]\n",
    "nbr_fea_len = structures[1].shape[-1]\n",
    "\n",
    "# number of hidden atom features in conv layers\n",
    "atom_fea_len = 64\n",
    "# number of hidden features after pooling\n",
    "h_fea_len = 128\n",
    "# number of conv layers\n",
    "n_conv = 3\n",
    "# number of hidden layers after pooling\n",
    "n_h = 1\n",
    "\n",
    "model = CrystalGraphConvNet(orig_atom_fea_len, nbr_fea_len,\n",
    "                            atom_fea_len=atom_fea_len,\n",
    "                            n_conv=n_conv,\n",
    "                            h_fea_len=h_fea_len,\n",
    "                            n_h=n_h)"
   ]
  },
  {
   "cell_type": "code",
   "execution_count": 11,
   "id": "27a259a5",
   "metadata": {},
   "outputs": [],
   "source": [
    "# set hyperparameters\n",
    "epochs = 15\n",
    "criterion = nn.MSELoss()\n",
    "lr = 0.01\n",
    "momentum = 0.9\n",
    "weight_decay = 0\n",
    "\n",
    "optimizer = optim.SGD(model.parameters(), lr,\n",
    "                              momentum=momentum,\n",
    "                              weight_decay=weight_decay)\n",
    "\n",
    "# optimizer = optim.Adam(model.parameters(), lr,\n",
    "#                         weight_decay=weight_decay)\n",
    "lr_milestones = [100]\n",
    "scheduler = MultiStepLR(optimizer, milestones=lr_milestones,\n",
    "                            gamma=0.1)"
   ]
  },
  {
   "cell_type": "code",
   "execution_count": 12,
   "id": "f47e96c7",
   "metadata": {},
   "outputs": [
    {
     "name": "stdout",
     "output_type": "stream",
     "text": [
      "Epoch 0/14\n",
      "----------\n"
     ]
    },
    {
     "name": "stderr",
     "output_type": "stream",
     "text": [
      "100%|██████████| 67/67 [00:17<00:00,  3.73it/s]\n"
     ]
    },
    {
     "name": "stdout",
     "output_type": "stream",
     "text": [
      "Train: \tTime 0.193\tData 0.166\tLoss 0.6394\tMAE 39.629\n"
     ]
    },
    {
     "name": "stderr",
     "output_type": "stream",
     "text": [
      "100%|██████████| 9/9 [00:10<00:00,  1.14s/it]\n"
     ]
    },
    {
     "name": "stdout",
     "output_type": "stream",
     "text": [
      "Test: \tTime 0.580\tLoss 0.5138\tMAE 38.865\n",
      "Epoch 1/14\n",
      "----------\n"
     ]
    },
    {
     "name": "stderr",
     "output_type": "stream",
     "text": [
      "100%|██████████| 67/67 [00:19<00:00,  3.46it/s]\n"
     ]
    },
    {
     "name": "stdout",
     "output_type": "stream",
     "text": [
      "Train: \tTime 0.214\tData 0.183\tLoss 0.5915\tMAE 37.202\n"
     ]
    },
    {
     "name": "stderr",
     "output_type": "stream",
     "text": [
      "100%|██████████| 9/9 [00:10<00:00,  1.13s/it]\n"
     ]
    },
    {
     "name": "stdout",
     "output_type": "stream",
     "text": [
      "Test: \tTime 0.573\tLoss 0.4461\tMAE 35.638\n",
      "Epoch 2/14\n",
      "----------\n"
     ]
    },
    {
     "name": "stderr",
     "output_type": "stream",
     "text": [
      "100%|██████████| 67/67 [00:18<00:00,  3.69it/s]\n"
     ]
    },
    {
     "name": "stdout",
     "output_type": "stream",
     "text": [
      "Train: \tTime 0.196\tData 0.169\tLoss 0.5706\tMAE 36.429\n"
     ]
    },
    {
     "name": "stderr",
     "output_type": "stream",
     "text": [
      "100%|██████████| 9/9 [00:10<00:00,  1.14s/it]\n"
     ]
    },
    {
     "name": "stdout",
     "output_type": "stream",
     "text": [
      "Test: \tTime 0.586\tLoss 0.4993\tMAE 37.856\n",
      "Epoch 3/14\n",
      "----------\n"
     ]
    },
    {
     "name": "stderr",
     "output_type": "stream",
     "text": [
      "100%|██████████| 67/67 [00:18<00:00,  3.64it/s]\n"
     ]
    },
    {
     "name": "stdout",
     "output_type": "stream",
     "text": [
      "Train: \tTime 0.200\tData 0.171\tLoss 0.5680\tMAE 36.047\n"
     ]
    },
    {
     "name": "stderr",
     "output_type": "stream",
     "text": [
      "100%|██████████| 9/9 [00:09<00:00,  1.10s/it]\n"
     ]
    },
    {
     "name": "stdout",
     "output_type": "stream",
     "text": [
      "Test: \tTime 0.545\tLoss 0.5118\tMAE 45.265\n",
      "Epoch 4/14\n",
      "----------\n"
     ]
    },
    {
     "name": "stderr",
     "output_type": "stream",
     "text": [
      "100%|██████████| 67/67 [00:19<00:00,  3.48it/s]\n"
     ]
    },
    {
     "name": "stdout",
     "output_type": "stream",
     "text": [
      "Train: \tTime 0.213\tData 0.183\tLoss 0.5410\tMAE 36.072\n"
     ]
    },
    {
     "name": "stderr",
     "output_type": "stream",
     "text": [
      "100%|██████████| 9/9 [00:10<00:00,  1.20s/it]\n"
     ]
    },
    {
     "name": "stdout",
     "output_type": "stream",
     "text": [
      "Test: \tTime 0.649\tLoss 0.4967\tMAE 44.712\n",
      "Epoch 5/14\n",
      "----------\n"
     ]
    },
    {
     "name": "stderr",
     "output_type": "stream",
     "text": [
      "100%|██████████| 67/67 [00:17<00:00,  3.73it/s]\n"
     ]
    },
    {
     "name": "stdout",
     "output_type": "stream",
     "text": [
      "Train: \tTime 0.194\tData 0.169\tLoss 0.4616\tMAE 32.587\n"
     ]
    },
    {
     "name": "stderr",
     "output_type": "stream",
     "text": [
      "100%|██████████| 9/9 [00:09<00:00,  1.07s/it]\n"
     ]
    },
    {
     "name": "stdout",
     "output_type": "stream",
     "text": [
      "Test: \tTime 0.510\tLoss 0.6322\tMAE 44.077\n",
      "Epoch 6/14\n",
      "----------\n"
     ]
    },
    {
     "name": "stderr",
     "output_type": "stream",
     "text": [
      "100%|██████████| 67/67 [00:17<00:00,  3.94it/s]\n"
     ]
    },
    {
     "name": "stdout",
     "output_type": "stream",
     "text": [
      "Train: \tTime 0.179\tData 0.154\tLoss 0.4925\tMAE 34.891\n"
     ]
    },
    {
     "name": "stderr",
     "output_type": "stream",
     "text": [
      "100%|██████████| 9/9 [00:09<00:00,  1.06s/it]\n"
     ]
    },
    {
     "name": "stdout",
     "output_type": "stream",
     "text": [
      "Test: \tTime 0.507\tLoss 0.4949\tMAE 34.464\n",
      "Epoch 7/14\n",
      "----------\n"
     ]
    },
    {
     "name": "stderr",
     "output_type": "stream",
     "text": [
      "100%|██████████| 67/67 [00:17<00:00,  3.91it/s]\n"
     ]
    },
    {
     "name": "stdout",
     "output_type": "stream",
     "text": [
      "Train: \tTime 0.181\tData 0.155\tLoss 0.5204\tMAE 33.262\n"
     ]
    },
    {
     "name": "stderr",
     "output_type": "stream",
     "text": [
      "100%|██████████| 9/9 [00:09<00:00,  1.06s/it]\n"
     ]
    },
    {
     "name": "stdout",
     "output_type": "stream",
     "text": [
      "Test: \tTime 0.506\tLoss 0.5030\tMAE 41.835\n",
      "Epoch 8/14\n",
      "----------\n"
     ]
    },
    {
     "name": "stderr",
     "output_type": "stream",
     "text": [
      "100%|██████████| 67/67 [00:17<00:00,  3.82it/s]\n"
     ]
    },
    {
     "name": "stdout",
     "output_type": "stream",
     "text": [
      "Train: \tTime 0.187\tData 0.162\tLoss 0.5663\tMAE 39.939\n"
     ]
    },
    {
     "name": "stderr",
     "output_type": "stream",
     "text": [
      "100%|██████████| 9/9 [00:09<00:00,  1.06s/it]\n"
     ]
    },
    {
     "name": "stdout",
     "output_type": "stream",
     "text": [
      "Test: \tTime 0.506\tLoss 0.3824\tMAE 35.160\n",
      "Epoch 9/14\n",
      "----------\n"
     ]
    },
    {
     "name": "stderr",
     "output_type": "stream",
     "text": [
      "100%|██████████| 67/67 [00:17<00:00,  3.83it/s]\n"
     ]
    },
    {
     "name": "stdout",
     "output_type": "stream",
     "text": [
      "Train: \tTime 0.186\tData 0.161\tLoss 0.4509\tMAE 33.169\n"
     ]
    },
    {
     "name": "stderr",
     "output_type": "stream",
     "text": [
      "100%|██████████| 9/9 [00:09<00:00,  1.09s/it]\n"
     ]
    },
    {
     "name": "stdout",
     "output_type": "stream",
     "text": [
      "Test: \tTime 0.531\tLoss 0.4434\tMAE 34.837\n",
      "Epoch 10/14\n",
      "----------\n"
     ]
    },
    {
     "name": "stderr",
     "output_type": "stream",
     "text": [
      "100%|██████████| 67/67 [00:17<00:00,  3.91it/s]\n"
     ]
    },
    {
     "name": "stdout",
     "output_type": "stream",
     "text": [
      "Train: \tTime 0.181\tData 0.156\tLoss 0.4980\tMAE 33.344\n"
     ]
    },
    {
     "name": "stderr",
     "output_type": "stream",
     "text": [
      "100%|██████████| 9/9 [00:09<00:00,  1.08s/it]\n"
     ]
    },
    {
     "name": "stdout",
     "output_type": "stream",
     "text": [
      "Test: \tTime 0.521\tLoss 0.9031\tMAE 53.225\n",
      "Epoch 11/14\n",
      "----------\n"
     ]
    },
    {
     "name": "stderr",
     "output_type": "stream",
     "text": [
      "100%|██████████| 67/67 [00:17<00:00,  3.93it/s]\n"
     ]
    },
    {
     "name": "stdout",
     "output_type": "stream",
     "text": [
      "Train: \tTime 0.180\tData 0.155\tLoss 0.4193\tMAE 33.332\n"
     ]
    },
    {
     "name": "stderr",
     "output_type": "stream",
     "text": [
      "100%|██████████| 9/9 [00:09<00:00,  1.07s/it]\n"
     ]
    },
    {
     "name": "stdout",
     "output_type": "stream",
     "text": [
      "Test: \tTime 0.516\tLoss 0.4570\tMAE 36.706\n",
      "Epoch 12/14\n",
      "----------\n"
     ]
    },
    {
     "name": "stderr",
     "output_type": "stream",
     "text": [
      "100%|██████████| 67/67 [00:16<00:00,  3.95it/s]\n"
     ]
    },
    {
     "name": "stdout",
     "output_type": "stream",
     "text": [
      "Train: \tTime 0.178\tData 0.154\tLoss 0.3979\tMAE 30.368\n"
     ]
    },
    {
     "name": "stderr",
     "output_type": "stream",
     "text": [
      "100%|██████████| 9/9 [00:09<00:00,  1.08s/it]\n"
     ]
    },
    {
     "name": "stdout",
     "output_type": "stream",
     "text": [
      "Test: \tTime 0.527\tLoss 0.5075\tMAE 36.605\n",
      "Epoch 13/14\n",
      "----------\n"
     ]
    },
    {
     "name": "stderr",
     "output_type": "stream",
     "text": [
      "100%|██████████| 67/67 [00:17<00:00,  3.88it/s]\n"
     ]
    },
    {
     "name": "stdout",
     "output_type": "stream",
     "text": [
      "Train: \tTime 0.183\tData 0.157\tLoss 0.4811\tMAE 34.109\n"
     ]
    },
    {
     "name": "stderr",
     "output_type": "stream",
     "text": [
      "100%|██████████| 9/9 [00:09<00:00,  1.10s/it]\n"
     ]
    },
    {
     "name": "stdout",
     "output_type": "stream",
     "text": [
      "Test: \tTime 0.540\tLoss 0.3802\tMAE 29.961\n",
      "Epoch 14/14\n",
      "----------\n"
     ]
    },
    {
     "name": "stderr",
     "output_type": "stream",
     "text": [
      "100%|██████████| 67/67 [00:17<00:00,  3.90it/s]\n"
     ]
    },
    {
     "name": "stdout",
     "output_type": "stream",
     "text": [
      "Train: \tTime 0.182\tData 0.156\tLoss 0.3852\tMAE 30.432\n"
     ]
    },
    {
     "name": "stderr",
     "output_type": "stream",
     "text": [
      "100%|██████████| 9/9 [00:09<00:00,  1.08s/it]"
     ]
    },
    {
     "name": "stdout",
     "output_type": "stream",
     "text": [
      "Test: \tTime 0.526\tLoss 0.6753\tMAE 46.589\n"
     ]
    },
    {
     "name": "stderr",
     "output_type": "stream",
     "text": [
      "\n"
     ]
    }
   ],
   "source": [
    "running_record = {'train_loss': [], 'train_mae': [],\n",
    "                    'val_loss': [], 'val_mae': []}\n",
    "\n",
    "for epoch in range(epochs):\n",
    "    print('Epoch {}/{}'.format(epoch, epochs - 1))\n",
    "    print('-' * 10)\n",
    "    \n",
    "    best_mae_error = 1e10\n",
    "    # train for one epoch\n",
    "    # TO-Do, add tqdm in the train method, don't print too much here\n",
    "    # To-Do, fix warning\n",
    "    train_loss, train_mae = train(train_loader, model, criterion, optimizer, epoch, normalizer)\n",
    "\n",
    "    # evaluate on validation set\n",
    "    val_loss, val_mae = validate(val_loader, model, criterion, normalizer)\n",
    "\n",
    "    # append loss and mae to running record. Convert tensor to float if necessary\n",
    "    running_record['train_loss'].append(train_loss)\n",
    "    running_record['train_mae'].append(train_mae)\n",
    "    running_record['val_loss'].append(val_loss)\n",
    "    running_record['val_mae'].append(val_mae)\n",
    "\n",
    "\n",
    "    if val_mae != val_mae:\n",
    "        print('Exit due to NaN')\n",
    "        sys.exit(1)\n",
    "\n",
    "    scheduler.step()\n",
    "\n",
    "    # remember the best mae_eror and save checkpoint\n",
    "    is_best = val_mae < best_mae_error\n",
    "    best_mae_error = min(val_mae, best_mae_error)\n",
    "\n",
    "    save_checkpoint({\n",
    "        'epoch': epoch + 1,\n",
    "        'state_dict': model.state_dict(),\n",
    "        'best_mae_error': best_mae_error,\n",
    "        'optimizer': optimizer.state_dict(),\n",
    "        'normalizer': normalizer.state_dict(),\n",
    "    }, is_best)\n"
   ]
  },
  {
   "cell_type": "code",
   "execution_count": 13,
   "id": "34297460",
   "metadata": {},
   "outputs": [
    {
     "name": "stdout",
     "output_type": "stream",
     "text": [
      "---------Evaluate Model on Test Set---------------\n"
     ]
    },
    {
     "name": "stderr",
     "output_type": "stream",
     "text": [
      "100%|██████████| 9/9 [00:11<00:00,  1.30s/it]"
     ]
    },
    {
     "name": "stdout",
     "output_type": "stream",
     "text": [
      "Test: \tTime 0.749\tLoss 2.3274\tMAE 64.893\n"
     ]
    },
    {
     "name": "stderr",
     "output_type": "stream",
     "text": [
      "\n"
     ]
    }
   ],
   "source": [
    "# test best model\n",
    "print('---------Evaluate Model on Test Set---------------')\n",
    "best_checkpoint = torch.load('model_best.pth.tar')\n",
    "model.load_state_dict(best_checkpoint['state_dict'])\n",
    "_, l=validate(test_loader, model, criterion, normalizer, test=True)"
   ]
  },
  {
   "cell_type": "code",
   "execution_count": 16,
   "id": "42fa4f39",
   "metadata": {},
   "outputs": [
    {
     "data": {
      "image/png": "[encoded data removed]",
      "text/plain": [
       "<Figure size 800x500 with 2 Axes>"
      ]
     },
     "metadata": {},
     "output_type": "display_data"
    }
   ],
   "source": [
    "# visualize the training and val loss \n",
    "# visualize the training and val mae\n",
    "import matplotlib.pyplot as plt\n",
    "from matplotlib.ticker import MaxNLocator\n",
    "\n",
    "fig, ax = plt.subplots(1, 2, figsize=(8, 5))\n",
    "ax[0].plot(running_record['train_loss'], label='train')\n",
    "ax[0].plot(running_record['val_loss'], label='val')\n",
    "ax[0].set_xlabel('Epoch')\n",
    "ax[0].set_ylabel('Loss')\n",
    "ax[0].legend()\n",
    "ax[0].set_title('Loss')\n",
    "# set x axis to be integer\n",
    "ax[0].xaxis.set_major_locator(MaxNLocator(integer=True))\n",
    "\n",
    "ax[1].plot(running_record['train_mae'], label='train')\n",
    "ax[1].plot(running_record['val_mae'], label='val')\n",
    "ax[1].set_xlabel('Epoch')\n",
    "ax[1].set_ylabel('MAE')\n",
    "ax[1].legend()\n",
    "ax[1].set_title('MAE')\n",
    "# set x axis to be integer\n",
    "ax[1].xaxis.set_major_locator(MaxNLocator(integer=True))\n",
    "\n",
    "plt.tight_layout()\n",
    "plt.show()"
   ]
  },
  {
   "cell_type": "code",
   "execution_count": null,
   "id": "9db2072a",
   "metadata": {},
   "outputs": [],
   "source": []
  }
 ],
 "metadata": {
  "kernelspec": {
   "display_name": "cs282_env",
   "language": "python",
   "name": "python3"
  },
  "language_info": {
   "codemirror_mode": {
    "name": "ipython",
    "version": 3
   },
   "file_extension": ".py",
   "mimetype": "text/x-python",
   "name": "python",
   "nbconvert_exporter": "python",
   "pygments_lexer": "ipython3",
   "version": "3.10.4"
  }
 },
 "nbformat": 4,
 "nbformat_minor": 5
}
