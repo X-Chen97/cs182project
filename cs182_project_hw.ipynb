{
 "cells": [
  {
   "cell_type": "markdown",
   "id": "awful-foster",
   "metadata": {
    "id": "attended-jones"
   },
   "source": [
    "### CS182 project - Deliver ideas of CGCNN"
   ]
  },
  {
   "cell_type": "markdown",
   "id": "aquatic-formation",
   "metadata": {
    "id": "cooperative-pressure"
   },
   "source": [
    "### General Explanation\n",
    "\n",
    "The key idea of CGCNN is to represent crystal structure by a crystal graph, which encodes not only\n",
    "the atomic information but also bonding information between atoms based on the distance. Here we\n",
    "will let each atomic feature vector as vi, which encodes the property of the atom corresponding to\n",
    "node i. The edge feature vector is represented as u(i,j)k, which encodes k-th bond connecting atom\n",
    "i, j. Note that there can be several bonds between atoms, which originate from the periodic nature of\n",
    "crystals. <br />\n",
    "Obviously, there are many ways to encode atomic and bond data. For the sake of simplicity, we will\n",
    "follow the methods used in the CGCNN paper, which used a pre-defined encoding vector to change\n",
    "atoms into vectors. These vectors have 92 dimensions, and for 100 atoms in the periodic table, they\n",
    "have different encodings which consist of 0 and 1. For the edge feature vectors, there also can be\n",
    "many ways to encode bond information; bond length, angle, and covalency. However, we will only\n",
    "use bond-length information between nearest neighbors, by applying a Gaussian kernel to change\n",
    "it to encoding vectors. One can follow the homework notebook on how this embedding is done to\n",
    "NaCl(salt) Crystal."
   ]
  },
  {
   "cell_type": "markdown",
   "id": "generic-comfort",
   "metadata": {
    "id": "domestic-premiere"
   },
   "source": [
    "### Encoding Crystal into Crystal Graph"
   ]
  },
  {
   "cell_type": "code",
   "execution_count": 14,
   "id": "broken-wings",
   "metadata": {
    "id": "sonic-career"
   },
   "outputs": [],
   "source": [
    "# Note: Need pymatgen"
   ]
  },
  {
   "cell_type": "code",
   "execution_count": null,
   "id": "dimensional-lying",
   "metadata": {
    "colab": {
     "base_uri": "https://localhost:8080/"
    },
    "id": "6lHqzidaNNuE",
    "outputId": "5c8b5c92-201a-42d6-f91d-991dac79db27"
   },
   "outputs": [
    {
     "name": "stdout",
     "output_type": "stream",
     "text": [
      "Looking in indexes: https://pypi.org/simple, https://us-python.pkg.dev/colab-wheels/public/simple/\n",
      "Collecting pymatgen\n",
      "  Downloading pymatgen-2023.3.23-cp39-cp39-manylinux_2_17_x86_64.manylinux2014_x86_64.whl (12.4 MB)\n",
      "\u001b[2K     \u001b[90m━━━━━━━━━━━━━━━━━━━━━━━━━━━━━━━━━━━━━━━━\u001b[0m \u001b[32m12.4/12.4 MB\u001b[0m \u001b[31m75.5 MB/s\u001b[0m eta \u001b[36m0:00:00\u001b[0m\n",
      "\u001b[?25hRequirement already satisfied: plotly>=4.5.0 in /usr/local/lib/python3.9/dist-packages (from pymatgen) (5.13.1)\n",
      "Collecting pybtex\n",
      "  Downloading pybtex-0.24.0-py2.py3-none-any.whl (561 kB)\n",
      "\u001b[2K     \u001b[90m━━━━━━━━━━━━━━━━━━━━━━━━━━━━━━━━━━━━━━\u001b[0m \u001b[32m561.4/561.4 kB\u001b[0m \u001b[31m44.8 MB/s\u001b[0m eta \u001b[36m0:00:00\u001b[0m\n",
      "\u001b[?25hRequirement already satisfied: requests in /usr/local/lib/python3.9/dist-packages (from pymatgen) (2.27.1)\n",
      "Requirement already satisfied: networkx>=2.2 in /usr/local/lib/python3.9/dist-packages (from pymatgen) (3.1)\n",
      "Requirement already satisfied: sympy in /usr/local/lib/python3.9/dist-packages (from pymatgen) (1.11.1)\n",
      "Collecting monty>=3.0.2\n",
      "  Downloading monty-2023.4.10-py3-none-any.whl (67 kB)\n",
      "\u001b[2K     \u001b[90m━━━━━━━━━━━━━━━━━━━━━━━━━━━━━━━━━━━━━━━━\u001b[0m \u001b[32m67.0/67.0 kB\u001b[0m \u001b[31m3.6 MB/s\u001b[0m eta \u001b[36m0:00:00\u001b[0m\n",
      "\u001b[?25hRequirement already satisfied: palettable>=3.1.1 in /usr/local/lib/python3.9/dist-packages (from pymatgen) (3.3.1)\n",
      "Requirement already satisfied: pandas in /usr/local/lib/python3.9/dist-packages (from pymatgen) (1.5.3)\n",
      "Requirement already satisfied: tqdm in /usr/local/lib/python3.9/dist-packages (from pymatgen) (4.65.0)\n",
      "Collecting uncertainties>=3.1.4\n",
      "  Downloading uncertainties-3.1.7-py2.py3-none-any.whl (98 kB)\n",
      "\u001b[2K     \u001b[90m━━━━━━━━━━━━━━━━━━━━━━━━━━━━━━━━━━━━━━━━\u001b[0m \u001b[32m98.4/98.4 kB\u001b[0m \u001b[31m12.9 MB/s\u001b[0m eta \u001b[36m0:00:00\u001b[0m\n",
      "\u001b[?25hCollecting ruamel.yaml>=0.17.0\n",
      "  Downloading ruamel.yaml-0.17.21-py3-none-any.whl (109 kB)\n",
      "\u001b[2K     \u001b[90m━━━━━━━━━━━━━━━━━━━━━━━━━━━━━━━━━━━━━━\u001b[0m \u001b[32m109.5/109.5 kB\u001b[0m \u001b[31m14.2 MB/s\u001b[0m eta \u001b[36m0:00:00\u001b[0m\n",
      "\u001b[?25hCollecting mp-api>=0.27.3\n",
      "  Downloading mp_api-0.31.0-py3-none-any.whl (72 kB)\n",
      "\u001b[2K     \u001b[90m━━━━━━━━━━━━━━━━━━━━━━━━━━━━━━━━━━━━━━━━\u001b[0m \u001b[32m72.8/72.8 kB\u001b[0m \u001b[31m8.5 MB/s\u001b[0m eta \u001b[36m0:00:00\u001b[0m\n",
      "\u001b[?25hRequirement already satisfied: scipy>=1.5.0 in /usr/local/lib/python3.9/dist-packages (from pymatgen) (1.10.1)\n",
      "Requirement already satisfied: numpy>=1.20.1 in /usr/local/lib/python3.9/dist-packages (from pymatgen) (1.22.4)\n",
      "Requirement already satisfied: matplotlib>=1.5 in /usr/local/lib/python3.9/dist-packages (from pymatgen) (3.7.1)\n",
      "Collecting spglib>=2.0.2\n",
      "  Downloading spglib-2.0.2-cp39-cp39-manylinux_2_17_x86_64.manylinux2014_x86_64.whl (515 kB)\n",
      "\u001b[2K     \u001b[90m━━━━━━━━━━━━━━━━━━━━━━━━━━━━━━━━━━━━━━\u001b[0m \u001b[32m515.0/515.0 kB\u001b[0m \u001b[31m42.4 MB/s\u001b[0m eta \u001b[36m0:00:00\u001b[0m\n",
      "\u001b[?25hRequirement already satisfied: tabulate in /usr/local/lib/python3.9/dist-packages (from pymatgen) (0.8.10)\n",
      "Requirement already satisfied: python-dateutil>=2.7 in /usr/local/lib/python3.9/dist-packages (from matplotlib>=1.5->pymatgen) (2.8.2)\n",
      "Requirement already satisfied: pyparsing>=2.3.1 in /usr/local/lib/python3.9/dist-packages (from matplotlib>=1.5->pymatgen) (3.0.9)\n",
      "Requirement already satisfied: pillow>=6.2.0 in /usr/local/lib/python3.9/dist-packages (from matplotlib>=1.5->pymatgen) (8.4.0)\n",
      "Requirement already satisfied: packaging>=20.0 in /usr/local/lib/python3.9/dist-packages (from matplotlib>=1.5->pymatgen) (23.0)\n",
      "Requirement already satisfied: importlib-resources>=3.2.0 in /usr/local/lib/python3.9/dist-packages (from matplotlib>=1.5->pymatgen) (5.12.0)\n",
      "Requirement already satisfied: cycler>=0.10 in /usr/local/lib/python3.9/dist-packages (from matplotlib>=1.5->pymatgen) (0.11.0)\n",
      "Requirement already satisfied: fonttools>=4.22.0 in /usr/local/lib/python3.9/dist-packages (from matplotlib>=1.5->pymatgen) (4.39.3)\n",
      "Requirement already satisfied: contourpy>=1.0.1 in /usr/local/lib/python3.9/dist-packages (from matplotlib>=1.5->pymatgen) (1.0.7)\n",
      "Requirement already satisfied: kiwisolver>=1.0.1 in /usr/local/lib/python3.9/dist-packages (from matplotlib>=1.5->pymatgen) (1.4.4)\n",
      "Collecting emmet-core<=0.50.0\n",
      "  Downloading emmet_core-0.50.0-py3-none-any.whl (137 kB)\n",
      "\u001b[2K     \u001b[90m━━━━━━━━━━━━━━━━━━━━━━━━━━━━━━━━━━━━━━\u001b[0m \u001b[32m137.5/137.5 kB\u001b[0m \u001b[31m18.4 MB/s\u001b[0m eta \u001b[36m0:00:00\u001b[0m\n",
      "\u001b[?25hRequirement already satisfied: setuptools in /usr/local/lib/python3.9/dist-packages (from mp-api>=0.27.3->pymatgen) (67.6.1)\n",
      "Requirement already satisfied: typing-extensions>=3.7.4.1 in /usr/local/lib/python3.9/dist-packages (from mp-api>=0.27.3->pymatgen) (4.5.0)\n",
      "Requirement already satisfied: msgpack in /usr/local/lib/python3.9/dist-packages (from mp-api>=0.27.3->pymatgen) (1.0.5)\n",
      "Requirement already satisfied: tenacity>=6.2.0 in /usr/local/lib/python3.9/dist-packages (from plotly>=4.5.0->pymatgen) (8.2.2)\n",
      "Requirement already satisfied: idna<4,>=2.5 in /usr/local/lib/python3.9/dist-packages (from requests->pymatgen) (3.4)\n",
      "Requirement already satisfied: charset-normalizer~=2.0.0 in /usr/local/lib/python3.9/dist-packages (from requests->pymatgen) (2.0.12)\n",
      "Requirement already satisfied: urllib3<1.27,>=1.21.1 in /usr/local/lib/python3.9/dist-packages (from requests->pymatgen) (1.26.15)\n",
      "Requirement already satisfied: certifi>=2017.4.17 in /usr/local/lib/python3.9/dist-packages (from requests->pymatgen) (2022.12.7)\n",
      "Collecting ruamel.yaml.clib>=0.2.6\n",
      "  Downloading ruamel.yaml.clib-0.2.7-cp39-cp39-manylinux_2_17_x86_64.manylinux2014_x86_64.manylinux_2_24_x86_64.whl (519 kB)\n",
      "\u001b[2K     \u001b[90m━━━━━━━━━━━━━━━━━━━━━━━━━━━━━━━━━━━━━━\u001b[0m \u001b[32m519.4/519.4 kB\u001b[0m \u001b[31m43.1 MB/s\u001b[0m eta \u001b[36m0:00:00\u001b[0m\n",
      "\u001b[?25hRequirement already satisfied: future in /usr/local/lib/python3.9/dist-packages (from uncertainties>=3.1.4->pymatgen) (0.18.3)\n",
      "Requirement already satisfied: pytz>=2020.1 in /usr/local/lib/python3.9/dist-packages (from pandas->pymatgen) (2022.7.1)\n",
      "Collecting latexcodec>=1.0.4\n",
      "  Downloading latexcodec-2.0.1-py2.py3-none-any.whl (18 kB)\n",
      "Requirement already satisfied: PyYAML>=3.01 in /usr/local/lib/python3.9/dist-packages (from pybtex->pymatgen) (6.0)\n",
      "Requirement already satisfied: six in /usr/local/lib/python3.9/dist-packages (from pybtex->pymatgen) (1.16.0)\n",
      "Requirement already satisfied: mpmath>=0.19 in /usr/local/lib/python3.9/dist-packages (from sympy->pymatgen) (1.3.0)\n",
      "Requirement already satisfied: pydantic>=1.10.2 in /usr/local/lib/python3.9/dist-packages (from emmet-core<=0.50.0->mp-api>=0.27.3->pymatgen) (1.10.7)\n",
      "Requirement already satisfied: zipp>=3.1.0 in /usr/local/lib/python3.9/dist-packages (from importlib-resources>=3.2.0->matplotlib>=1.5->pymatgen) (3.15.0)\n",
      "Installing collected packages: uncertainties, spglib, ruamel.yaml.clib, monty, latexcodec, ruamel.yaml, pybtex, emmet-core, mp-api, pymatgen\n",
      "Successfully installed emmet-core-0.50.0 latexcodec-2.0.1 monty-2023.4.10 mp-api-0.31.0 pybtex-0.24.0 pymatgen-2023.3.23 ruamel.yaml-0.17.21 ruamel.yaml.clib-0.2.7 spglib-2.0.2 uncertainties-3.1.7\n"
     ]
    }
   ],
   "source": [
    "!pip install pymatgen"
   ]
  },
  {
   "cell_type": "code",
   "execution_count": 4,
   "id": "attractive-miami",
   "metadata": {
    "id": "labeled-exposure"
   },
   "outputs": [],
   "source": [
    "import os\n",
    "import sys\n",
    "import csv\n",
    "import json\n",
    "import torch\n",
    "import torch.nn as nn\n",
    "import random\n",
    "import warnings\n",
    "warnings.filterwarnings('ignore')\n",
    "import functools\n",
    "import numpy as np\n",
    "import networkx as nx\n",
    "import matplotlib.pyplot as plt\n",
    "from matplotlib.colors import to_rgba_array\n",
    "\n",
    "from pymatgen.core.structure import Structure\n",
    "from pymatgen.analysis.graphs import StructureGraph\n",
    "from pymatgen.analysis.local_env import CrystalNN\n",
    "from torch.utils.data import Dataset, DataLoader\n",
    "from torch.utils.data.dataloader import default_collate\n",
    "from torch.utils.data.sampler import SubsetRandomSampler\n",
    "import torch.optim as optim\n",
    "from torch.optim.lr_scheduler import MultiStepLR\n",
    "\n",
    "from data_utils import CIFData\n",
    "from data_utils import AtomCustomJSONInitializer\n",
    "from data_utils import AtomInitializer\n",
    "from data_utils import GaussianDistance"
   ]
  },
  {
   "cell_type": "code",
   "execution_count": null,
   "id": "adequate-cheat",
   "metadata": {
    "id": "tO-SaVvUNohi"
   },
   "outputs": [],
   "source": [
    "!unzip cgcnn_data.zip\n",
    "!unzip hw_data.zip"
   ]
  },
  {
   "cell_type": "markdown",
   "id": "uniform-escape",
   "metadata": {},
   "source": [
    "Let's convert salt (NaCl) to crystal graph. <br />\n",
    "You can use print method to see the lattice and position of Na, Cl atoms in the cell. <br />\n",
    "We will also visualize it to a graph. Each node of graph is atom in the crystal, and edge is bonds that have distance as information. "
   ]
  },
  {
   "cell_type": "code",
   "execution_count": 5,
   "id": "shared-recognition",
   "metadata": {
    "colab": {
     "base_uri": "https://localhost:8080/"
    },
    "id": "primary-asian",
    "outputId": "f046f5a1-f33d-426f-ad7c-ae8ba1918d61"
   },
   "outputs": [
    {
     "name": "stdout",
     "output_type": "stream",
     "text": [
      "Full Formula (Na4 Cl4)\n",
      "Reduced Formula: NaCl\n",
      "abc   :   5.620000   5.620000   5.620000\n",
      "angles:  90.000000  90.000000  90.000000\n",
      "pbc   :       True       True       True\n",
      "Sites (8)\n",
      "  #  SP      a    b    c\n",
      "---  ----  ---  ---  ---\n",
      "  0  Na+   0    0    0\n",
      "  1  Na+   0    0.5  0.5\n",
      "  2  Na+   0.5  0    0.5\n",
      "  3  Na+   0.5  0.5  0\n",
      "  4  Cl-   0.5  0.5  0.5\n",
      "  5  Cl-   0.5  0    0\n",
      "  6  Cl-   0    0.5  0\n",
      "  7  Cl-   0    0    0.5\n"
     ]
    }
   ],
   "source": [
    "# Load structure from CIF file \n",
    "nacl = Structure.from_file('hw_data/sample_regression/1000041.cif')\n",
    "print(nacl)"
   ]
  },
  {
   "cell_type": "code",
   "execution_count": 7,
   "id": "preceding-director",
   "metadata": {
    "colab": {
     "base_uri": "https://localhost:8080/",
     "height": 516
    },
    "id": "tVrZhlZTUPRS",
    "outputId": "bd820e37-8c60-4b78-eed2-644beb98d8f7"
   },
   "outputs": [
    {
     "data": {
      "image/png": "[encoded data removed]",
      "text/plain": [
       "<Figure size 432x288 with 1 Axes>"
      ]
     },
     "metadata": {},
     "output_type": "display_data"
    }
   ],
   "source": [
    "# Visualization of the structure using the CIF file \n",
    "crystal = CrystalNN()\n",
    "\n",
    "sg = StructureGraph.with_local_env_strategy(nacl, crystal)\n",
    "\n",
    "node_labels = {}\n",
    "for i, site in enumerate(nacl):\n",
    "    label = \"{}\".format(site.specie)\n",
    "    node_labels[i] = label\n",
    "\n",
    "edge_weights = {}\n",
    "for edge in sg.graph.edges():\n",
    "    dist = nacl.get_distance(edge[0], edge[1])\n",
    "    edge_weights[edge] = dist\n",
    "\n",
    "pos = nx.spring_layout(sg.graph)\n",
    "nx.draw(sg.graph, pos, with_labels=True, labels=node_labels, font_size=12, node_size=1000, node_color=\"w\")\n",
    "nx.draw_networkx_edge_labels(sg.graph, pos, edge_labels=edge_weights, font_size=10)\n",
    "plt.axis(\"off\")\n",
    "plt.show()"
   ]
  },
  {
   "cell_type": "markdown",
   "id": "ahead-jacob",
   "metadata": {},
   "source": [
    "Next we will encode atoms in the node to atomistic feature vectors using pre-difined atom embedding. <br />\n",
    "atom_init.json is containing vector embedding of atoms, where key (1, 2, 3, ..., 100) represent atomic number\n",
    "and values are encoding vectors. <br />\n",
    "You can try different atom embedding too if you want."
   ]
  },
  {
   "cell_type": "code",
   "execution_count": 8,
   "id": "confidential-cornell",
   "metadata": {
    "id": "catholic-dependence"
   },
   "outputs": [],
   "source": [
    "# Load embedding file.\n",
    "element_embedding_file = 'hw_data/sample_regression/atom_init.json'\n",
    "with open(element_embedding_file) as f:\n",
    "    elem_embedding = json.load(f)\n",
    "elem_embedding = {int(key): value for key, value\n",
    "                  in elem_embedding.items()}\n",
    "\n",
    "############################################################################\n",
    "# TODO: Encode crsytal data to atomistic features.\n",
    "# Atom_feature shd have shape of (# of atoms, len(embedding vector))\n",
    "\n",
    "atom_fea = np.vstack([elem_embedding[nacl[i].specie.number]\n",
    "                      for i in range(len(nacl))])\n",
    "atom_fea = torch.Tensor(atom_fea)\n",
    "############################################################################\n",
    "\n",
    "assert atom_fea.shape == (8,92)"
   ]
  },
  {
   "cell_type": "markdown",
   "id": "forward-curve",
   "metadata": {},
   "source": [
    "Next, we will get neighbor information from each atoms in the cell.\n",
    "We will get help from pymatgen package.\n",
    "get_all_neighbor function of structure object returns atoms within\n",
    "the input radius. Note that here len(all_nbrs) is 8 since there are\n",
    "8 atoms (4 Na+, 4 Cl-) in the cell. Each list contain the neighbor\n",
    "atom information considering periodicity.\n",
    "We will use 12 nearest neighbors after sorting with distance."
   ]
  },
  {
   "cell_type": "code",
   "execution_count": 10,
   "id": "under-niagara",
   "metadata": {
    "colab": {
     "base_uri": "https://localhost:8080/",
     "height": 201
    },
    "id": "fifth-variance",
    "outputId": "e069b571-6c6d-47ad-a421-c4a642e79443"
   },
   "outputs": [],
   "source": [
    "all_nbrs = nacl.get_all_neighbors(r = 8, include_index=True)\n",
    "all_nbrs = [sorted(nbrs, key=lambda x: x[1]) for nbrs in all_nbrs]\n",
    "\n",
    "assert len(all_nbrs) == 8\n",
    "\n",
    "nbr_fea_idx, nbr_fea = [], []\n",
    "for nbr in all_nbrs:\n",
    "    # Note: x[1] returns distance to neighbors.\n",
    "    # Note: x[2] returns index of original structure object\n",
    "    nbr_fea_idx.append(list(map(lambda x: x[2],\n",
    "                                nbr[:12])))\n",
    "    nbr_fea.append(list(map(lambda x: x[1],\n",
    "                            nbr[:12])))\n",
    "\n",
    "# nbr_fea_idx contain information of nearest neighbor atoms \n",
    "# from ith row (ith atom in the cell)\n",
    "# For example, 0th atom (Na+ (0.0000, 0.0000, 0.0000)) is neighbored\n",
    "# with 5th, 6th, 7th, etc...\n",
    "# nbr_fea contain information of nearest neighbot distance. \n",
    "nbr_fea_idx, nbr_fea = np.array(nbr_fea_idx), np.array(nbr_fea)\n",
    "nbr_fea_idx = torch.LongTensor(nbr_fea_idx)\n",
    "\n",
    "nbr_fea_idx_standard = torch.LongTensor([[5, 6, 7, 7, 6, 5, 2, 1, 2, 1, 3, 3],\n",
    "                                         [4, 7, 6, 7, 6, 4, 2, 0, 3, 2, 3, 3],\n",
    "                                         [4, 7, 5, 7, 5, 4, 0, 3, 1, 3, 3, 1],\n",
    "                                         [4, 6, 5, 6, 5, 4, 2, 1, 1, 2, 0, 0],\n",
    "                                         [3, 1, 2, 3, 2, 1, 6, 5, 6, 5, 7, 7],\n",
    "                                         [2, 3, 0, 3, 0, 2, 4, 4, 6, 6, 4, 7],\n",
    "                                         [1, 3, 0, 3, 0, 1, 4, 4, 5, 5, 5, 4],\n",
    "                                         [2, 1, 0, 2, 1, 0, 4, 5, 5, 4, 6, 6]])\n",
    "\n",
    "assert torch.equal(nbr_fea_idx, nbr_fea_idx_standard)"
   ]
  },
  {
   "cell_type": "markdown",
   "id": "furnished-consumption",
   "metadata": {},
   "source": [
    "Now we have two features, atomic feature and neighbor feature.\n",
    "Note that neighbor feature is discontionous information with respect to the distance.\n",
    "Therefore we will expand neighbor feature using Gaussian Kernel (or Gaussian filter)\n",
    "https://en.wikipedia.org/wiki/Gaussian_filter"
   ]
  },
  {
   "cell_type": "code",
   "execution_count": 11,
   "id": "secure-swedish",
   "metadata": {
    "id": "american-annotation"
   },
   "outputs": [],
   "source": [
    "dmin = 0\n",
    "dmax = 12\n",
    "step = 0.2\n",
    "var = step\n",
    "filter_step = np.arange(dmin, dmax+step, step)\n",
    "\n",
    "def expand(distances):\n",
    "    ############################################################################\n",
    "    # TODO: Implement the function.\n",
    "    return np.exp(-(distances[..., np.newaxis] - filter_step)**2 / var**2)\n",
    "    ############################################################################\n",
    "    \n",
    "nbr_fea_gaussian = expand(nbr_fea)"
   ]
  },
  {
   "cell_type": "code",
   "execution_count": 13,
   "id": "described-jersey",
   "metadata": {
    "colab": {
     "base_uri": "https://localhost:8080/",
     "height": 166
    },
    "id": "temporal-georgia",
    "outputId": "53f8f528-cd10-4294-ef6b-fef3cc8dcb9a"
   },
   "outputs": [],
   "source": [
    "# assert np.array_equal(nbr_fea_gaussian, nbr_fea)"
   ]
  },
  {
   "cell_type": "code",
   "execution_count": 103,
   "id": "lightweight-collaboration",
   "metadata": {
    "id": "typical-singles"
   },
   "outputs": [],
   "source": [
    "gdf = GaussianDistance(dmin=0, dmax=12, step=0.2)\n",
    "nbr_fea = gdf.expand(nbr_fea)"
   ]
  },
  {
   "cell_type": "code",
   "execution_count": 25,
   "id": "palestinian-declaration",
   "metadata": {
    "id": "ambient-nowhere"
   },
   "outputs": [],
   "source": [
    "# For testing\n",
    "data_dir = './cgcnn_data/sample-regression'\n",
    "test = CIFData(data_dir)\n",
    "(atom_fea, nbr_fea, nbr_fea_idx), target, cif_id = test[-1]"
   ]
  },
  {
   "cell_type": "code",
   "execution_count": 26,
   "id": "civil-sixth",
   "metadata": {
    "id": "egyptian-function"
   },
   "outputs": [],
   "source": [
    "# For testing\n",
    "structures, _, _ = test[-1]\n",
    "orig_atom_fea_len = structures[0].shape[-1]\n",
    "nbr_fea_len = structures[1].shape[-1]"
   ]
  },
  {
   "cell_type": "markdown",
   "id": "activated-surface",
   "metadata": {
    "id": "sized-warren"
   },
   "source": [
    "### Build a Model"
   ]
  },
  {
   "cell_type": "markdown",
   "id": "constitutional-blanket",
   "metadata": {},
   "source": [
    "After building the crystal graph, the convolutional neural network act on top of the graph, and\n",
    "consecutive fully connected networks and pooling layer are used to predict the property of crystals.\n",
    "The convolution layer iteratively updates the atom feature vector $v_{i}$ by message passing with\n",
    "surrounding atoms and bonds with a non-linear graph convolution function:\n",
    "\n",
    "$ v_{i}^{(t+1)} = Conv(v_{i}^{(t)}, v_{j}^{(t)}, u_{(i,j)_{k}}), (i,j)_{k} \\in G $\n",
    "\n",
    "And then consequetive pooling layer and hidden fully connected layer will generate output of model:\n",
    "\n",
    "$ v_{c} = Pool(v_{0}^{(0)}, v_{1}^{(0)}, ..., v_{N}^{(0)}, ..., v_{N}^{(R)}) $\n",
    "\n",
    "Note that we can use any Convolution and Pooling layer if we maintain the permutation invariance. Here we will try two different convolution layer. Try to implement following two layers in the TODO section of model_hw.py. Note that we will do not change pooling layer, and you can use any activation function you use.\n",
    "\n",
    "1. Convolution weight matrix is shared by all neighbors. <br />\n",
    "$ v_{i}^{(t+1)} = g[(\\sum_{j,k}v_{j}^{(t)} \\oplus u_{(i,j)_{k}})W_{c}^{(t)}+v_{i}^{(t)}W_{s}^{(t)}+b^{(t)}] $\n",
    "\n",
    "2. Convolution weight matrix is differentiated at all neighbor pairs. <br />\n",
    "$ v_{i}^{(t+1)} = v_{i}^{(t+1)} + \\sum_{j,k}\\sigma(z_{(i,j)_{k}}^{(t)}W_{f}^{(t)}+b_{f}^{(t)}) \\odot g(z_{(i,j)_{k}}^{(t)}W_{s}^{(t)}+b_{s}^{(t)}) $"
   ]
  },
  {
   "cell_type": "code",
   "execution_count": 15,
   "id": "competent-defense",
   "metadata": {
    "id": "norwegian-israel"
   },
   "outputs": [],
   "source": [
    "from model import CrystalGraphConvNet"
   ]
  },
  {
   "cell_type": "code",
   "execution_count": 34,
   "id": "mysterious-apparel",
   "metadata": {
    "colab": {
     "base_uri": "https://localhost:8080/"
    },
    "id": "sunset-jefferson",
    "outputId": "9c8b23b9-dbc6-4001-8936-925767ad2d35"
   },
   "outputs": [],
   "source": [
    "# Simple test\n",
    "# Set seed using manual_seed\n",
    "# TODO explanation about crystal_atom_idx\n",
    "torch.manual_seed(123)\n",
    "crystal_atom_idx = [torch.Tensor([0, 1, 2, 3, 4, 5, 6, 7]).long()]\n",
    "############################################################################\n",
    "# TODO: Implement the model\n",
    "############################################################################\n",
    "\n",
    "model = CrystalGraphConvNet(orig_atom_fea_len, nbr_fea_len)\n",
    "out = model.forward(atom_fea, nbr_fea, nbr_fea_idx, crystal_atom_idx)\n",
    "assert out.item() == 0.6627039313316345"
   ]
  },
  {
   "cell_type": "markdown",
   "id": "adequate-heaven",
   "metadata": {
    "id": "corrected-geneva"
   },
   "source": [
    "### Training"
   ]
  },
  {
   "cell_type": "markdown",
   "id": "flush-pressing",
   "metadata": {},
   "source": [
    "If you built a model, let's train and visualize it. What is the difference between two models? Which one performs better and why do you think so? <br />\n",
    "Based on what you observed, can you make a convolution layer that performs better?"
   ]
  },
  {
   "cell_type": "code",
   "execution_count": 109,
   "id": "logical-cisco",
   "metadata": {
    "id": "198f8ba6"
   },
   "outputs": [],
   "source": [
    "from data_utils import collate_pool, get_train_val_test_loader\n",
    "from train_utils import Normalizer, train, validate, save_checkpoint\n",
    "from model import CrystalGraphConvNet\n",
    "from random import sample"
   ]
  },
  {
   "cell_type": "code",
   "execution_count": 110,
   "id": "enormous-nutrition",
   "metadata": {
    "id": "executive-transsexual"
   },
   "outputs": [],
   "source": [
    "torch.manual_seed(123)\n",
    "\n",
    "# set parameters\n",
    "data_dir = './hw_data/perovskite_energy'\n",
    "batch_size = 8\n",
    "train_ratio, val_ratio, test_ratio = 0.8, 0.1, 0.1\n",
    "\n",
    "# get dataset\n",
    "\n",
    "dataset = CIFData(data_dir)\n",
    "collate_fn = collate_pool\n",
    "train_loader, val_loader, test_loader = get_train_val_test_loader(\n",
    "    dataset=dataset,\n",
    "    collate_fn=collate_fn,\n",
    "    batch_size=batch_size,\n",
    "    train_ratio=train_ratio,\n",
    "    val_ratio=val_ratio,\n",
    "    test_ratio=test_ratio,\n",
    "    return_test=True)"
   ]
  },
  {
   "cell_type": "code",
   "execution_count": 111,
   "id": "southern-prototype",
   "metadata": {
    "id": "2909ed78"
   },
   "outputs": [],
   "source": [
    "# normalize target\n",
    "\n",
    "if len(dataset) < 500:\n",
    "    warnings.warn('Dataset has less than 500 data points. '\n",
    "                    'Lower accuracy is expected. ')\n",
    "    sample_data_list = [dataset[i] for i in range(len(dataset))]\n",
    "else:\n",
    "    sample_data_list = [dataset[i] for i in\n",
    "                        sample(range(len(dataset)), 500)]\n",
    "_, sample_target, _ = collate_pool(sample_data_list)\n",
    "normalizer = Normalizer(sample_target)"
   ]
  },
  {
   "cell_type": "code",
   "execution_count": 112,
   "id": "distinct-adolescent",
   "metadata": {
    "id": "8a730d9b"
   },
   "outputs": [],
   "source": [
    "# build model\n",
    "structures, _, _ = dataset[0]\n",
    "orig_atom_fea_len = structures[0].shape[-1]\n",
    "nbr_fea_len = structures[1].shape[-1]\n",
    "############################################################################\n",
    "# TODO: Tune the following parameters to optimize performance.\n",
    "############################################################################\n",
    "# number of hidden atom features in conv layers\n",
    "atom_fea_len = 64\n",
    "# number of hidden features after pooling\n",
    "h_fea_len = 128\n",
    "# number of conv layers\n",
    "n_conv = 3\n",
    "# number of hidden layers after pooling\n",
    "n_h = 1\n",
    "\n",
    "model = CrystalGraphConvNet(orig_atom_fea_len, nbr_fea_len,\n",
    "                            atom_fea_len=atom_fea_len,\n",
    "                            n_conv=n_conv,\n",
    "                            h_fea_len=h_fea_len,\n",
    "                            n_h=n_h)"
   ]
  },
  {
   "cell_type": "code",
   "execution_count": 115,
   "id": "preceding-equity",
   "metadata": {
    "id": "27a259a5"
   },
   "outputs": [],
   "source": [
    "# set hyperparameters\n",
    "epochs = 15\n",
    "criterion = nn.MSELoss()\n",
    "lr = 0.01\n",
    "momentum = 0.9\n",
    "weight_decay = 0\n",
    "\n",
    "optimizer = optim.SGD(model.parameters(), lr,\n",
    "                              momentum=momentum,\n",
    "                              weight_decay=weight_decay)\n",
    "\n",
    "# optimizer = optim.Adam(model.parameters(), lr,\n",
    "#                         weight_decay=weight_decay)\n",
    "lr_milestones = [100]\n",
    "scheduler = MultiStepLR(optimizer, milestones=lr_milestones,\n",
    "                            gamma=0.1)"
   ]
  },
  {
   "cell_type": "code",
   "execution_count": 116,
   "id": "environmental-roulette",
   "metadata": {
    "colab": {
     "base_uri": "https://localhost:8080/"
    },
    "id": "f47e96c7",
    "outputId": "5d07ca64-5a17-4a01-ce2a-e26572a020e6"
   },
   "outputs": [
    {
     "name": "stdout",
     "output_type": "stream",
     "text": [
      "Epoch: [0][0/67]\tTime 0.331 (0.331)\tData 0.153 (0.153)\tLoss 0.9089 (0.9089)\tMAE 52.953 (52.953)\n",
      "Epoch: [0][10/67]\tTime 0.088 (0.131)\tData 0.007 (0.027)\tLoss 0.7308 (2.1911)\tMAE 57.486 (88.634)\n",
      "Epoch: [0][20/67]\tTime 0.121 (0.124)\tData 0.010 (0.019)\tLoss 0.4646 (1.6788)\tMAE 50.236 (74.042)\n",
      "Epoch: [0][30/67]\tTime 0.144 (0.132)\tData 0.047 (0.027)\tLoss 0.5162 (1.3818)\tMAE 45.077 (66.992)\n",
      "Epoch: [0][40/67]\tTime 0.155 (0.131)\tData 0.025 (0.027)\tLoss 2.9797 (1.2818)\tMAE 83.490 (62.712)\n",
      "Epoch: [0][50/67]\tTime 0.120 (0.128)\tData 0.006 (0.023)\tLoss 0.2951 (1.1158)\tMAE 35.339 (58.756)\n",
      "Epoch: [0][60/67]\tTime 0.115 (0.128)\tData 0.006 (0.023)\tLoss 1.0737 (1.0636)\tMAE 51.202 (56.136)\n",
      "Test: [0/9]\tTime 0.138 (0.138)\tLoss 0.2320 (0.2320)\tMAE 27.616 (27.616)\n",
      " * MAE 40.503\n",
      "Epoch: [1][0/67]\tTime 0.270 (0.270)\tData 0.164 (0.164)\tLoss 0.2881 (0.2881)\tMAE 36.145 (36.145)\n",
      "Epoch: [1][10/67]\tTime 0.134 (0.178)\tData 0.007 (0.030)\tLoss 2.2767 (0.5159)\tMAE 58.210 (32.988)\n",
      "Epoch: [1][20/67]\tTime 0.238 (0.198)\tData 0.069 (0.038)\tLoss 0.3974 (0.4627)\tMAE 33.642 (34.870)\n",
      "Epoch: [1][30/67]\tTime 0.100 (0.176)\tData 0.016 (0.030)\tLoss 0.3596 (0.5187)\tMAE 43.256 (37.124)\n",
      "Epoch: [1][40/67]\tTime 0.083 (0.162)\tData 0.006 (0.028)\tLoss 0.1903 (0.5793)\tMAE 28.219 (39.613)\n",
      "Epoch: [1][50/67]\tTime 0.080 (0.152)\tData 0.010 (0.024)\tLoss 0.4247 (0.5636)\tMAE 46.197 (38.985)\n",
      "Epoch: [1][60/67]\tTime 0.104 (0.148)\tData 0.006 (0.024)\tLoss 0.6874 (0.6313)\tMAE 40.338 (39.337)\n",
      "Test: [0/9]\tTime 0.141 (0.141)\tLoss 0.3687 (0.3687)\tMAE 39.051 (39.051)\n",
      " * MAE 52.162\n",
      "Epoch: [2][0/67]\tTime 0.284 (0.284)\tData 0.187 (0.187)\tLoss 0.1417 (0.1417)\tMAE 26.940 (26.940)\n",
      "Epoch: [2][10/67]\tTime 0.111 (0.115)\tData 0.006 (0.023)\tLoss 2.6157 (0.5457)\tMAE 59.845 (34.688)\n",
      "Epoch: [2][20/67]\tTime 0.157 (0.117)\tData 0.006 (0.017)\tLoss 2.2152 (0.7955)\tMAE 81.155 (40.508)\n",
      "Epoch: [2][30/67]\tTime 0.103 (0.122)\tData 0.006 (0.021)\tLoss 0.3804 (0.7136)\tMAE 41.505 (41.468)\n",
      "Epoch: [2][40/67]\tTime 0.228 (0.128)\tData 0.021 (0.019)\tLoss 0.3289 (0.6322)\tMAE 36.552 (39.621)\n",
      "Epoch: [2][50/67]\tTime 0.159 (0.145)\tData 0.016 (0.023)\tLoss 0.5530 (0.6396)\tMAE 47.628 (38.514)\n",
      "Epoch: [2][60/67]\tTime 0.107 (0.140)\tData 0.012 (0.021)\tLoss 1.2717 (0.6560)\tMAE 58.418 (39.257)\n",
      "Test: [0/9]\tTime 0.175 (0.175)\tLoss 0.6132 (0.6132)\tMAE 47.645 (47.645)\n",
      " * MAE 35.106\n",
      "Epoch: [3][0/67]\tTime 0.248 (0.248)\tData 0.147 (0.147)\tLoss 0.1177 (0.1177)\tMAE 19.617 (19.617)\n",
      "Epoch: [3][10/67]\tTime 0.145 (0.121)\tData 0.007 (0.025)\tLoss 1.1494 (0.3998)\tMAE 52.664 (33.522)\n",
      "Epoch: [3][20/67]\tTime 0.108 (0.129)\tData 0.006 (0.032)\tLoss 0.2056 (0.3912)\tMAE 28.807 (32.766)\n",
      "Epoch: [3][30/67]\tTime 0.150 (0.131)\tData 0.014 (0.027)\tLoss 1.9754 (0.5071)\tMAE 61.166 (35.937)\n",
      "Epoch: [3][40/67]\tTime 0.255 (0.128)\tData 0.162 (0.026)\tLoss 0.1902 (0.5448)\tMAE 24.028 (36.781)\n",
      "Epoch: [3][50/67]\tTime 0.112 (0.126)\tData 0.006 (0.023)\tLoss 0.0303 (0.5624)\tMAE 10.319 (35.850)\n",
      "Epoch: [3][60/67]\tTime 0.112 (0.124)\tData 0.006 (0.021)\tLoss 0.2555 (0.5850)\tMAE 27.892 (36.802)\n",
      "Test: [0/9]\tTime 0.187 (0.187)\tLoss 0.5311 (0.5311)\tMAE 43.866 (43.866)\n",
      " * MAE 39.981\n",
      "Epoch: [4][0/67]\tTime 0.527 (0.527)\tData 0.206 (0.206)\tLoss 0.7559 (0.7559)\tMAE 49.494 (49.494)\n",
      "Epoch: [4][10/67]\tTime 0.088 (0.200)\tData 0.006 (0.031)\tLoss 0.7761 (1.5673)\tMAE 64.579 (68.842)\n",
      "Epoch: [4][20/67]\tTime 0.146 (0.166)\tData 0.008 (0.031)\tLoss 3.0801 (1.1437)\tMAE 78.128 (56.828)\n",
      "Epoch: [4][30/67]\tTime 0.103 (0.145)\tData 0.006 (0.024)\tLoss 0.4254 (0.8756)\tMAE 47.724 (50.773)\n",
      "Epoch: [4][40/67]\tTime 0.114 (0.144)\tData 0.007 (0.025)\tLoss 0.2141 (0.8254)\tMAE 26.979 (48.937)\n",
      "Epoch: [4][50/67]\tTime 0.114 (0.136)\tData 0.007 (0.022)\tLoss 0.4086 (0.7284)\tMAE 31.281 (46.372)\n",
      "Epoch: [4][60/67]\tTime 0.108 (0.134)\tData 0.006 (0.023)\tLoss 0.1629 (0.7183)\tMAE 24.354 (45.535)\n",
      "Test: [0/9]\tTime 0.170 (0.170)\tLoss 0.1088 (0.1088)\tMAE 21.385 (21.385)\n",
      " * MAE 41.906\n",
      "Epoch: [5][0/67]\tTime 0.289 (0.289)\tData 0.160 (0.160)\tLoss 0.7006 (0.7006)\tMAE 39.396 (39.396)\n",
      "Epoch: [5][10/67]\tTime 0.090 (0.117)\tData 0.006 (0.021)\tLoss 0.2550 (0.3257)\tMAE 32.890 (28.920)\n",
      "Epoch: [5][20/67]\tTime 1.288 (0.170)\tData 0.443 (0.040)\tLoss 3.5282 (0.4117)\tMAE 97.787 (30.541)\n",
      "Epoch: [5][30/67]\tTime 0.132 (0.209)\tData 0.006 (0.035)\tLoss 0.2114 (0.4452)\tMAE 33.301 (34.348)\n",
      "Epoch: [5][40/67]\tTime 0.101 (0.189)\tData 0.008 (0.033)\tLoss 0.1562 (0.4409)\tMAE 21.477 (34.709)\n",
      "Epoch: [5][50/67]\tTime 0.101 (0.174)\tData 0.011 (0.028)\tLoss 0.1931 (0.5548)\tMAE 29.699 (37.512)\n",
      "Epoch: [5][60/67]\tTime 0.123 (0.163)\tData 0.007 (0.025)\tLoss 0.6447 (0.6005)\tMAE 47.601 (38.346)\n",
      "Test: [0/9]\tTime 0.196 (0.196)\tLoss 0.6201 (0.6201)\tMAE 51.656 (51.656)\n",
      " * MAE 45.299\n",
      "Epoch: [6][0/67]\tTime 0.373 (0.373)\tData 0.191 (0.191)\tLoss 1.7091 (1.7091)\tMAE 53.688 (53.688)\n",
      "Epoch: [6][10/67]\tTime 0.110 (0.129)\tData 0.008 (0.025)\tLoss 0.1941 (0.6308)\tMAE 29.417 (42.939)\n",
      "Epoch: [6][20/67]\tTime 0.099 (0.134)\tData 0.006 (0.036)\tLoss 0.0402 (0.6307)\tMAE 12.993 (38.555)\n",
      "Epoch: [6][30/67]\tTime 0.119 (0.127)\tData 0.006 (0.027)\tLoss 0.0856 (0.5047)\tMAE 16.523 (34.977)\n",
      "Epoch: [6][40/67]\tTime 0.199 (0.133)\tData 0.014 (0.027)\tLoss 0.1028 (0.4319)\tMAE 16.751 (32.067)\n",
      "Epoch: [6][50/67]\tTime 0.152 (0.145)\tData 0.010 (0.025)\tLoss 0.1865 (0.4673)\tMAE 30.095 (32.461)\n",
      "Epoch: [6][60/67]\tTime 0.115 (0.147)\tData 0.008 (0.025)\tLoss 0.1701 (0.4943)\tMAE 22.933 (34.194)\n",
      "Test: [0/9]\tTime 0.133 (0.133)\tLoss 0.5416 (0.5416)\tMAE 47.162 (47.162)\n",
      " * MAE 39.827\n",
      "Epoch: [7][0/67]\tTime 0.255 (0.255)\tData 0.127 (0.127)\tLoss 0.8521 (0.8521)\tMAE 40.514 (40.514)\n",
      "Epoch: [7][10/67]\tTime 0.155 (0.123)\tData 0.006 (0.023)\tLoss 1.9338 (0.4730)\tMAE 51.589 (33.838)\n",
      "Epoch: [7][20/67]\tTime 0.086 (0.131)\tData 0.006 (0.026)\tLoss 0.1493 (0.5063)\tMAE 25.374 (34.530)\n",
      "Epoch: [7][30/67]\tTime 0.132 (0.123)\tData 0.006 (0.021)\tLoss 2.6768 (0.5325)\tMAE 77.197 (34.559)\n",
      "Epoch: [7][40/67]\tTime 0.151 (0.120)\tData 0.033 (0.018)\tLoss 0.7548 (0.5105)\tMAE 39.339 (35.243)\n",
      "Epoch: [7][50/67]\tTime 0.069 (0.122)\tData 0.006 (0.020)\tLoss 0.7591 (0.5275)\tMAE 56.286 (35.447)\n",
      "Epoch: [7][60/67]\tTime 0.350 (0.123)\tData 0.206 (0.022)\tLoss 1.1375 (0.4803)\tMAE 66.905 (33.879)\n",
      "Test: [0/9]\tTime 0.181 (0.181)\tLoss 0.6635 (0.6635)\tMAE 56.075 (56.075)\n",
      " * MAE 41.362\n",
      "Epoch: [8][0/67]\tTime 0.459 (0.459)\tData 0.251 (0.251)\tLoss 0.2439 (0.2439)\tMAE 36.180 (36.180)\n",
      "Epoch: [8][10/67]\tTime 0.156 (0.195)\tData 0.018 (0.037)\tLoss 1.8679 (0.5219)\tMAE 57.876 (41.590)\n",
      "Epoch: [8][20/67]\tTime 0.096 (0.167)\tData 0.006 (0.036)\tLoss 0.4994 (0.6587)\tMAE 36.467 (40.267)\n",
      "Epoch: [8][30/67]\tTime 0.091 (0.147)\tData 0.009 (0.027)\tLoss 0.0775 (0.5600)\tMAE 17.020 (38.056)\n",
      "Epoch: [8][40/67]\tTime 0.111 (0.140)\tData 0.009 (0.023)\tLoss 0.3529 (0.5855)\tMAE 36.517 (38.532)\n",
      "Epoch: [8][50/67]\tTime 0.099 (0.138)\tData 0.007 (0.024)\tLoss 0.7446 (0.5814)\tMAE 59.113 (39.187)\n",
      "Epoch: [8][60/67]\tTime 0.095 (0.139)\tData 0.006 (0.025)\tLoss 0.0871 (0.5665)\tMAE 18.709 (38.402)\n",
      "Test: [0/9]\tTime 0.164 (0.164)\tLoss 0.3394 (0.3394)\tMAE 34.234 (34.234)\n",
      " * MAE 34.432\n",
      "Epoch: [9][0/67]\tTime 0.244 (0.244)\tData 0.119 (0.119)\tLoss 0.3132 (0.3132)\tMAE 30.929 (30.929)\n",
      "Epoch: [9][10/67]\tTime 0.086 (0.135)\tData 0.007 (0.024)\tLoss 0.2885 (0.7261)\tMAE 35.542 (44.274)\n",
      "Epoch: [9][20/67]\tTime 0.151 (0.126)\tData 0.019 (0.018)\tLoss 0.2312 (0.6138)\tMAE 32.878 (41.283)\n",
      "Epoch: [9][30/67]\tTime 0.171 (0.150)\tData 0.016 (0.028)\tLoss 0.1946 (0.6011)\tMAE 29.816 (39.031)\n",
      "Epoch: [9][40/67]\tTime 0.151 (0.152)\tData 0.008 (0.025)\tLoss 0.7725 (0.5507)\tMAE 53.584 (38.338)\n",
      "Epoch: [9][50/67]\tTime 0.138 (0.149)\tData 0.006 (0.026)\tLoss 1.1050 (0.5062)\tMAE 46.733 (36.652)\n",
      "Epoch: [9][60/67]\tTime 0.126 (0.145)\tData 0.006 (0.026)\tLoss 0.1777 (0.4590)\tMAE 24.884 (34.218)\n",
      "Test: [0/9]\tTime 0.159 (0.159)\tLoss 0.2731 (0.2731)\tMAE 35.919 (35.919)\n",
      " * MAE 38.407\n",
      "Epoch: [10][0/67]\tTime 0.281 (0.281)\tData 0.187 (0.187)\tLoss 0.8191 (0.8191)\tMAE 53.029 (53.029)\n",
      "Epoch: [10][10/67]\tTime 0.081 (0.124)\tData 0.008 (0.023)\tLoss 0.1839 (0.3680)\tMAE 25.906 (32.018)\n",
      "Epoch: [10][20/67]\tTime 0.099 (0.128)\tData 0.006 (0.027)\tLoss 0.0788 (0.3680)\tMAE 16.854 (31.491)\n",
      "Epoch: [10][30/67]\tTime 0.113 (0.123)\tData 0.009 (0.021)\tLoss 0.2923 (0.4582)\tMAE 34.850 (34.643)\n",
      "Epoch: [10][40/67]\tTime 0.099 (0.129)\tData 0.006 (0.024)\tLoss 0.2315 (0.4958)\tMAE 25.739 (35.411)\n",
      "Epoch: [10][50/67]\tTime 0.166 (0.129)\tData 0.040 (0.023)\tLoss 0.2086 (0.4629)\tMAE 23.780 (34.290)\n",
      "Epoch: [10][60/67]\tTime 0.134 (0.136)\tData 0.008 (0.024)\tLoss 0.1927 (0.4641)\tMAE 21.555 (34.398)\n",
      "Test: [0/9]\tTime 0.160 (0.160)\tLoss 0.1802 (0.1802)\tMAE 26.699 (26.699)\n",
      " * MAE 40.065\n",
      "Epoch: [11][0/67]\tTime 0.314 (0.314)\tData 0.209 (0.209)\tLoss 0.1737 (0.1737)\tMAE 24.353 (24.353)\n",
      "Epoch: [11][10/67]\tTime 0.096 (0.129)\tData 0.014 (0.031)\tLoss 0.1549 (0.3139)\tMAE 26.288 (25.004)\n",
      "Epoch: [11][20/67]\tTime 0.137 (0.135)\tData 0.007 (0.030)\tLoss 0.4888 (0.4274)\tMAE 32.273 (28.249)\n",
      "Epoch: [11][30/67]\tTime 0.118 (0.128)\tData 0.009 (0.022)\tLoss 0.0771 (0.4802)\tMAE 18.912 (32.769)\n",
      "Epoch: [11][40/67]\tTime 0.133 (0.126)\tData 0.009 (0.023)\tLoss 0.6426 (0.4366)\tMAE 46.075 (32.239)\n",
      "Epoch: [11][50/67]\tTime 0.098 (0.124)\tData 0.006 (0.021)\tLoss 0.3693 (0.4712)\tMAE 41.460 (33.819)\n",
      "Epoch: [11][60/67]\tTime 0.099 (0.123)\tData 0.006 (0.022)\tLoss 0.0387 (0.4606)\tMAE 11.592 (34.088)\n",
      "Test: [0/9]\tTime 0.142 (0.142)\tLoss 0.3111 (0.3111)\tMAE 31.362 (31.362)\n",
      " * MAE 33.050\n",
      "Epoch: [12][0/67]\tTime 0.209 (0.209)\tData 0.095 (0.095)\tLoss 0.1598 (0.1598)\tMAE 23.150 (23.150)\n",
      "Epoch: [12][10/67]\tTime 0.177 (0.157)\tData 0.014 (0.022)\tLoss 0.1223 (0.3277)\tMAE 20.285 (31.506)\n",
      "Epoch: [12][20/67]\tTime 0.172 (0.185)\tData 0.016 (0.033)\tLoss 0.3500 (0.2793)\tMAE 40.606 (30.202)\n",
      "Epoch: [12][30/67]\tTime 0.141 (0.164)\tData 0.007 (0.025)\tLoss 0.0737 (0.2673)\tMAE 18.500 (28.733)\n",
      "Epoch: [12][40/67]\tTime 0.265 (0.154)\tData 0.189 (0.026)\tLoss 0.4815 (0.3133)\tMAE 42.868 (29.284)\n",
      "Epoch: [12][50/67]\tTime 0.096 (0.146)\tData 0.006 (0.022)\tLoss 0.2494 (0.3305)\tMAE 32.019 (30.428)\n",
      "Epoch: [12][60/67]\tTime 0.261 (0.143)\tData 0.137 (0.022)\tLoss 0.2968 (0.3708)\tMAE 35.970 (32.213)\n",
      "Test: [0/9]\tTime 0.199 (0.199)\tLoss 0.9514 (0.9514)\tMAE 55.773 (55.773)\n",
      " * MAE 39.086\n",
      "Epoch: [13][0/67]\tTime 0.252 (0.252)\tData 0.143 (0.143)\tLoss 0.1903 (0.1903)\tMAE 22.625 (22.625)\n",
      "Epoch: [13][10/67]\tTime 0.069 (0.126)\tData 0.006 (0.020)\tLoss 0.4504 (0.7396)\tMAE 46.715 (44.643)\n",
      "Epoch: [13][20/67]\tTime 0.117 (0.139)\tData 0.008 (0.030)\tLoss 0.1057 (0.6086)\tMAE 16.840 (39.065)\n",
      "Epoch: [13][30/67]\tTime 0.128 (0.131)\tData 0.006 (0.024)\tLoss 1.0229 (0.4895)\tMAE 54.723 (35.044)\n",
      "Epoch: [13][40/67]\tTime 0.297 (0.143)\tData 0.037 (0.025)\tLoss 0.2308 (0.4223)\tMAE 27.914 (32.294)\n",
      "Epoch: [13][50/67]\tTime 0.127 (0.144)\tData 0.008 (0.023)\tLoss 0.1864 (0.4490)\tMAE 29.016 (32.726)\n",
      "Epoch: [13][60/67]\tTime 0.128 (0.147)\tData 0.015 (0.024)\tLoss 0.3716 (0.4268)\tMAE 41.034 (32.572)\n",
      "Test: [0/9]\tTime 0.098 (0.098)\tLoss 0.4217 (0.4217)\tMAE 32.412 (32.412)\n",
      " * MAE 33.828\n",
      "Epoch: [14][0/67]\tTime 0.316 (0.316)\tData 0.191 (0.191)\tLoss 0.8413 (0.8413)\tMAE 38.511 (38.511)\n",
      "Epoch: [14][10/67]\tTime 0.068 (0.124)\tData 0.013 (0.028)\tLoss 0.6319 (0.5487)\tMAE 50.945 (36.014)\n",
      "Epoch: [14][20/67]\tTime 0.113 (0.133)\tData 0.006 (0.033)\tLoss 0.1952 (0.4357)\tMAE 24.271 (32.116)\n",
      "Epoch: [14][30/67]\tTime 0.085 (0.126)\tData 0.007 (0.026)\tLoss 0.2233 (0.3705)\tMAE 27.289 (30.746)\n",
      "Epoch: [14][40/67]\tTime 0.154 (0.129)\tData 0.009 (0.026)\tLoss 1.0805 (0.3631)\tMAE 58.168 (30.988)\n",
      "Epoch: [14][50/67]\tTime 0.188 (0.126)\tData 0.016 (0.023)\tLoss 1.5061 (0.3786)\tMAE 68.836 (32.164)\n",
      "Epoch: [14][60/67]\tTime 0.148 (0.128)\tData 0.008 (0.024)\tLoss 0.2685 (0.3619)\tMAE 32.840 (31.383)\n",
      "Test: [0/9]\tTime 0.256 (0.256)\tLoss 0.3227 (0.3227)\tMAE 35.495 (35.495)\n",
      " * MAE 39.594\n"
     ]
    }
   ],
   "source": [
    "for epoch in range(epochs):\n",
    "    best_mae_error = 1e10\n",
    "    # train for one epoch\n",
    "    # TO-Do, add tqdm in the train method, don't print too much here\n",
    "    # To-Do, fix warning\n",
    "    train(train_loader, model, criterion, optimizer, epoch, normalizer)\n",
    "\n",
    "    # evaluate on validation set\n",
    "    mae_error = validate(val_loader, model, criterion, normalizer)\n",
    "\n",
    "    if mae_error != mae_error:\n",
    "        print('Exit due to NaN')\n",
    "        sys.exit(1)\n",
    "\n",
    "    scheduler.step()\n",
    "\n",
    "    # remember the best mae_eror and save checkpoint\n",
    "    is_best = mae_error < best_mae_error\n",
    "    best_mae_error = min(mae_error, best_mae_error)\n",
    "\n",
    "    save_checkpoint({\n",
    "        'epoch': epoch + 1,\n",
    "        'state_dict': model.state_dict(),\n",
    "        'best_mae_error': best_mae_error,\n",
    "        'optimizer': optimizer.state_dict(),\n",
    "        'normalizer': normalizer.state_dict(),\n",
    "    }, is_best)\n"
   ]
  },
  {
   "cell_type": "code",
   "execution_count": null,
   "id": "minute-desktop",
   "metadata": {},
   "outputs": [],
   "source": [
    "running_record = {'train_loss': [], 'train_mae': [],\n",
    "                    'val_loss': [], 'val_mae': []}\n",
    "\n",
    "for epoch in range(epochs):\n",
    "    print('Epoch {}/{}'.format(epoch, epochs - 1))\n",
    "    print('-' * 10)\n",
    "    \n",
    "    best_mae_error = 1e10\n",
    "    # train for one epoch\n",
    "    # TO-Do, add tqdm in the train method, don't print too much here\n",
    "    # To-Do, fix warning\n",
    "    train_loss, train_mae = train(train_loader, model, criterion, optimizer, epoch, normalizer)\n",
    "\n",
    "    # evaluate on validation set\n",
    "    val_loss, val_mae = validate(val_loader, model, criterion, normalizer)\n",
    "\n",
    "    # append loss and mae to running record. Convert tensor to float if necessary\n",
    "    running_record['train_loss'].append(train_loss)\n",
    "    running_record['train_mae'].append(train_mae)\n",
    "    running_record['val_loss'].append(val_loss)\n",
    "    running_record['val_mae'].append(val_mae)\n",
    "\n",
    "\n",
    "    if val_mae != val_mae:\n",
    "        print('Exit due to NaN')\n",
    "        sys.exit(1)\n",
    "\n",
    "    scheduler.step()\n",
    "\n",
    "    # remember the best mae_eror and save checkpoint\n",
    "    is_best = val_mae < best_mae_error\n",
    "    best_mae_error = min(val_mae, best_mae_error)\n",
    "\n",
    "    save_checkpoint({\n",
    "        'epoch': epoch + 1,\n",
    "        'state_dict': model.state_dict(),\n",
    "        'best_mae_error': best_mae_error,\n",
    "        'optimizer': optimizer.state_dict(),\n",
    "        'normalizer': normalizer.state_dict(),\n",
    "    }, is_best)\n"
   ]
  },
  {
   "cell_type": "code",
   "execution_count": 117,
   "id": "powerful-ideal",
   "metadata": {
    "colab": {
     "base_uri": "https://localhost:8080/"
    },
    "id": "34297460",
    "outputId": "fee9373d-e0dc-4180-c1bf-086c60359026"
   },
   "outputs": [
    {
     "name": "stdout",
     "output_type": "stream",
     "text": [
      "---------Evaluate Model on Test Set---------------\n",
      "Test: [0/9]\tTime 0.173 (0.173)\tLoss 2.0494 (2.0494)\tMAE 66.022 (66.022)\n",
      " ** MAE 48.115\n"
     ]
    },
    {
     "data": {
      "text/plain": [
       "tensor(48.1149)"
      ]
     },
     "execution_count": 117,
     "metadata": {},
     "output_type": "execute_result"
    }
   ],
   "source": [
    "# test best model\n",
    "print('---------Evaluate Model on Test Set---------------')\n",
    "best_checkpoint = torch.load('model_best.pth.tar')\n",
    "model.load_state_dict(best_checkpoint['state_dict'])\n",
    "_, l=validate(test_loader, model, criterion, normalizer, test=True)"
   ]
  },
  {
   "cell_type": "code",
   "execution_count": null,
   "id": "devoted-onion",
   "metadata": {
    "id": "a462976b"
   },
   "outputs": [],
   "source": [
    "# visualize the training and val loss \n",
    "# visualize the training and val mae\n",
    "import matplotlib.pyplot as plt\n",
    "from matplotlib.ticker import MaxNLocator\n",
    "\n",
    "fig, ax = plt.subplots(1, 2, figsize=(8, 5))\n",
    "ax[0].plot(running_record['train_loss'], label='train')\n",
    "ax[0].plot(running_record['val_loss'], label='val')\n",
    "ax[0].set_xlabel('Epoch')\n",
    "ax[0].set_ylabel('Loss')\n",
    "ax[0].legend()\n",
    "ax[0].set_title('Loss')\n",
    "# set x axis to be integer\n",
    "ax[0].xaxis.set_major_locator(MaxNLocator(integer=True))\n",
    "\n",
    "ax[1].plot(running_record['train_mae'], label='train')\n",
    "ax[1].plot(running_record['val_mae'], label='val')\n",
    "ax[1].set_xlabel('Epoch')\n",
    "ax[1].set_ylabel('MAE')\n",
    "ax[1].legend()\n",
    "ax[1].set_title('MAE')\n",
    "# set x axis to be integer\n",
    "ax[1].xaxis.set_major_locator(MaxNLocator(integer=True))\n",
    "\n",
    "plt.tight_layout()\n",
    "plt.show()"
   ]
  },
  {
   "cell_type": "code",
   "execution_count": null,
   "id": "outdoor-redhead",
   "metadata": {
    "id": "9db2072a"
   },
   "outputs": [],
   "source": []
  }
 ],
 "metadata": {
  "colab": {
   "provenance": []
  },
  "kernelspec": {
   "display_name": "cvx",
   "language": "python",
   "name": "cvx"
  },
  "language_info": {
   "codemirror_mode": {
    "name": "ipython",
    "version": 3
   },
   "file_extension": ".py",
   "mimetype": "text/x-python",
   "name": "python",
   "nbconvert_exporter": "python",
   "pygments_lexer": "ipython3",
   "version": "3.9.12"
  }
 },
 "nbformat": 4,
 "nbformat_minor": 5
}
