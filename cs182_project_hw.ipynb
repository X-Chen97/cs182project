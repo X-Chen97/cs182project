{
 "cells": [
  {
   "cell_type": "markdown",
   "id": "prospective-superior",
   "metadata": {
    "id": "attended-jones"
   },
   "source": [
    "### CS182 project - Deliver ideas of CGCNN"
   ]
  },
  {
   "cell_type": "markdown",
   "id": "toxic-attempt",
   "metadata": {
    "id": "cooperative-pressure"
   },
   "source": [
    "### General Explanation\n",
    "\n",
    "The key idea of CGCNN is to represent crystal structure by a crystal graph, which encodes not only\n",
    "the atomic information but also bonding information between atoms based on the distance. Here we\n",
    "will let each atomic feature vector as vi, which encodes the property of the atom corresponding to\n",
    "node i. The edge feature vector is represented as u(i,j)k, which encodes k-th bond connecting atom\n",
    "i, j. Note that there can be several bonds between atoms, which originate from the periodic nature of\n",
    "crystals. <br />\n",
    "Obviously, there are many ways to encode atomic and bond data. For the sake of simplicity, we will\n",
    "follow the methods used in the CGCNN paper, which used a pre-defined encoding vector to change\n",
    "atoms into vectors. These vectors have 92 dimensions, and for 100 atoms in the periodic table, they\n",
    "have different encodings which consist of 0 and 1. For the edge feature vectors, there also can be\n",
    "many ways to encode bond information; bond length, angle, and covalency. However, we will only\n",
    "use bond-length information between nearest neighbors, by applying a Gaussian kernel to change\n",
    "it to encoding vectors. One can follow the homework notebook on how this embedding is done to\n",
    "NaCl(salt) Crystal."
   ]
  },
  {
   "cell_type": "markdown",
   "id": "assumed-lightweight",
   "metadata": {
    "id": "domestic-premiere"
   },
   "source": [
    "### Encoding Crystal into Crystal Graph"
   ]
  },
  {
   "cell_type": "code",
   "execution_count": 1,
   "id": "acknowledged-laundry",
   "metadata": {
    "id": "sonic-career"
   },
   "outputs": [],
   "source": [
    "# Note: Need pymatgen"
   ]
  },
  {
   "cell_type": "code",
   "execution_count": null,
   "id": "alert-version",
   "metadata": {
    "colab": {
     "base_uri": "https://localhost:8080/"
    },
    "id": "6lHqzidaNNuE",
    "outputId": "5c8b5c92-201a-42d6-f91d-991dac79db27"
   },
   "outputs": [],
   "source": [
    "!pip install pymatgen"
   ]
  },
  {
   "cell_type": "code",
   "execution_count": 2,
   "id": "extraordinary-zoning",
   "metadata": {
    "id": "labeled-exposure"
   },
   "outputs": [],
   "source": [
    "import os\n",
    "import sys\n",
    "import csv\n",
    "import json\n",
    "import torch\n",
    "import torch.nn as nn\n",
    "import random\n",
    "import warnings\n",
    "warnings.filterwarnings('ignore')\n",
    "import functools\n",
    "import numpy as np\n",
    "import networkx as nx\n",
    "import matplotlib.pyplot as plt\n",
    "from matplotlib.colors import to_rgba_array\n",
    "\n",
    "from pymatgen.core.structure import Structure\n",
    "from pymatgen.analysis.graphs import StructureGraph\n",
    "from pymatgen.analysis.local_env import CrystalNN\n",
    "from torch.utils.data import Dataset, DataLoader\n",
    "from torch.utils.data.dataloader import default_collate\n",
    "from torch.utils.data.sampler import SubsetRandomSampler\n",
    "import torch.optim as optim\n",
    "from torch.optim.lr_scheduler import MultiStepLR\n",
    "\n",
    "from data_utils import CIFData\n",
    "from data_utils import AtomCustomJSONInitializer\n",
    "from data_utils import AtomInitializer\n",
    "from data_utils import GaussianDistance"
   ]
  },
  {
   "cell_type": "code",
   "execution_count": null,
   "id": "talented-compromise",
   "metadata": {
    "id": "tO-SaVvUNohi"
   },
   "outputs": [],
   "source": [
    "!unzip cgcnn_data.zip\n",
    "!unzip hw_data.zip"
   ]
  },
  {
   "cell_type": "markdown",
   "id": "secondary-kinase",
   "metadata": {},
   "source": [
    "Let's convert salt (NaCl) to crystal graph. <br />\n",
    "You can use print method to see the lattice and position of Na, Cl atoms in the cell. <br />\n",
    "We will also visualize it to a graph. Each node of graph is atom in the crystal, and edge is bonds that have distance as information. "
   ]
  },
  {
   "cell_type": "code",
   "execution_count": 3,
   "id": "signed-progress",
   "metadata": {
    "colab": {
     "base_uri": "https://localhost:8080/"
    },
    "id": "primary-asian",
    "outputId": "f046f5a1-f33d-426f-ad7c-ae8ba1918d61"
   },
   "outputs": [
    {
     "name": "stdout",
     "output_type": "stream",
     "text": [
      "Full Formula (Na4 Cl4)\n",
      "Reduced Formula: NaCl\n",
      "abc   :   5.620000   5.620000   5.620000\n",
      "angles:  90.000000  90.000000  90.000000\n",
      "pbc   :       True       True       True\n",
      "Sites (8)\n",
      "  #  SP      a    b    c\n",
      "---  ----  ---  ---  ---\n",
      "  0  Na+   0    0    0\n",
      "  1  Na+   0    0.5  0.5\n",
      "  2  Na+   0.5  0    0.5\n",
      "  3  Na+   0.5  0.5  0\n",
      "  4  Cl-   0.5  0.5  0.5\n",
      "  5  Cl-   0.5  0    0\n",
      "  6  Cl-   0    0.5  0\n",
      "  7  Cl-   0    0    0.5\n"
     ]
    }
   ],
   "source": [
    "# Load structure from CIF file \n",
    "nacl = Structure.from_file('hw_data/sample_regression/1000041.cif')\n",
    "print(nacl)"
   ]
  },
  {
   "cell_type": "code",
   "execution_count": 4,
   "id": "central-shoot",
   "metadata": {
    "colab": {
     "base_uri": "https://localhost:8080/",
     "height": 516
    },
    "id": "tVrZhlZTUPRS",
    "outputId": "bd820e37-8c60-4b78-eed2-644beb98d8f7"
   },
   "outputs": [
    {
     "data": {
      "image/png": "[encoded data removed]",
      "text/plain": [
       "<Figure size 432x288 with 1 Axes>"
      ]
     },
     "metadata": {},
     "output_type": "display_data"
    }
   ],
   "source": [
    "# Visualization of the structure using the CIF file \n",
    "crystal = CrystalNN()\n",
    "\n",
    "sg = StructureGraph.with_local_env_strategy(nacl, crystal)\n",
    "\n",
    "node_labels = {}\n",
    "for i, site in enumerate(nacl):\n",
    "    label = \"{}\".format(site.specie)\n",
    "    node_labels[i] = label\n",
    "\n",
    "edge_weights = {}\n",
    "for edge in sg.graph.edges():\n",
    "    dist = nacl.get_distance(edge[0], edge[1])\n",
    "    edge_weights[edge] = dist\n",
    "\n",
    "pos = nx.spring_layout(sg.graph)\n",
    "nx.draw(sg.graph, pos, with_labels=True, labels=node_labels, font_size=12, node_size=1000, node_color=\"w\")\n",
    "nx.draw_networkx_edge_labels(sg.graph, pos, edge_labels=edge_weights, font_size=10)\n",
    "plt.axis(\"off\")\n",
    "plt.show()"
   ]
  },
  {
   "cell_type": "markdown",
   "id": "offensive-imaging",
   "metadata": {},
   "source": [
    "Next we will encode atoms in the node to atomistic feature vectors using pre-difined atom embedding. <br />\n",
    "atom_init.json is containing vector embedding of atoms, where key (1, 2, 3, ..., 100) represent atomic number\n",
    "and values are encoding vectors. <br />\n",
    "You can try different atom embedding too if you want."
   ]
  },
  {
   "cell_type": "code",
   "execution_count": 5,
   "id": "expired-antarctica",
   "metadata": {
    "id": "catholic-dependence"
   },
   "outputs": [],
   "source": [
    "# Load embedding file.\n",
    "element_embedding_file = 'hw_data/sample_regression/atom_init.json'\n",
    "with open(element_embedding_file) as f:\n",
    "    elem_embedding = json.load(f)\n",
    "elem_embedding = {int(key): value for key, value\n",
    "                  in elem_embedding.items()}\n",
    "\n",
    "atom_fea = None\n",
    "############################################################################\n",
    "# TODO: Encode crsytal data to atomistic features. (Hint: Use np.vstack and \n",
    "# elem_embedding to join all embedded specie numbers of NaCl)\n",
    "# Atom_feature shd have shape of (# of atoms, len(embedding vector))\n",
    "\n",
    "# YOUR CODE HERE\n",
    "\n",
    "# Solution\n",
    "atom_fea = np.vstack([elem_embedding[nacl[i].specie.number]\n",
    "                      for i in range(len(nacl))])\n",
    "############################################################################\n",
    "assert atom_fea is not None\n",
    "atom_fea = torch.Tensor(atom_fea)\n",
    "\n",
    "\n",
    "assert atom_fea.shape == (8,92)"
   ]
  },
  {
   "cell_type": "markdown",
   "id": "instructional-charm",
   "metadata": {},
   "source": [
    "Next, we will get neighbor information from each atoms in the cell.\n",
    "We will get help from pymatgen package.\n",
    "get_all_neighbor function of structure object returns atoms within\n",
    "the input radius. Note that here len(all_nbrs) is 8 since there are\n",
    "8 atoms (4 Na+, 4 Cl-) in the cell. Each list contain the neighbor\n",
    "atom information considering periodicity.\n",
    "We will use 12 nearest neighbors after sorting with distance."
   ]
  },
  {
   "cell_type": "code",
   "execution_count": 6,
   "id": "variable-thirty",
   "metadata": {
    "colab": {
     "base_uri": "https://localhost:8080/",
     "height": 201
    },
    "id": "fifth-variance",
    "outputId": "e069b571-6c6d-47ad-a421-c4a642e79443"
   },
   "outputs": [],
   "source": [
    "all_nbrs = nacl.get_all_neighbors(r = 8, include_index=True)\n",
    "all_nbrs = [sorted(nbrs, key=lambda x: x[1]) for nbrs in all_nbrs]\n",
    "\n",
    "assert len(all_nbrs) == 8\n",
    "\n",
    "nbr_fea_idx, nbr_fea = [], []\n",
    "for nbr in all_nbrs:\n",
    "    # Note: x[1] returns distance to neighbors.\n",
    "    # Note: x[2] returns index of original structure object\n",
    "    nbr_fea_idx.append(list(map(lambda x: x[2],\n",
    "                                nbr[:12])))\n",
    "    nbr_fea.append(list(map(lambda x: x[1],\n",
    "                            nbr[:12])))\n",
    "\n",
    "# nbr_fea_idx contain information of nearest neighbor atoms \n",
    "# from ith row (ith atom in the cell)\n",
    "# For example, 0th atom (Na+ (0.0000, 0.0000, 0.0000)) is neighbored\n",
    "# with 5th, 6th, 7th, etc...\n",
    "# nbr_fea contain information of nearest neighbot distance. \n",
    "nbr_fea_idx, nbr_fea = np.array(nbr_fea_idx), np.array(nbr_fea)\n",
    "nbr_fea_idx = torch.LongTensor(nbr_fea_idx)\n",
    "\n",
    "nbr_fea_idx_standard = torch.LongTensor([[5, 6, 7, 7, 6, 5, 2, 1, 2, 1, 3, 3],\n",
    "                                         [4, 7, 6, 7, 6, 4, 2, 0, 3, 2, 3, 3],\n",
    "                                         [4, 7, 5, 7, 5, 4, 0, 3, 1, 3, 3, 1],\n",
    "                                         [4, 6, 5, 6, 5, 4, 2, 1, 1, 2, 0, 0],\n",
    "                                         [3, 1, 2, 3, 2, 1, 6, 5, 6, 5, 7, 7],\n",
    "                                         [2, 3, 0, 3, 0, 2, 4, 4, 6, 6, 4, 7],\n",
    "                                         [1, 3, 0, 3, 0, 1, 4, 4, 5, 5, 5, 4],\n",
    "                                         [2, 1, 0, 2, 1, 0, 4, 5, 5, 4, 6, 6]])\n",
    "\n",
    "assert torch.equal(nbr_fea_idx, nbr_fea_idx_standard)"
   ]
  },
  {
   "cell_type": "markdown",
   "id": "connected-string",
   "metadata": {},
   "source": [
    "Now we have two features, atomic feature and neighbor feature.\n",
    "Note that neighbor feature is discontionous information with respect to the distance.\n",
    "Therefore we will expand neighbor feature using Gaussian Kernel (or Gaussian filter)\n",
    "https://en.wikipedia.org/wiki/Gaussian_filter"
   ]
  },
  {
   "cell_type": "code",
   "execution_count": 7,
   "id": "realistic-corporation",
   "metadata": {
    "id": "american-annotation"
   },
   "outputs": [],
   "source": [
    "dmin = 0\n",
    "dmax = 12\n",
    "step = 0.2\n",
    "var = step\n",
    "filter_step = np.arange(dmin, dmax+step, step)\n",
    "\n",
    "def expand(distances):\n",
    "    ############################################################################\n",
    "    # TODO: Implement the expand function using a Gaussian kernel.\n",
    "    # raise NotImplementedError()\n",
    "    \n",
    "    # Solution\n",
    "    return np.exp(-(distances[..., np.newaxis] - filter_step)**2 / var**2)\n",
    "    ############################################################################\n",
    "\n",
    "    \n",
    "nbr_fea_gaussian = expand(nbr_fea)"
   ]
  },
  {
   "cell_type": "code",
   "execution_count": 8,
   "id": "tropical-prize",
   "metadata": {
    "id": "typical-singles"
   },
   "outputs": [],
   "source": [
    "gdf = GaussianDistance(dmin=0, dmax=12, step=0.2)\n",
    "nbr_fea = gdf.expand(nbr_fea)"
   ]
  },
  {
   "cell_type": "code",
   "execution_count": 9,
   "id": "exact-remains",
   "metadata": {},
   "outputs": [],
   "source": [
    "assert np.array_equal(nbr_fea_gaussian, nbr_fea)"
   ]
  },
  {
   "cell_type": "markdown",
   "id": "infectious-folks",
   "metadata": {
    "id": "sized-warren"
   },
   "source": [
    "### Build a Model"
   ]
  },
  {
   "cell_type": "markdown",
   "id": "right-excuse",
   "metadata": {},
   "source": [
    "After building the crystal graph, the convolutional neural network act on top of the graph, and\n",
    "consecutive fully connected networks and pooling layer are used to predict the property of crystals.\n",
    "The convolution layer iteratively updates the atom feature vector $v_{i}$ by message passing with\n",
    "surrounding atoms and bonds with a non-linear graph convolution function:\n",
    "\n",
    "$ v_{i}^{(t+1)} = Conv(v_{i}^{(t)}, v_{j}^{(t)}, u_{(i,j)_{k}}), (i,j)_{k} \\in G $\n",
    "\n",
    "And then consequetive pooling layer and hidden fully connected layer will generate output of model:\n",
    "\n",
    "$ v_{c} = Pool(v_{0}^{(0)}, v_{1}^{(0)}, ..., v_{N}^{(0)}, ..., v_{N}^{(R)}) $\n",
    "\n",
    "Note that we can use any Convolution and Pooling layer if we maintain the permutation invariance. Here we will try two different convolution layer. Try to implement WeightShareConvLayer in the TODO section of model_hw.py. We will offer solution for the ConvLayer. Note that we will do not change pooling layer, and you can use any activation function you use. But try to use sigmoid function here. After you implement WeightShareConvLayer, try to implement CrystalGraphConvNet by filling in the TODO section of model_hw.py. You can find a detailed explanation there. \n",
    "\n",
    "1. WeightShareConvLayer; This is a Convolution weight matrix is shared by all neighbors. <br />\n",
    "$ v_{i}^{(t+1)} = g[(\\sum_{j,k}v_{j}^{(t)} \\oplus u_{(i,j)_{k}})W_{c}^{(t)}+v_{i}^{(t)}W_{s}^{(t)}+b^{(t)}] $ <br />\n",
    "Here $W_{c}, W_{s},$ and $b$ are the convolution weight matrix, self-weight matrix, and bias. <br />\n",
    "\n",
    "\n",
    "2. ConvLayer; This is a Convolution weight matrix is differentiated at all neighbor pairs. <br />\n",
    "$ v_{i}^{(t+1)} = v_{i}^{(t+1)} + \\sum_{j,k}\\sigma(z_{(i,j)_{k}}^{(t)}W_{f}^{(t)}+b_{f}^{(t)}) \\odot g(z_{(i,j)_{k}}^{(t)}W_{s}^{(t)}+b_{s}^{(t)}) $ <br />\n",
    "Here $z_{(i,j)_{k}} = v_{i} \\oplus v_{j} \\oplus u_{(i,j)_{k}}$, $\\odot$ denotes element-wise multiplication and $\\sigma$ denotes a sigmoid function."
   ]
  },
  {
   "cell_type": "code",
   "execution_count": 10,
   "id": "satellite-formula",
   "metadata": {
    "id": "norwegian-israel"
   },
   "outputs": [],
   "source": [
    "from model_hw import CrystalGraphConvNet\n",
    "from model_hw import ConvLayer\n",
    "from model_hw import WeightShareConvLayer"
   ]
  },
  {
   "cell_type": "code",
   "execution_count": 11,
   "id": "another-interstate",
   "metadata": {},
   "outputs": [],
   "source": [
    "# For testing purpose\n",
    "data_dir = './cgcnn_data/sample-regression'\n",
    "test = CIFData(data_dir)\n",
    "(atom_fea, nbr_fea, nbr_fea_idx), target, cif_id = test[-1]\n",
    "structures, _, _ = test[-1]\n",
    "orig_atom_fea_len = structures[0].shape[-1]\n",
    "nbr_fea_len = structures[1].shape[-1]"
   ]
  },
  {
   "cell_type": "code",
   "execution_count": 12,
   "id": "working-gates",
   "metadata": {},
   "outputs": [],
   "source": [
    "torch.manual_seed(123)\n",
    "\n",
    "convlayer_test = ConvLayer(92, 41)\n",
    "convlayer_test_result = convlayer_test.forward(atom_fea, nbr_fea, nbr_fea_idx)\n",
    "\n",
    "############################################################################\n",
    "# TODO: Implement the WeightShareConvLayer model in model_hw.py\n",
    "############################################################################\n",
    "\n",
    "weightshare_test = WeightShareConvLayer(92, 41)\n",
    "weightshare_test_result = weightshare_test.forward(atom_fea, nbr_fea, nbr_fea_idx)\n",
    "\n",
    "assert convlayer_test_result.shape == (8, 92)\n",
    "assert weightshare_test_result.shape == (8, 92)"
   ]
  },
  {
   "cell_type": "code",
   "execution_count": 13,
   "id": "italic-thinking",
   "metadata": {
    "colab": {
     "base_uri": "https://localhost:8080/"
    },
    "id": "sunset-jefferson",
    "outputId": "9c8b23b9-dbc6-4001-8936-925767ad2d35"
   },
   "outputs": [],
   "source": [
    "# Simple test\n",
    "# Set seed using manual_seed\n",
    "# TODO explanation about crystal_atom_idx\n",
    "torch.manual_seed(123)\n",
    "crystal_atom_idx = [torch.Tensor([0, 1, 2, 3, 4, 5, 6, 7]).long()]\n",
    "############################################################################\n",
    "# TODO: Implement the CrystalGraphConvNet model in model_hw.py\n",
    "############################################################################\n",
    "\n",
    "model1 = CrystalGraphConvNet(orig_atom_fea_len, nbr_fea_len, option='C')\n",
    "out = model1.forward(atom_fea, nbr_fea, nbr_fea_idx, crystal_atom_idx)\n",
    "assert out.item() == 0.6627039313316345\n",
    "\n",
    "model2 = CrystalGraphConvNet(orig_atom_fea_len, nbr_fea_len, option='WC')\n",
    "out = model2.forward(atom_fea, nbr_fea, nbr_fea_idx, crystal_atom_idx)\n",
    "assert out.item() == -0.5442343950271606"
   ]
  },
  {
   "cell_type": "markdown",
   "id": "approximate-incident",
   "metadata": {
    "id": "corrected-geneva"
   },
   "source": [
    "### Training"
   ]
  },
  {
   "cell_type": "markdown",
   "id": "clear-spray",
   "metadata": {},
   "source": [
    "Q. If you built a model, let's train and visualize it. What is the difference between two models? Which one performs better and why do you think so? <br />\n",
    "Based on what you observed, can you make a convolution layer that performs better?"
   ]
  },
  {
   "cell_type": "code",
   "execution_count": 52,
   "id": "cultural-wagon",
   "metadata": {
    "id": "198f8ba6"
   },
   "outputs": [],
   "source": [
    "from data_utils import collate_pool, get_train_val_test_loader\n",
    "from train_utils import Normalizer, train, validate, save_checkpoint\n",
    "from model import CrystalGraphConvNet\n",
    "from random import sample"
   ]
  },
  {
   "cell_type": "code",
   "execution_count": 53,
   "id": "referenced-summit",
   "metadata": {
    "id": "executive-transsexual"
   },
   "outputs": [],
   "source": [
    "torch.manual_seed(123)\n",
    "\n",
    "# set parameters\n",
    "data_dir = './hw_data/perovskite_energy'\n",
    "batch_size = 8\n",
    "train_ratio, val_ratio, test_ratio = 0.8, 0.1, 0.1\n",
    "\n",
    "# get dataset\n",
    "\n",
    "dataset = CIFData(data_dir)\n",
    "collate_fn = collate_pool\n",
    "train_loader, val_loader, test_loader = get_train_val_test_loader(\n",
    "    dataset=dataset,\n",
    "    collate_fn=collate_fn,\n",
    "    batch_size=batch_size,\n",
    "    train_ratio=train_ratio,\n",
    "    val_ratio=val_ratio,\n",
    "    test_ratio=test_ratio,\n",
    "    return_test=True)"
   ]
  },
  {
   "cell_type": "code",
   "execution_count": 54,
   "id": "determined-humanitarian",
   "metadata": {
    "id": "2909ed78"
   },
   "outputs": [],
   "source": [
    "# normalize target\n",
    "\n",
    "if len(dataset) < 500:\n",
    "    warnings.warn('Dataset has less than 500 data points. '\n",
    "                    'Lower accuracy is expected. ')\n",
    "    sample_data_list = [dataset[i] for i in range(len(dataset))]\n",
    "else:\n",
    "    sample_data_list = [dataset[i] for i in\n",
    "                        sample(range(len(dataset)), 500)]\n",
    "_, sample_target, _ = collate_pool(sample_data_list)\n",
    "normalizer = Normalizer(sample_target)"
   ]
  },
  {
   "cell_type": "code",
   "execution_count": 55,
   "id": "positive-hungarian",
   "metadata": {
    "id": "8a730d9b"
   },
   "outputs": [],
   "source": [
    "# build model\n",
    "structures, _, _ = dataset[0]\n",
    "orig_atom_fea_len = structures[0].shape[-1]\n",
    "nbr_fea_len = structures[1].shape[-1]\n",
    "############################################################################\n",
    "# TODO: Tune the following parameters and model to optimize performance.\n",
    "# Note: You can change your convolution layer with option argument in \n",
    "# CrystalGraphConvNet. C is ConvLayer, WC is WeightShareConvLayer.\n",
    "############################################################################\n",
    "# number of hidden atom features in conv layers\n",
    "atom_fea_len = 64\n",
    "# number of hidden features after pooling\n",
    "h_fea_len = 128\n",
    "# number of conv layers\n",
    "n_conv = 3\n",
    "# number of hidden layers after pooling\n",
    "n_h = 1\n",
    "\n",
    "model = CrystalGraphConvNet(orig_atom_fea_len, nbr_fea_len,\n",
    "                            atom_fea_len=atom_fea_len,\n",
    "                            n_conv=n_conv,\n",
    "                            h_fea_len=h_fea_len,\n",
    "                            n_h=n_h, option='C')"
   ]
  },
  {
   "cell_type": "code",
   "execution_count": 56,
   "id": "insured-corporation",
   "metadata": {
    "id": "27a259a5"
   },
   "outputs": [],
   "source": [
    "# set hyperparameters\n",
    "epochs = 15\n",
    "criterion = nn.MSELoss()\n",
    "lr = 0.01\n",
    "momentum = 0.9\n",
    "weight_decay = 0\n",
    "\n",
    "optimizer = optim.SGD(model.parameters(), lr,\n",
    "                              momentum=momentum,\n",
    "                              weight_decay=weight_decay)\n",
    "\n",
    "# optimizer = optim.Adam(model.parameters(), lr,\n",
    "#                         weight_decay=weight_decay)\n",
    "lr_milestones = [100]\n",
    "scheduler = MultiStepLR(optimizer, milestones=lr_milestones,\n",
    "                            gamma=0.1)"
   ]
  },
  {
   "cell_type": "code",
   "execution_count": 57,
   "id": "electric-shipping",
   "metadata": {
    "scrolled": true
   },
   "outputs": [
    {
     "name": "stdout",
     "output_type": "stream",
     "text": [
      "Epoch 0/14\n",
      "----------\n"
     ]
    },
    {
     "name": "stderr",
     "output_type": "stream",
     "text": [
      "100%|██████████████████████████████████████████████████████| 67/67 [00:15<00:00,  4.42it/s]\n"
     ]
    },
    {
     "name": "stdout",
     "output_type": "stream",
     "text": [
      "Train: \tTime 0.152\tData 0.134\tLoss 1.0064\tMAE 54.459\n"
     ]
    },
    {
     "name": "stderr",
     "output_type": "stream",
     "text": [
      "100%|████████████████████████████████████████████████████████| 9/9 [00:08<00:00,  1.06it/s]\n"
     ]
    },
    {
     "name": "stdout",
     "output_type": "stream",
     "text": [
      "Test: \tTime 0.390\tLoss 0.4892\tMAE 40.253\n",
      "Epoch 1/14\n",
      "----------\n"
     ]
    },
    {
     "name": "stderr",
     "output_type": "stream",
     "text": [
      "100%|██████████████████████████████████████████████████████| 67/67 [00:15<00:00,  4.41it/s]\n"
     ]
    },
    {
     "name": "stdout",
     "output_type": "stream",
     "text": [
      "Train: \tTime 0.152\tData 0.134\tLoss 0.6307\tMAE 39.189\n"
     ]
    },
    {
     "name": "stderr",
     "output_type": "stream",
     "text": [
      "100%|████████████████████████████████████████████████████████| 9/9 [00:08<00:00,  1.08it/s]\n"
     ]
    },
    {
     "name": "stdout",
     "output_type": "stream",
     "text": [
      "Test: \tTime 0.373\tLoss 0.8308\tMAE 51.584\n",
      "Epoch 2/14\n",
      "----------\n"
     ]
    },
    {
     "name": "stderr",
     "output_type": "stream",
     "text": [
      "100%|██████████████████████████████████████████████████████| 67/67 [00:15<00:00,  4.35it/s]\n"
     ]
    },
    {
     "name": "stdout",
     "output_type": "stream",
     "text": [
      "Train: \tTime 0.155\tData 0.136\tLoss 0.6201\tMAE 38.471\n"
     ]
    },
    {
     "name": "stderr",
     "output_type": "stream",
     "text": [
      "100%|████████████████████████████████████████████████████████| 9/9 [00:08<00:00,  1.10it/s]\n"
     ]
    },
    {
     "name": "stdout",
     "output_type": "stream",
     "text": [
      "Test: \tTime 0.357\tLoss 0.4942\tMAE 35.135\n",
      "Epoch 3/14\n",
      "----------\n"
     ]
    },
    {
     "name": "stderr",
     "output_type": "stream",
     "text": [
      "100%|██████████████████████████████████████████████████████| 67/67 [00:14<00:00,  4.56it/s]\n"
     ]
    },
    {
     "name": "stdout",
     "output_type": "stream",
     "text": [
      "Train: \tTime 0.145\tData 0.127\tLoss 0.5625\tMAE 36.203\n"
     ]
    },
    {
     "name": "stderr",
     "output_type": "stream",
     "text": [
      "100%|████████████████████████████████████████████████████████| 9/9 [00:08<00:00,  1.11it/s]\n"
     ]
    },
    {
     "name": "stdout",
     "output_type": "stream",
     "text": [
      "Test: \tTime 0.342\tLoss 0.5425\tMAE 40.618\n",
      "Epoch 4/14\n",
      "----------\n"
     ]
    },
    {
     "name": "stderr",
     "output_type": "stream",
     "text": [
      "100%|██████████████████████████████████████████████████████| 67/67 [00:14<00:00,  4.59it/s]\n"
     ]
    },
    {
     "name": "stdout",
     "output_type": "stream",
     "text": [
      "Train: \tTime 0.143\tData 0.125\tLoss 0.6808\tMAE 43.837\n"
     ]
    },
    {
     "name": "stderr",
     "output_type": "stream",
     "text": [
      "100%|████████████████████████████████████████████████████████| 9/9 [00:08<00:00,  1.12it/s]\n"
     ]
    },
    {
     "name": "stdout",
     "output_type": "stream",
     "text": [
      "Test: \tTime 0.340\tLoss 0.4754\tMAE 41.545\n",
      "Epoch 5/14\n",
      "----------\n"
     ]
    },
    {
     "name": "stderr",
     "output_type": "stream",
     "text": [
      "100%|██████████████████████████████████████████████████████| 67/67 [00:14<00:00,  4.65it/s]\n"
     ]
    },
    {
     "name": "stdout",
     "output_type": "stream",
     "text": [
      "Train: \tTime 0.140\tData 0.123\tLoss 0.5892\tMAE 37.267\n"
     ]
    },
    {
     "name": "stderr",
     "output_type": "stream",
     "text": [
      "100%|████████████████████████████████████████████████████████| 9/9 [00:08<00:00,  1.11it/s]\n"
     ]
    },
    {
     "name": "stdout",
     "output_type": "stream",
     "text": [
      "Test: \tTime 0.344\tLoss 0.4730\tMAE 44.930\n",
      "Epoch 6/14\n",
      "----------\n"
     ]
    },
    {
     "name": "stderr",
     "output_type": "stream",
     "text": [
      "100%|██████████████████████████████████████████████████████| 67/67 [00:14<00:00,  4.62it/s]\n"
     ]
    },
    {
     "name": "stdout",
     "output_type": "stream",
     "text": [
      "Train: \tTime 0.142\tData 0.125\tLoss 0.4989\tMAE 34.169\n"
     ]
    },
    {
     "name": "stderr",
     "output_type": "stream",
     "text": [
      "100%|████████████████████████████████████████████████████████| 9/9 [00:08<00:00,  1.11it/s]\n"
     ]
    },
    {
     "name": "stdout",
     "output_type": "stream",
     "text": [
      "Test: \tTime 0.347\tLoss 0.6255\tMAE 43.453\n",
      "Epoch 7/14\n",
      "----------\n"
     ]
    },
    {
     "name": "stderr",
     "output_type": "stream",
     "text": [
      "100%|██████████████████████████████████████████████████████| 67/67 [00:14<00:00,  4.59it/s]\n"
     ]
    },
    {
     "name": "stdout",
     "output_type": "stream",
     "text": [
      "Train: \tTime 0.143\tData 0.125\tLoss 0.5025\tMAE 33.486\n"
     ]
    },
    {
     "name": "stderr",
     "output_type": "stream",
     "text": [
      "100%|████████████████████████████████████████████████████████| 9/9 [00:08<00:00,  1.11it/s]\n"
     ]
    },
    {
     "name": "stdout",
     "output_type": "stream",
     "text": [
      "Test: \tTime 0.342\tLoss 0.4627\tMAE 42.370\n",
      "Epoch 8/14\n",
      "----------\n"
     ]
    },
    {
     "name": "stderr",
     "output_type": "stream",
     "text": [
      "100%|██████████████████████████████████████████████████████| 67/67 [00:14<00:00,  4.65it/s]\n"
     ]
    },
    {
     "name": "stdout",
     "output_type": "stream",
     "text": [
      "Train: \tTime 0.141\tData 0.123\tLoss 0.5437\tMAE 37.471\n"
     ]
    },
    {
     "name": "stderr",
     "output_type": "stream",
     "text": [
      "100%|████████████████████████████████████████████████████████| 9/9 [00:08<00:00,  1.09it/s]\n"
     ]
    },
    {
     "name": "stdout",
     "output_type": "stream",
     "text": [
      "Test: \tTime 0.358\tLoss 0.3624\tMAE 34.468\n",
      "Epoch 9/14\n",
      "----------\n"
     ]
    },
    {
     "name": "stderr",
     "output_type": "stream",
     "text": [
      "100%|██████████████████████████████████████████████████████| 67/67 [00:15<00:00,  4.42it/s]\n"
     ]
    },
    {
     "name": "stdout",
     "output_type": "stream",
     "text": [
      "Train: \tTime 0.152\tData 0.133\tLoss 0.4624\tMAE 34.295\n"
     ]
    },
    {
     "name": "stderr",
     "output_type": "stream",
     "text": [
      "100%|████████████████████████████████████████████████████████| 9/9 [00:08<00:00,  1.09it/s]\n"
     ]
    },
    {
     "name": "stdout",
     "output_type": "stream",
     "text": [
      "Test: \tTime 0.360\tLoss 0.5160\tMAE 44.590\n",
      "Epoch 10/14\n",
      "----------\n"
     ]
    },
    {
     "name": "stderr",
     "output_type": "stream",
     "text": [
      "100%|██████████████████████████████████████████████████████| 67/67 [00:15<00:00,  4.45it/s]\n"
     ]
    },
    {
     "name": "stdout",
     "output_type": "stream",
     "text": [
      "Train: \tTime 0.150\tData 0.132\tLoss 0.4524\tMAE 34.096\n"
     ]
    },
    {
     "name": "stderr",
     "output_type": "stream",
     "text": [
      "100%|████████████████████████████████████████████████████████| 9/9 [00:08<00:00,  1.10it/s]\n"
     ]
    },
    {
     "name": "stdout",
     "output_type": "stream",
     "text": [
      "Test: \tTime 0.352\tLoss 0.4712\tMAE 38.107\n",
      "Epoch 11/14\n",
      "----------\n"
     ]
    },
    {
     "name": "stderr",
     "output_type": "stream",
     "text": [
      "100%|██████████████████████████████████████████████████████| 67/67 [00:15<00:00,  4.34it/s]\n"
     ]
    },
    {
     "name": "stdout",
     "output_type": "stream",
     "text": [
      "Train: \tTime 0.156\tData 0.137\tLoss 0.4972\tMAE 34.538\n"
     ]
    },
    {
     "name": "stderr",
     "output_type": "stream",
     "text": [
      "100%|████████████████████████████████████████████████████████| 9/9 [00:08<00:00,  1.09it/s]\n"
     ]
    },
    {
     "name": "stdout",
     "output_type": "stream",
     "text": [
      "Test: \tTime 0.359\tLoss 0.4282\tMAE 41.406\n",
      "Epoch 12/14\n",
      "----------\n"
     ]
    },
    {
     "name": "stderr",
     "output_type": "stream",
     "text": [
      "100%|██████████████████████████████████████████████████████| 67/67 [00:14<00:00,  4.49it/s]\n"
     ]
    },
    {
     "name": "stdout",
     "output_type": "stream",
     "text": [
      "Train: \tTime 0.148\tData 0.130\tLoss 0.4260\tMAE 33.708\n"
     ]
    },
    {
     "name": "stderr",
     "output_type": "stream",
     "text": [
      "100%|████████████████████████████████████████████████████████| 9/9 [00:08<00:00,  1.07it/s]\n"
     ]
    },
    {
     "name": "stdout",
     "output_type": "stream",
     "text": [
      "Test: \tTime 0.379\tLoss 0.4729\tMAE 39.687\n",
      "Epoch 13/14\n",
      "----------\n"
     ]
    },
    {
     "name": "stderr",
     "output_type": "stream",
     "text": [
      "100%|██████████████████████████████████████████████████████| 67/67 [00:15<00:00,  4.35it/s]\n"
     ]
    },
    {
     "name": "stdout",
     "output_type": "stream",
     "text": [
      "Train: \tTime 0.155\tData 0.136\tLoss 0.4054\tMAE 32.457\n"
     ]
    },
    {
     "name": "stderr",
     "output_type": "stream",
     "text": [
      "100%|████████████████████████████████████████████████████████| 9/9 [00:08<00:00,  1.07it/s]\n"
     ]
    },
    {
     "name": "stdout",
     "output_type": "stream",
     "text": [
      "Test: \tTime 0.376\tLoss 0.4878\tMAE 34.728\n",
      "Epoch 14/14\n",
      "----------\n"
     ]
    },
    {
     "name": "stderr",
     "output_type": "stream",
     "text": [
      "100%|██████████████████████████████████████████████████████| 67/67 [00:15<00:00,  4.37it/s]\n"
     ]
    },
    {
     "name": "stdout",
     "output_type": "stream",
     "text": [
      "Train: \tTime 0.154\tData 0.136\tLoss 0.4295\tMAE 32.980\n"
     ]
    },
    {
     "name": "stderr",
     "output_type": "stream",
     "text": [
      "100%|████████████████████████████████████████████████████████| 9/9 [00:08<00:00,  1.08it/s]"
     ]
    },
    {
     "name": "stdout",
     "output_type": "stream",
     "text": [
      "Test: \tTime 0.371\tLoss 0.5453\tMAE 44.563\n"
     ]
    },
    {
     "name": "stderr",
     "output_type": "stream",
     "text": [
      "\n"
     ]
    }
   ],
   "source": [
    "running_record = {'train_loss': [], 'train_mae': [],\n",
    "                    'val_loss': [], 'val_mae': []}\n",
    "\n",
    "for epoch in range(epochs):\n",
    "    print('Epoch {}/{}'.format(epoch, epochs - 1))\n",
    "    print('-' * 10)\n",
    "    \n",
    "    best_mae_error = 1e10\n",
    "    # train for one epoch\n",
    "    train_loss, train_mae = train(train_loader, model, criterion, optimizer, epoch, normalizer)\n",
    "\n",
    "    # evaluate on validation set\n",
    "    val_loss, val_mae = validate(val_loader, model, criterion, normalizer)\n",
    "\n",
    "    # append loss and mae to running record. Convert tensor to float if necessary\n",
    "    running_record['train_loss'].append(train_loss)\n",
    "    running_record['train_mae'].append(train_mae)\n",
    "    running_record['val_loss'].append(val_loss)\n",
    "    running_record['val_mae'].append(val_mae)\n",
    "\n",
    "\n",
    "    if val_mae != val_mae:\n",
    "        print('Exit due to NaN')\n",
    "        sys.exit(1)\n",
    "\n",
    "    scheduler.step()\n",
    "\n",
    "    # remember the best mae_eror and save checkpoint\n",
    "    is_best = val_mae < best_mae_error\n",
    "    best_mae_error = min(val_mae, best_mae_error)\n",
    "\n",
    "    save_checkpoint({\n",
    "        'epoch': epoch + 1,\n",
    "        'state_dict': model.state_dict(),\n",
    "        'best_mae_error': best_mae_error,\n",
    "        'optimizer': optimizer.state_dict(),\n",
    "        'normalizer': normalizer.state_dict(),\n",
    "    }, is_best)\n"
   ]
  },
  {
   "cell_type": "code",
   "execution_count": 58,
   "id": "frequent-checklist",
   "metadata": {
    "colab": {
     "base_uri": "https://localhost:8080/"
    },
    "id": "34297460",
    "outputId": "fee9373d-e0dc-4180-c1bf-086c60359026"
   },
   "outputs": [
    {
     "name": "stdout",
     "output_type": "stream",
     "text": [
      "---------Evaluate Model on Test Set---------------\n"
     ]
    },
    {
     "name": "stderr",
     "output_type": "stream",
     "text": [
      "100%|████████████████████████████████████████████████████████| 9/9 [00:08<00:00,  1.06it/s]"
     ]
    },
    {
     "name": "stdout",
     "output_type": "stream",
     "text": [
      "Test: \tTime 0.388\tLoss 1.2353\tMAE 53.129\n"
     ]
    },
    {
     "name": "stderr",
     "output_type": "stream",
     "text": [
      "\n"
     ]
    }
   ],
   "source": [
    "# test best model\n",
    "print('---------Evaluate Model on Test Set---------------')\n",
    "best_checkpoint = torch.load('model_best.pth.tar')\n",
    "model.load_state_dict(best_checkpoint['state_dict'])\n",
    "_, l=validate(test_loader, model, criterion, normalizer, test=True)"
   ]
  },
  {
   "cell_type": "code",
   "execution_count": 59,
   "id": "inner-tribe",
   "metadata": {
    "id": "a462976b"
   },
   "outputs": [
    {
     "data": {
      "image/png": "[encoded data removed]",
      "text/plain": [
       "<Figure size 576x360 with 2 Axes>"
      ]
     },
     "metadata": {
      "needs_background": "light"
     },
     "output_type": "display_data"
    }
   ],
   "source": [
    "# visualize the training and val loss \n",
    "# visualize the training and val mae\n",
    "import matplotlib.pyplot as plt\n",
    "from matplotlib.ticker import MaxNLocator\n",
    "\n",
    "fig, ax = plt.subplots(1, 2, figsize=(8, 5))\n",
    "ax[0].plot(running_record['train_loss'], label='train')\n",
    "ax[0].plot(running_record['val_loss'], label='val')\n",
    "ax[0].set_xlabel('Epoch')\n",
    "ax[0].set_ylabel('Loss')\n",
    "ax[0].legend()\n",
    "ax[0].set_title('Loss')\n",
    "# set x axis to be integer\n",
    "ax[0].xaxis.set_major_locator(MaxNLocator(integer=True))\n",
    "\n",
    "ax[1].plot(running_record['train_mae'], label='train')\n",
    "ax[1].plot(running_record['val_mae'], label='val')\n",
    "ax[1].set_xlabel('Epoch')\n",
    "ax[1].set_ylabel('MAE')\n",
    "ax[1].legend()\n",
    "ax[1].set_title('MAE')\n",
    "# set x axis to be integer\n",
    "ax[1].xaxis.set_major_locator(MaxNLocator(integer=True))\n",
    "\n",
    "plt.tight_layout()\n",
    "plt.show()"
   ]
  },
  {
   "cell_type": "code",
   "execution_count": null,
   "id": "funded-chester",
   "metadata": {},
   "outputs": [],
   "source": []
  }
 ],
 "metadata": {
  "colab": {
   "provenance": []
  },
  "kernelspec": {
   "display_name": "cvx",
   "language": "python",
   "name": "cvx"
  },
  "language_info": {
   "codemirror_mode": {
    "name": "ipython",
    "version": 3
   },
   "file_extension": ".py",
   "mimetype": "text/x-python",
   "name": "python",
   "nbconvert_exporter": "python",
   "pygments_lexer": "ipython3",
   "version": "3.9.12"
  }
 },
 "nbformat": 4,
 "nbformat_minor": 5
}
